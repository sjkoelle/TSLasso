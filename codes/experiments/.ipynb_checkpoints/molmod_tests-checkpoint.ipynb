{
 "cells": [
  {
   "cell_type": "code",
   "execution_count": 19,
   "metadata": {},
   "outputs": [],
   "source": [
    "import molmod\n",
    "import scipy.io"
   ]
  },
  {
   "cell_type": "code",
   "execution_count": 40,
   "metadata": {},
   "outputs": [
    {
     "name": "stdout",
     "output_type": "stream",
     "text": [
      "Help on function opbend_angle in module molmod.ic:\n",
      "\n",
      "opbend_angle(rs, deriv=0)\n",
      "    Compute the angle between the vector rs[0], rs[3] and the plane rs[0], rs[1], rs[2]\n",
      "    \n",
      "    The sign convention is as follows: positive if rs[3] lies in the space\n",
      "    above plane rs[0], rs[1], rs[2] and negative if rs[3] lies below. Above\n",
      "    is defined by right hand rule from rs[0]-rs[1] to rs[0]-rs[2].\n",
      "    \n",
      "    Arguments:\n",
      "     | ``rs``  --  four numpy array with three elements\n",
      "     | ``deriv``  --  the derivatives to be computed: 0, 1 or 2 [default=0]\n",
      "    \n",
      "    When no derivatives are computed a tuple with a single result is returned.\n",
      "\n"
     ]
    }
   ],
   "source": [
    "help(molmod.ic.opbend_angle)"
   ]
  },
  {
   "cell_type": "code",
   "execution_count": 39,
   "metadata": {},
   "outputs": [
    {
     "name": "stdout",
     "output_type": "stream",
     "text": [
      "Help on module molmod.periodic in molmod:\n",
      "\n",
      "NAME\n",
      "    molmod.periodic - Database containing the periodic table\n",
      "\n",
      "DESCRIPTION\n",
      "    An object of the ``PeriodicData`` class centralizes information about the\n",
      "    periodic system. The data is loaded during initialization of this\n",
      "    module and accessiable through the ``periodic`` instance, which acts like\n",
      "    a container::\n",
      "    \n",
      "    >>> from molmod.periodic import periodic\n",
      "    >>> print periodic[1].mass\n",
      "    >>> print periodic[\"C\"].vdw_radius\n",
      "    >>> print len(periodic)\n",
      "\n",
      "CLASSES\n",
      "    builtins.object\n",
      "        AtomInfo\n",
      "        PeriodicData\n",
      "    \n",
      "    class AtomInfo(builtins.object)\n",
      "     |  Data structure for info about an atom\n",
      "     |  \n",
      "     |  Data descriptors defined here:\n",
      "     |  \n",
      "     |  __dict__\n",
      "     |      dictionary for instance variables (if defined)\n",
      "     |  \n",
      "     |  __weakref__\n",
      "     |      list of weak references to the object (if defined)\n",
      "    \n",
      "    class PeriodicData(builtins.object)\n",
      "     |  The entire periodic system\n",
      "     |  \n",
      "     |  Methods defined here:\n",
      "     |  \n",
      "     |  __getitem__(self, index)\n",
      "     |  \n",
      "     |  __init__(self)\n",
      "     |      This object is created when importing this module. There is no need\n",
      "     |      to do it a second time manually.\n",
      "     |  \n",
      "     |  __len__(self)\n",
      "     |  \n",
      "     |  iter_numbers(self)\n",
      "     |      Iterate over all atom numbers in the periodic system\n",
      "     |      \n",
      "     |      Usage::\n",
      "     |      \n",
      "     |       >>> from molmod.periodic import periodic\n",
      "     |       >>> for number in periodic.iter_numbers():\n",
      "     |       ...     print number, periodic[number].mass\n",
      "     |  \n",
      "     |  ----------------------------------------------------------------------\n",
      "     |  Data descriptors defined here:\n",
      "     |  \n",
      "     |  __dict__\n",
      "     |      dictionary for instance variables (if defined)\n",
      "     |  \n",
      "     |  __weakref__\n",
      "     |      list of weak references to the object (if defined)\n",
      "\n",
      "DATA\n",
      "    __all__ = ['AtomInfo', 'PeriodicData', 'periodic']\n",
      "    periodic = <molmod.periodic.PeriodicData object>\n",
      "\n",
      "FILE\n",
      "    /Users/samsonkoelle/anaconda3/envs/py35021518/lib/python3.5/site-packages/molmod/periodic.py\n",
      "\n",
      "\n"
     ]
    }
   ],
   "source": [
    "help(periodic)"
   ]
  },
  {
   "cell_type": "code",
   "execution_count": 22,
   "metadata": {
    "collapsed": true
   },
   "outputs": [],
   "source": [
    "filename_xyz = '/Users/samsonkoelle/Downloads/manigrad-100818/mani-samk-gradients/untracked_data/chemistry_data/toluene.mat'"
   ]
  },
  {
   "cell_type": "code",
   "execution_count": 124,
   "metadata": {
    "collapsed": true
   },
   "outputs": [],
   "source": [
    "mol = molmod.Molecule"
   ]
  },
  {
   "cell_type": "code",
   "execution_count": 25,
   "metadata": {},
   "outputs": [],
   "source": [
    "data_xyz_io = scipy.io.loadmat(filename_xyz)"
   ]
  },
  {
   "cell_type": "code",
   "execution_count": 26,
   "metadata": {
    "collapsed": true
   },
   "outputs": [],
   "source": [
    "data_xyz = data_xyz_io['R']"
   ]
  },
  {
   "cell_type": "code",
   "execution_count": 125,
   "metadata": {
    "collapsed": true
   },
   "outputs": [],
   "source": [
    "mol.coordinates = data_xyz[0]"
   ]
  },
  {
   "cell_type": "code",
   "execution_count": 126,
   "metadata": {},
   "outputs": [],
   "source": [
    "mol.numbers= np.zeros(15)"
   ]
  },
  {
   "cell_type": "code",
   "execution_count": 54,
   "metadata": {},
   "outputs": [],
   "source": [
    "little_dataset = np.zeros((4,3))\n",
    "little_dataset[1,0] = 1.\n",
    "little_dataset[2,1] = 1.\n",
    "little_dataset[3,2] = 1."
   ]
  },
  {
   "cell_type": "code",
   "execution_count": 55,
   "metadata": {},
   "outputs": [
    {
     "data": {
      "text/plain": [
       "(1.7320508075688772, array([[-0.57735027, -0.57735027, -0.57735027],\n",
       "        [ 0.57735027,  0.57735027,  0.57735027]]), array([[[[ 0.38490018, -0.19245009, -0.19245009],\n",
       "          [-0.38490018,  0.19245009,  0.19245009]],\n",
       " \n",
       "         [[-0.19245009,  0.38490018, -0.19245009],\n",
       "          [ 0.19245009, -0.38490018,  0.19245009]],\n",
       " \n",
       "         [[-0.19245009, -0.19245009,  0.38490018],\n",
       "          [ 0.19245009,  0.19245009, -0.38490018]]],\n",
       " \n",
       " \n",
       "        [[[-0.38490018,  0.19245009,  0.19245009],\n",
       "          [ 0.38490018, -0.19245009, -0.19245009]],\n",
       " \n",
       "         [[ 0.19245009, -0.38490018,  0.19245009],\n",
       "          [-0.19245009,  0.38490018, -0.19245009]],\n",
       " \n",
       "         [[ 0.19245009,  0.19245009, -0.38490018],\n",
       "          [-0.19245009, -0.19245009,  0.38490018]]]]))"
      ]
     },
     "execution_count": 55,
     "metadata": {},
     "output_type": "execute_result"
    }
   ],
   "source": [
    "molmod.ic.pair_distance(np.asarray([np.zeros(3), np.ones(3)]), deriv=2)"
   ]
  },
  {
   "cell_type": "code",
   "execution_count": 64,
   "metadata": {
    "collapsed": true
   },
   "outputs": [],
   "source": [
    "import torch"
   ]
  },
  {
   "cell_type": "code",
   "execution_count": 65,
   "metadata": {
    "collapsed": true
   },
   "outputs": [],
   "source": [
    "    def torchComputeAngle(poses):\n",
    "        combos = torch.tensor([[0, 1], [1, 2], [2, 0]])\n",
    "        ab = torch.norm(poses[combos[0, 0], :] - poses[combos[0, 1], :])\n",
    "        bc = torch.norm(poses[combos[1, 0], :] - poses[combos[1, 1], :])\n",
    "        ca = torch.norm(poses[combos[2, 0], :] - poses[combos[2, 1], :])\n",
    "        output = torch.acos((ab ** 2 - bc ** 2 + ca ** 2) / (2 * ab * ca))\n",
    "        return (output)\n",
    "\n",
    "    def torchCompute3angles(position):\n",
    "        angles = np.ones(3)\n",
    "        gradients = np.zeros((3, position.shape[0], 3))\n",
    "        for i in range(3):\n",
    "            #print(i)\n",
    "            poses = torch.tensor(position[[i, (i + 1) % 3, (i + 2) % 3], :], requires_grad=True)\n",
    "            tempang = torchComputeAngle(poses)\n",
    "            tempang.backward()\n",
    "            angles[i] = tempang.detach().numpy()\n",
    "            gradients[i] = poses.grad[[(2 * i) % 3, (2 * i + 1) % 3, (2 * i + 2) % 3], :]\n",
    "            # del(poses)\n",
    "        return(angles, gradients)"
   ]
  },
  {
   "cell_type": "code",
   "execution_count": 68,
   "metadata": {},
   "outputs": [],
   "source": [
    "jac = torchCompute3angles(little_dataset[0:3])[1]"
   ]
  },
  {
   "cell_type": "code",
   "execution_count": 69,
   "metadata": {},
   "outputs": [
    {
     "data": {
      "text/plain": [
       "array([[[ 3.33333333e-01,  3.33333333e-01, -6.66666667e-01],\n",
       "        [ 3.33333333e-01, -6.66666667e-01,  3.33333333e-01],\n",
       "        [ 0.00000000e+00,  0.00000000e+00,  0.00000000e+00]],\n",
       "\n",
       "       [[ 0.00000000e+00, -1.00000000e+00,  1.00000000e+00],\n",
       "        [-6.66666667e-01,  3.33333333e-01,  3.33333333e-01],\n",
       "        [ 0.00000000e+00,  0.00000000e+00,  0.00000000e+00]],\n",
       "\n",
       "       [[-6.66666667e-01,  3.33333333e-01,  3.33333333e-01],\n",
       "        [ 7.13016896e-17,  1.00000000e+00, -1.00000000e+00],\n",
       "        [ 0.00000000e+00,  0.00000000e+00,  0.00000000e+00]]])"
      ]
     },
     "execution_count": 69,
     "metadata": {},
     "output_type": "execute_result"
    }
   ],
   "source": [
    "np.linalg.pinv(jac)"
   ]
  },
  {
   "cell_type": "code",
   "execution_count": 70,
   "metadata": {},
   "outputs": [
    {
     "data": {
      "text/plain": [
       "(0.9553166181245095,\n",
       " array([[-7.85046229e-17, -7.85046229e-17, -1.41421356e+00],\n",
       "        [-2.35702260e-01, -2.35702260e-01,  4.71404521e-01],\n",
       "        [-2.35702260e-01, -2.35702260e-01,  4.71404521e-01],\n",
       "        [ 4.71404521e-01,  4.71404521e-01,  4.71404521e-01]]))"
      ]
     },
     "execution_count": 70,
     "metadata": {},
     "output_type": "execute_result"
    }
   ],
   "source": [
    "molmod.ic.dihed_angle(little_dataset, deriv = 1)"
   ]
  },
  {
   "cell_type": "code",
   "execution_count": 29,
   "metadata": {
    "collapsed": true
   },
   "outputs": [],
   "source": [
    "from molmod import *"
   ]
  },
  {
   "cell_type": "code",
   "execution_count": 38,
   "metadata": {},
   "outputs": [
    {
     "name": "stdout",
     "output_type": "stream",
     "text": [
      "Help on function bond_length in module molmod.ic:\n",
      "\n",
      "bond_length(rs, deriv=0)\n",
      "    Compute the distance between the two points rs[0] and rs[1]\n",
      "    \n",
      "    Arguments:\n",
      "     | ``rs``  --  two numpy array with three elements\n",
      "     | ``deriv``  --  the derivatives to be computed: 0, 1 or 2 [default=0]\n",
      "    \n",
      "    When derivatives are computed a tuple with a single result is returned\n",
      "\n"
     ]
    }
   ],
   "source": [
    "help(bond_length)"
   ]
  },
  {
   "cell_type": "code",
   "execution_count": 30,
   "metadata": {},
   "outputs": [],
   "source": [
    "d = bond_length(asdf.coordinates[[1, 20]])[0]"
   ]
  },
  {
   "cell_type": "code",
   "execution_count": 33,
   "metadata": {},
   "outputs": [
    {
     "data": {
      "text/plain": [
       "(2, 15, 3)"
      ]
     },
     "execution_count": 33,
     "metadata": {},
     "output_type": "execute_result"
    }
   ],
   "source": [
    "asdf.coordinates[[1, 20]].shape"
   ]
  },
  {
   "cell_type": "code",
   "execution_count": 31,
   "metadata": {},
   "outputs": [
    {
     "data": {
      "text/plain": [
       "array([0.06082644, 0.03669023, 0.14052668])"
      ]
     },
     "execution_count": 31,
     "metadata": {},
     "output_type": "execute_result"
    }
   ],
   "source": [
    "d"
   ]
  },
  {
   "cell_type": "code",
   "execution_count": 4,
   "metadata": {},
   "outputs": [],
   "source": [
    "#import sys\n",
    "#!{sys.executable} -m pip install molmod"
   ]
  },
  {
   "cell_type": "code",
   "execution_count": null,
   "metadata": {
    "collapsed": true
   },
   "outputs": [],
   "source": [
    "from molmod.periodic import periodic\n",
    "\n",
    "symbol_to_z = lambda symbol: periodic[symbol].number\n",
    "z_to_symbol = lambda atomic_num: periodic[atomic_num].symbol\n",
    "\n",
    "# Read geometry file (xyz format).\n",
    "# R: (n_geo,3*n_atoms)\n",
    "# z: (3*n_atoms,)\n",
    "def read_xyz(f):\n",
    "\n",
    "    n_atoms = None\n",
    "\n",
    "    R,z = [],[]\n",
    "    for i,line in enumerate(f):\n",
    "        line = line.strip()\n",
    "        if not n_atoms:\n",
    "            n_atoms = int(line)\n",
    "\n",
    "        cols = line.split()\n",
    "        file_i, line_i = divmod(i, n_atoms+2)\n",
    "        if line_i >= 2:\n",
    "            R.append(list(map(float,cols[1:4])))\n",
    "            if file_i == 0: # first molecule\n",
    "                z.append(symbol_to_z(cols[0]))\n",
    "\n",
    "\n",
    "    R = np.array(R).reshape(-1,n_atoms,3)\n",
    "    z = np.array(z)\n",
    "\n",
    "    name = f.name\n",
    "\n",
    "    f.close()\n",
    "    return R,z,name\n"
   ]
  },
  {
   "cell_type": "code",
   "execution_count": 95,
   "metadata": {},
   "outputs": [],
   "source": [
    "from __future__ import print_function\n",
    "\n",
    "import numpy\n",
    "\n",
    "from molmod import *\n",
    "from molmod.io import FCHKFile\n",
    "\n",
    "\n",
    "class InternalCoordinate(object):\n",
    "    \"\"\"Abstract base class for all internal coordinates.\"\"\"\n",
    "    def __init__(self, indexes, icfn, conversion=1.0):\n",
    "        \"\"\"\n",
    "           Arguments:\n",
    "            | ``indexes`` -- The indexes of the atoms in the internal\n",
    "                             coordinate. The order must be the same as the order\n",
    "                             of the mandatory arguments of icfn.\n",
    "            | ``icfn`` -- a function from molmod.ic that can compute the\n",
    "                          internal coordinate and its derivatives.\n",
    "            | ``conversion`` -- In case the internal coordinate does not have a\n",
    "                                unit of length, then this conversion factor is\n",
    "                                used to convert it to a length unit. This way,\n",
    "                                the Jacobian becomes a dimensionless constant.\n",
    "\n",
    "           All the Jacobian-logic is implemented in this abstract class.\n",
    "        \"\"\"\n",
    "        self.indexes = indexes\n",
    "        self.icfn = icfn\n",
    "        self.conversion = conversion\n",
    "\n",
    "    def fill_jacobian_column(self, jaccol, coordinates):\n",
    "        \"\"\"Fill in a column of the Jacobian.\n",
    "\n",
    "           Arguments:\n",
    "            | ``jaccol`` -- The column of Jacobian to which the result must be\n",
    "                            added.\n",
    "            | ``coordinates`` -- A numpy array with Cartesian coordinates,\n",
    "                                 shape=(N,3)\n",
    "        \"\"\"\n",
    "        q, g = self.icfn(coordinates[list(self.indexes)], 1)\n",
    "        for i, j in enumerate(self.indexes):\n",
    "            jaccol[3*j:3*j+3] += g[i]\n",
    "        return jaccol\n",
    "\n",
    "\n",
    "class BondLength(InternalCoordinate):\n",
    "    def __init__(self, i0, i1):\n",
    "        InternalCoordinate.__init__(self, (i0, i1), bond_length)\n",
    "\n",
    "\n",
    "class BendingAngle(InternalCoordinate):\n",
    "    def __init__(self, i0, i1, i2):\n",
    "        InternalCoordinate.__init__(self, (i0, i1, i2), bend_angle, angstrom/(5*deg))\n",
    "\n",
    "\n",
    "class DihedralAngle(InternalCoordinate):\n",
    "    def __init__(self, i0, i1, i2, i3):\n",
    "        InternalCoordinate.__init__(self, (i0, i1, i2, i3), dihed_angle, angstrom/(5*deg))\n",
    "\n",
    "\n",
    "def setup_ics(graph):\n",
    "    \"\"\"Make a list of internal coordinates based on the graph\n",
    "\n",
    "       Argument:\n",
    "        | ``graph`` -- A Graph instance.\n",
    "\n",
    "       The list of internal coordinates will include all bond lengths, all\n",
    "       bending angles, and all dihedral angles.\n",
    "    \"\"\"\n",
    "    ics = []\n",
    "    # A) Collect all bonds.\n",
    "    #for i0, i1 in graph.edges:\n",
    "    #    ics.append(BondLength(i0, i1))\n",
    "    # B) Collect all bends. (see b_bending_angles.py for the explanation)\n",
    "    for i1 in range(graph.num_vertices):\n",
    "        n = list(graph.neighbors[i1])\n",
    "        for index, i0 in enumerate(n):\n",
    "            for i2 in n[:index]:\n",
    "                ics.append(BendingAngle(i0, i1, i2))\n",
    "    # C) Collect all dihedrals.\n",
    "#     for i1, i2 in graph.edges:\n",
    "#         for i0 in graph.neighbors[i1]:\n",
    "#             if i0==i2:\n",
    "#                 # All four indexes must be different.\n",
    "#                 continue\n",
    "#             for i3 in graph.neighbors[i2]:\n",
    "#                 if i3==i1 or i3==i0:\n",
    "#                     # All four indexes must be different.\n",
    "#                     continue\n",
    "#                 ics.append(DihedralAngle(i0, i1, i2, i3))\n",
    "    return ics\n",
    "\n",
    "\n",
    "def compute_jacobian(ics, coordinates):\n",
    "    \"\"\"Construct a Jacobian for the given internal and Cartesian coordinates\n",
    "\n",
    "       Arguments:\n",
    "        | ``ics`` -- A list of internal coordinate objects.\n",
    "        | ``coordinates`` -- A numpy array with Cartesian coordinates,\n",
    "                             shape=(N,3)\n",
    "\n",
    "       The return value will be a numpy array with the Jacobian matrix. There\n",
    "       will be a column for each internal coordinate, and a row for each\n",
    "       Cartesian coordinate (3*N rows).\n",
    "    \"\"\"\n",
    "    N3 = coordinates.size\n",
    "    jacobian = numpy.zeros((N3, len(ics)), float)\n",
    "    for j, ic in enumerate(ics):\n",
    "        # Let the ic object fill in each column of the Jacobian.\n",
    "        ic.fill_jacobian_column(jacobian[:,j], coordinates)\n",
    "    return jacobian\n",
    "\n",
    "\n",
    "\n",
    "# Load the formatted checkpoint file with the frequency computation. This\n",
    "# file also contains the atomic numbers and the coordinates of the atoms,\n",
    "# and therefore one can access the dopamine molecule object through\n",
    "# fchk.molecule.\n",
    "fchk = FCHKFile(\"/Users/samsonkoelle/Desktop/dopamine.fchk\")\n",
    "\n"
   ]
  },
  {
   "cell_type": "code",
   "execution_count": 97,
   "metadata": {
    "collapsed": true
   },
   "outputs": [],
   "source": [
    "fchk.molecule.graph"
   ]
  },
  {
   "cell_type": "code",
   "execution_count": 146,
   "metadata": {},
   "outputs": [],
   "source": [
    "mol.unit_cell = None"
   ]
  },
  {
   "cell_type": "code",
   "execution_count": 150,
   "metadata": {
    "collapsed": true
   },
   "outputs": [],
   "source": [
    "mol = Molecule.from_file(\"/Users/samsonkoelle/Desktop/caffeine.xyz\")"
   ]
  },
  {
   "cell_type": "code",
   "execution_count": 151,
   "metadata": {},
   "outputs": [],
   "source": [
    "assert(mol.graph is None)"
   ]
  },
  {
   "cell_type": "code",
   "execution_count": 148,
   "metadata": {},
   "outputs": [
    {
     "name": "stderr",
     "output_type": "stream",
     "text": [
      "/Users/samsonkoelle/anaconda3/envs/py35021518/lib/python3.5/site-packages/molmod/utils.py:228: FutureWarning: Conversion of the second argument of issubdtype from `float` to `np.floating` is deprecated. In future, it will be treated as `np.float64 == np.dtype(float).type`.\n",
      "  if not np.issubdtype(value.dtype, self.npdtype):\n",
      "/Users/samsonkoelle/anaconda3/envs/py35021518/lib/python3.5/site-packages/molmod/utils.py:228: FutureWarning: Conversion of the second argument of issubdtype from `bool` to `np.generic` is deprecated. In future, it will be treated as `np.bool_ == np.dtype(bool).type`.\n",
      "  if not np.issubdtype(value.dtype, self.npdtype):\n",
      "/Users/samsonkoelle/anaconda3/envs/py35021518/lib/python3.5/site-packages/molmod/utils.py:228: FutureWarning: Conversion of the second argument of issubdtype from `int` to `np.signedinteger` is deprecated. In future, it will be treated as `np.int64 == np.dtype(int).type`.\n",
      "  if not np.issubdtype(value.dtype, self.npdtype):\n"
     ]
    },
    {
     "ename": "TypeError",
     "evalue": "'ReadOnlyAttribute' object is not iterable",
     "output_type": "error",
     "traceback": [
      "\u001b[0;31m---------------------------------------------------------------------------\u001b[0m",
      "\u001b[0;31mTypeError\u001b[0m                                 Traceback (most recent call last)",
      "\u001b[0;32m<ipython-input-148-4100a8183fcd>\u001b[0m in \u001b[0;36m<module>\u001b[0;34m()\u001b[0m\n\u001b[0;32m----> 1\u001b[0;31m \u001b[0mMolecularGraph\u001b[0m\u001b[0;34m.\u001b[0m\u001b[0mfrom_geometry\u001b[0m\u001b[0;34m(\u001b[0m\u001b[0mmol\u001b[0m\u001b[0;34m,\u001b[0m \u001b[0mscaling\u001b[0m\u001b[0;34m=\u001b[0m\u001b[0;36m1.5\u001b[0m\u001b[0;34m)\u001b[0m\u001b[0;34m\u001b[0m\u001b[0m\n\u001b[0m",
      "\u001b[0;32m~/anaconda3/envs/py35021518/lib/python3.5/site-packages/molmod/molecular_graphs.py\u001b[0m in \u001b[0;36mfrom_geometry\u001b[0;34m(cls, molecule, do_orders, scaling)\u001b[0m\n\u001b[1;32m    122\u001b[0m             \u001b[0mresult\u001b[0m \u001b[0;34m=\u001b[0m \u001b[0mcls\u001b[0m\u001b[0;34m(\u001b[0m\u001b[0medges\u001b[0m\u001b[0;34m,\u001b[0m \u001b[0mmolecule\u001b[0m\u001b[0;34m.\u001b[0m\u001b[0mnumbers\u001b[0m\u001b[0;34m,\u001b[0m \u001b[0morders\u001b[0m\u001b[0;34m,\u001b[0m \u001b[0msymbols\u001b[0m\u001b[0;34m=\u001b[0m\u001b[0mmolecule\u001b[0m\u001b[0;34m.\u001b[0m\u001b[0msymbols\u001b[0m\u001b[0;34m)\u001b[0m\u001b[0;34m\u001b[0m\u001b[0m\n\u001b[1;32m    123\u001b[0m         \u001b[0;32melse\u001b[0m\u001b[0;34m:\u001b[0m\u001b[0;34m\u001b[0m\u001b[0m\n\u001b[0;32m--> 124\u001b[0;31m             \u001b[0mresult\u001b[0m \u001b[0;34m=\u001b[0m \u001b[0mcls\u001b[0m\u001b[0;34m(\u001b[0m\u001b[0medges\u001b[0m\u001b[0;34m,\u001b[0m \u001b[0mmolecule\u001b[0m\u001b[0;34m.\u001b[0m\u001b[0mnumbers\u001b[0m\u001b[0;34m,\u001b[0m \u001b[0msymbols\u001b[0m\u001b[0;34m=\u001b[0m\u001b[0mmolecule\u001b[0m\u001b[0;34m.\u001b[0m\u001b[0msymbols\u001b[0m\u001b[0;34m)\u001b[0m\u001b[0;34m\u001b[0m\u001b[0m\n\u001b[0m\u001b[1;32m    125\u001b[0m \u001b[0;34m\u001b[0m\u001b[0m\n\u001b[1;32m    126\u001b[0m         \u001b[0;31m# run a check on all neighbors. if two bonds point in a direction that\u001b[0m\u001b[0;34m\u001b[0m\u001b[0;34m\u001b[0m\u001b[0m\n",
      "\u001b[0;32m~/anaconda3/envs/py35021518/lib/python3.5/site-packages/molmod/molecular_graphs.py\u001b[0m in \u001b[0;36m__init__\u001b[0;34m(self, edges, numbers, orders, symbols, num_vertices)\u001b[0m\n\u001b[1;32m    208\u001b[0m         \u001b[0mself\u001b[0m\u001b[0;34m.\u001b[0m\u001b[0mnumbers\u001b[0m \u001b[0;34m=\u001b[0m \u001b[0mnumbers\u001b[0m\u001b[0;34m\u001b[0m\u001b[0m\n\u001b[1;32m    209\u001b[0m         \u001b[0mself\u001b[0m\u001b[0;34m.\u001b[0m\u001b[0morders\u001b[0m \u001b[0;34m=\u001b[0m \u001b[0morders\u001b[0m\u001b[0;34m\u001b[0m\u001b[0m\n\u001b[0;32m--> 210\u001b[0;31m         \u001b[0mself\u001b[0m\u001b[0;34m.\u001b[0m\u001b[0msymbols\u001b[0m \u001b[0;34m=\u001b[0m \u001b[0msymbols\u001b[0m\u001b[0;34m\u001b[0m\u001b[0m\n\u001b[0m\u001b[1;32m    211\u001b[0m \u001b[0;34m\u001b[0m\u001b[0m\n\u001b[1;32m    212\u001b[0m     \u001b[0;32mdef\u001b[0m \u001b[0m__mul__\u001b[0m\u001b[0;34m(\u001b[0m\u001b[0mself\u001b[0m\u001b[0;34m,\u001b[0m \u001b[0mrepeat\u001b[0m\u001b[0;34m)\u001b[0m\u001b[0;34m:\u001b[0m\u001b[0;34m\u001b[0m\u001b[0m\n",
      "\u001b[0;32m~/anaconda3/envs/py35021518/lib/python3.5/site-packages/molmod/utils.py\u001b[0m in \u001b[0;36m__set__\u001b[0;34m(self, instance, value, do_check)\u001b[0m\n\u001b[1;32m    201\u001b[0m         \u001b[0;32mif\u001b[0m \u001b[0mself\u001b[0m\u001b[0;34m.\u001b[0m\u001b[0mptype\u001b[0m \u001b[0;32mis\u001b[0m \u001b[0;32mnot\u001b[0m \u001b[0;32mNone\u001b[0m \u001b[0;32mand\u001b[0m \u001b[0missubclass\u001b[0m\u001b[0;34m(\u001b[0m\u001b[0mself\u001b[0m\u001b[0;34m.\u001b[0m\u001b[0mptype\u001b[0m\u001b[0;34m,\u001b[0m \u001b[0mtuple\u001b[0m\u001b[0;34m)\u001b[0m \u001b[0;32mand\u001b[0m \u001b[0mvalue\u001b[0m \u001b[0;32mis\u001b[0m \u001b[0;32mnot\u001b[0m \u001b[0;32mNone\u001b[0m\u001b[0;34m:\u001b[0m\u001b[0;34m\u001b[0m\u001b[0m\n\u001b[1;32m    202\u001b[0m             \u001b[0;31m# convert to a tuple of it is supposed one.\u001b[0m\u001b[0;34m\u001b[0m\u001b[0;34m\u001b[0m\u001b[0m\n\u001b[0;32m--> 203\u001b[0;31m             \u001b[0mvalue\u001b[0m \u001b[0;34m=\u001b[0m \u001b[0mtuple\u001b[0m\u001b[0;34m(\u001b[0m\u001b[0mvalue\u001b[0m\u001b[0;34m)\u001b[0m\u001b[0;34m\u001b[0m\u001b[0m\n\u001b[0m\u001b[1;32m    204\u001b[0m         \u001b[0;32mif\u001b[0m \u001b[0;32mnot\u001b[0m \u001b[0;34m(\u001b[0m\u001b[0mself\u001b[0m\u001b[0;34m.\u001b[0m\u001b[0mptype\u001b[0m \u001b[0;32mis\u001b[0m \u001b[0;32mNone\u001b[0m \u001b[0;32mor\u001b[0m \u001b[0mvalue\u001b[0m \u001b[0;32mis\u001b[0m \u001b[0;32mNone\u001b[0m\u001b[0;34m)\u001b[0m\u001b[0;34m:\u001b[0m\u001b[0;34m\u001b[0m\u001b[0m\n\u001b[1;32m    205\u001b[0m             \u001b[0;31m# Only type check if there is one and the value is not None.\u001b[0m\u001b[0;34m\u001b[0m\u001b[0;34m\u001b[0m\u001b[0m\n",
      "\u001b[0;31mTypeError\u001b[0m: 'ReadOnlyAttribute' object is not iterable"
     ]
    }
   ],
   "source": [
    "MolecularGraph.from_geometry(mol, scaling=1.5)"
   ]
  },
  {
   "cell_type": "code",
   "execution_count": 120,
   "metadata": {},
   "outputs": [
    {
     "ename": "AttributeError",
     "evalue": "'float' object has no attribute 'unit_cell'",
     "output_type": "error",
     "traceback": [
      "\u001b[0;31m---------------------------------------------------------------------------\u001b[0m",
      "\u001b[0;31mAttributeError\u001b[0m                            Traceback (most recent call last)",
      "\u001b[0;32m<ipython-input-120-31b090b23b99>\u001b[0m in \u001b[0;36m<module>\u001b[0;34m()\u001b[0m\n\u001b[0;32m----> 1\u001b[0;31m \u001b[0mMolecularGraph\u001b[0m\u001b[0;34m.\u001b[0m\u001b[0mfrom_geometry\u001b[0m\u001b[0;34m(\u001b[0m\u001b[0mmol\u001b[0m\u001b[0;34m,\u001b[0m \u001b[0mscaling\u001b[0m \u001b[0;34m=\u001b[0m \u001b[0;36m1.5\u001b[0m\u001b[0;34m)\u001b[0m\u001b[0;34m\u001b[0m\u001b[0m\n\u001b[0m",
      "\u001b[0;32m~/anaconda3/envs/py35021518/lib/python3.5/site-packages/molmod/molecular_graphs.py\u001b[0m in \u001b[0;36mfrom_geometry\u001b[0;34m(cls, molecule, do_orders, scaling)\u001b[0m\n\u001b[1;32m    100\u001b[0m         \u001b[0;32mfrom\u001b[0m \u001b[0mmolmod\u001b[0m\u001b[0;34m.\u001b[0m\u001b[0mbonds\u001b[0m \u001b[0;32mimport\u001b[0m \u001b[0mbonds\u001b[0m\u001b[0;34m\u001b[0m\u001b[0m\n\u001b[1;32m    101\u001b[0m \u001b[0;34m\u001b[0m\u001b[0m\n\u001b[0;32m--> 102\u001b[0;31m         \u001b[0munit_cell\u001b[0m \u001b[0;34m=\u001b[0m \u001b[0mmolecule\u001b[0m\u001b[0;34m.\u001b[0m\u001b[0munit_cell\u001b[0m\u001b[0;34m\u001b[0m\u001b[0m\n\u001b[0m\u001b[1;32m    103\u001b[0m         pair_search = PairSearchIntra(\n\u001b[1;32m    104\u001b[0m             \u001b[0mmolecule\u001b[0m\u001b[0;34m.\u001b[0m\u001b[0mcoordinates\u001b[0m\u001b[0;34m,\u001b[0m\u001b[0;34m\u001b[0m\u001b[0m\n",
      "\u001b[0;31mAttributeError\u001b[0m: 'float' object has no attribute 'unit_cell'"
     ]
    }
   ],
   "source": [
    "MolecularGraph.from_geometry(mol, scaling = 1.5)"
   ]
  },
  {
   "cell_type": "code",
   "execution_count": 119,
   "metadata": {},
   "outputs": [
    {
     "name": "stdout",
     "output_type": "stream",
     "text": [
      "Help on class MolecularGraph in module molmod.molecular_graphs:\n",
      "\n",
      "class MolecularGraph(molmod.graphs.Graph)\n",
      " |  Describes a molecular graph: connectivity, atom numbers and bond orders.\n",
      " |  \n",
      " |  This class inherits all features from the Graph class and adds methods\n",
      " |  and attributes that are specific from molecular graphs. Instances are\n",
      " |  immutable, so if you want to modify a molecular graph, just instantiate a\n",
      " |  new object with modified connectivity, numbers and orders. The advantage\n",
      " |  is that various graph analysis and properties can be cached.\n",
      " |  \n",
      " |  Method resolution order:\n",
      " |      MolecularGraph\n",
      " |      molmod.graphs.Graph\n",
      " |      molmod.utils.ReadOnly\n",
      " |      builtins.object\n",
      " |  \n",
      " |  Methods defined here:\n",
      " |  \n",
      " |  __init__(self, edges, numbers, orders=None, symbols=None, num_vertices=None)\n",
      " |      Arguments:\n",
      " |       | ``edges``  --  See base class (Graph) documentation\n",
      " |       | ``numbers``  --  consecutive atom numbers\n",
      " |      \n",
      " |      Optional arguments:\n",
      " |       | ``orders``  --  bond orders\n",
      " |       | ``symbols``  --  atomic symbols\n",
      " |       | ``num_vertices``  --  must be the same as the number of atoms or None\n",
      " |      \n",
      " |      When the nature of an atom or a bond is unclear ambiguous, set the\n",
      " |      corresponding integer to zero. This means the nature of the atom or\n",
      " |      bond is unspecified. When the bond orders are not given, they are all\n",
      " |      set to  zero.\n",
      " |      \n",
      " |      If you want to use 'special' atom types, use negative numbers. The\n",
      " |      same for bond orders. e.g. a nice choice for the bond order of a\n",
      " |      hybrid bond is -1.\n",
      " |  \n",
      " |  __mul__(self, repeat)\n",
      " |      Construct a graph that repeats this graph a number of times\n",
      " |      \n",
      " |      Arguments:\n",
      " |       | ``repeat`` -- The number of repetitions.\n",
      " |  \n",
      " |  __rmul__ = __mul__(self, repeat)\n",
      " |  \n",
      " |  add_hydrogens(self, formal_charges=None)\n",
      " |      Returns a molecular graph where hydrogens are added explicitely\n",
      " |      \n",
      " |      When the bond order is unknown, it assumes bond order one. If the\n",
      " |      graph  has an attribute formal_charges, this routine will take it\n",
      " |      into account when counting the number of hydrogens to be added. The\n",
      " |      returned graph will also have a formal_charges attribute.\n",
      " |      \n",
      " |      This routine only adds hydrogen atoms for a limited set of atoms from\n",
      " |      the periodic system: B, C, N, O, F, Al, Si, P, S, Cl, Br.\n",
      " |  \n",
      " |  blob = <molmod.utils.cached object>\n",
      " |  get_edge_string(self, i)\n",
      " |      Return a string based on the bond order\n",
      " |  \n",
      " |  get_subgraph(self, subvertices, normalize=False)\n",
      " |      Creates a subgraph of the current graph\n",
      " |      \n",
      " |      See :meth:`molmod.graphs.Graph.get_subgraph` for more information.\n",
      " |  \n",
      " |  get_vertex_string(self, i)\n",
      " |      Return a string based on the atom number\n",
      " |  \n",
      " |  ----------------------------------------------------------------------\n",
      " |  Class methods defined here:\n",
      " |  \n",
      " |  from_blob(s) from molmod.utils.ReadOnlyType\n",
      " |      Construct a molecular graph from the blob representation\n",
      " |  \n",
      " |  from_geometry(molecule, do_orders=False, scaling=1.0) from molmod.utils.ReadOnlyType\n",
      " |      Construct a MolecularGraph object based on interatomic distances\n",
      " |      \n",
      " |      All short distances are computed with the binning module and compared\n",
      " |      with a database of bond lengths. Based on this comparison, bonded\n",
      " |      atoms are detected.\n",
      " |      \n",
      " |      Argument:\n",
      " |       | ``molecule``  --  The molecule to derive the graph from\n",
      " |      \n",
      " |      Optional arguments:\n",
      " |       | ``do_orders``  --  set to True to estimate the bond order\n",
      " |       | ``scaling``  --  scale the threshold for the connectivity. increase\n",
      " |                          this to 1.5 in case of transition states when a\n",
      " |                          fully connected topology is required.\n",
      " |  \n",
      " |  ----------------------------------------------------------------------\n",
      " |  Data descriptors defined here:\n",
      " |  \n",
      " |  edges\n",
      " |      *Read-only attribute:* the incidence list.\n",
      " |      \n",
      " |      The attribute must satisfy the following conditions:\n",
      " |      \n",
      " |      * May not be None.\n",
      " |      \n",
      " |      * Must be an instance of ``<class 'tuple'>``\n",
      " |  \n",
      " |  num_vertices\n",
      " |      *Read-only attribute:* the number of vertices.\n",
      " |      \n",
      " |      The attribute must satisfy the following conditions:\n",
      " |      \n",
      " |      * May not be None.\n",
      " |      \n",
      " |      * Must be an instance of ``<class 'int'>``\n",
      " |  \n",
      " |  numbers\n",
      " |      *Read-only attribute:* the atomic numbers associated with the vertices.\n",
      " |      \n",
      " |      The attribute must satisfy the following conditions:\n",
      " |      \n",
      " |      * May not be None.\n",
      " |      \n",
      " |      * Must be an instance of ``<class 'numpy.ndarray'>``\n",
      " |      \n",
      " |      * Must have dimension 1.\n",
      " |      \n",
      " |      * Must have dtype ``<class 'int'>``.\n",
      " |      \n",
      " |      * Special conditions: the number of vertices and atomic numbers must be the same.\n",
      " |  \n",
      " |  orders\n",
      " |      *Read-only attribute:* the bond orders associated with the edges.\n",
      " |      \n",
      " |      The attribute must satisfy the following conditions:\n",
      " |      \n",
      " |      * May not be None.\n",
      " |      \n",
      " |      * Must be an instance of ``<class 'numpy.ndarray'>``\n",
      " |      \n",
      " |      * Must have dimension 1.\n",
      " |      \n",
      " |      * Must have dtype ``<class 'float'>``.\n",
      " |      \n",
      " |      * Special conditions: the number of edges and bond orders must be the same.\n",
      " |  \n",
      " |  symbols\n",
      " |      *Read-only attribute:* symbols for the atoms, which can be element names for force-field atom types.\n",
      " |      \n",
      " |      The attribute must satisfy the following conditions:\n",
      " |      \n",
      " |      * Must be an instance of ``<class 'tuple'>``\n",
      " |  \n",
      " |  ----------------------------------------------------------------------\n",
      " |  Methods inherited from molmod.graphs.Graph:\n",
      " |  \n",
      " |  __str__(self)\n",
      " |      Return str(self).\n",
      " |  \n",
      " |  canonical_order = <molmod.utils.cached object>\n",
      " |  central_vertex = <molmod.utils.cached object>\n",
      " |  central_vertices = <molmod.utils.cached object>\n",
      " |  distances = <molmod.utils.cached object>\n",
      " |  edge_index = <molmod.utils.cached object>\n",
      " |  equivalent_vertices = <molmod.utils.cached object>\n",
      " |  fingerprint = <molmod.utils.cached object>\n",
      " |  full_match(self, other)\n",
      " |      Find the mapping between vertex indexes in self and other.\n",
      " |      \n",
      " |      This also works on disconnected graphs. Derived classes should just\n",
      " |      implement get_vertex_string and get_edge_string to make this method\n",
      " |      aware of the different nature of certain vertices. In case molecules,\n",
      " |      this would make the algorithm sensitive to atom numbers etc.\n",
      " |  \n",
      " |  get_halfs(self, vertex1, vertex2)\n",
      " |      Split the graph in two halfs by cutting the edge: vertex1-vertex2\n",
      " |      \n",
      " |      If this is not possible (due to loops connecting both ends), a\n",
      " |      GraphError is raised.\n",
      " |      \n",
      " |      Returns the vertices in both halfs.\n",
      " |  \n",
      " |  get_halfs_double(self, vertex_a1, vertex_b1, vertex_a2, vertex_b2)\n",
      " |      Compute the two parts separated by ``(vertex_a1, vertex_b1)`` and ``(vertex_a2, vertex_b2)``\n",
      " |      \n",
      " |      Raise a GraphError when ``(vertex_a1, vertex_b1)`` and\n",
      " |      ``(vertex_a2, vertex_b2)`` do not separate the graph in two\n",
      " |      disconnected parts. The edges must be neighbors. If not a GraphError\n",
      " |      is raised. The for vertices must not coincide or a GraphError is\n",
      " |      raised.\n",
      " |      \n",
      " |      Returns the vertices of the two halfs and the four 'hinge' vertices\n",
      " |      in the correct order, i.e. both ``vertex_a1`` and ``vertex_a2`` are\n",
      " |      in the first half and both ``vertex_b1`` and ``vertex_b2`` are in the\n",
      " |      second half.\n",
      " |  \n",
      " |  get_part(self, vertex_in, vertices_border)\n",
      " |      List all vertices that are connected to vertex_in, but are not\n",
      " |      included in or 'behind' vertices_border.\n",
      " |  \n",
      " |  get_vertex_fingerprints(self, vertex_strings, edge_strings, num_iter=None)\n",
      " |      Return an array with fingerprints for each vertex\n",
      " |  \n",
      " |  independent_vertices = <molmod.utils.cached object>\n",
      " |  iter_breadth_first(self, start=None, do_paths=False, do_duplicates=False)\n",
      " |      Iterate over the vertices with the breadth first algorithm.\n",
      " |      \n",
      " |      See http://en.wikipedia.org/wiki/Breadth-first_search for more info.\n",
      " |      If not start vertex is given, the central vertex is taken.\n",
      " |      \n",
      " |      By default, the distance to the starting vertex is also computed. If\n",
      " |      the path to the starting vertex should be computed instead, set path\n",
      " |      to True.\n",
      " |      \n",
      " |      When duplicate is True, then vertices that can be reached through\n",
      " |      different  paths of equal length, will be iterated twice. This\n",
      " |      typically only makes sense when path==True.\n",
      " |  \n",
      " |  iter_breadth_first_edges(self, start=None)\n",
      " |      Iterate over the edges with the breadth first convention.\n",
      " |      \n",
      " |      We need this for the pattern matching algorithms, but a quick look at\n",
      " |      Wikipedia did not result in a known and named algorithm.\n",
      " |      \n",
      " |      The edges are yielded one by one, together with the distance of the\n",
      " |      edge from the starting vertex and a flag that indicates whether the\n",
      " |      yielded edge connects two vertices that are at the same distance from\n",
      " |      the starting vertex. If that flag is False, the distance from the\n",
      " |      starting vertex to edge[0] is equal to the distance variable and the\n",
      " |      distance from edge[1] to the starting vertex is equal to distance+1.\n",
      " |      One item has the following format: ((i, j), distance, flag)\n",
      " |  \n",
      " |  iter_shortest_paths(self, a, b)\n",
      " |      Iterate over all the shortest paths between vertex a and b.\n",
      " |  \n",
      " |  max_distance = <molmod.utils.cached object>\n",
      " |  neighbors = <molmod.utils.cached object>\n",
      " |  symmetries = <molmod.utils.cached object>\n",
      " |  symmetry_cycles = <molmod.utils.cached object>\n",
      " |  vertex_fingerprints = <molmod.utils.cached object>\n",
      " |  ----------------------------------------------------------------------\n",
      " |  Data descriptors inherited from molmod.graphs.Graph:\n",
      " |  \n",
      " |  num_edges\n",
      " |      *Read-only attribute:* the number of edges in the graph.\n",
      " |  \n",
      " |  ----------------------------------------------------------------------\n",
      " |  Methods inherited from molmod.utils.ReadOnly:\n",
      " |  \n",
      " |  __copy__(self)\n",
      " |  \n",
      " |  __deepcopy__(self, memo)\n",
      " |  \n",
      " |  __getstate__(self)\n",
      " |      Part of the pickle protocol\n",
      " |  \n",
      " |  __setstate__(self, state)\n",
      " |      Part of the pickle protocol\n",
      " |  \n",
      " |  copy_with(self, **kwargs)\n",
      " |      Return a copy with (a few) changed attributes\n",
      " |      \n",
      " |      The keyword arguments are the attributes to be replaced by new\n",
      " |      values. All other attributes are copied (or referenced) from the\n",
      " |      original object. This only works if the constructor takes all\n",
      " |      (read-only) attributes as arguments.\n",
      " |  \n",
      " |  ----------------------------------------------------------------------\n",
      " |  Data descriptors inherited from molmod.utils.ReadOnly:\n",
      " |  \n",
      " |  __dict__\n",
      " |      dictionary for instance variables (if defined)\n",
      " |  \n",
      " |  __weakref__\n",
      " |      list of weak references to the object (if defined)\n",
      "\n"
     ]
    }
   ],
   "source": [
    "MolecularGraph.__init__()"
   ]
  },
  {
   "cell_type": "code",
   "execution_count": 112,
   "metadata": {},
   "outputs": [
    {
     "ename": "TypeError",
     "evalue": "'cached' object is not callable",
     "output_type": "error",
     "traceback": [
      "\u001b[0;31m---------------------------------------------------------------------------\u001b[0m",
      "\u001b[0;31mTypeError\u001b[0m                                 Traceback (most recent call last)",
      "\u001b[0;32m<ipython-input-112-61a8ea6d138b>\u001b[0m in \u001b[0;36m<module>\u001b[0;34m()\u001b[0m\n\u001b[0;32m----> 1\u001b[0;31m \u001b[0mmolmod\u001b[0m\u001b[0;34m.\u001b[0m\u001b[0mgraphs\u001b[0m\u001b[0;34m.\u001b[0m\u001b[0mGraph\u001b[0m\u001b[0;34m.\u001b[0m\u001b[0mcanonical_order\u001b[0m\u001b[0;34m(\u001b[0m\u001b[0;34m)\u001b[0m\u001b[0;34m\u001b[0m\u001b[0m\n\u001b[0m",
      "\u001b[0;31mTypeError\u001b[0m: 'cached' object is not callable"
     ]
    }
   ],
   "source": [
    "molmod.graphs.Graph.canonical_order()"
   ]
  },
  {
   "cell_type": "code",
   "execution_count": 111,
   "metadata": {},
   "outputs": [
    {
     "name": "stdout",
     "output_type": "stream",
     "text": [
      "Help on function get_subgraph in module molmod.graphs:\n",
      "\n",
      "get_subgraph(self, subvertices, normalize=False)\n",
      "    Constructs a subgraph of the current graph\n",
      "    \n",
      "    Arguments:\n",
      "     | ``subvertices`` -- The vertices that should be retained.\n",
      "     | ``normalize`` -- Whether or not the vertices should renumbered and\n",
      "          reduced to the given set of subvertices. When True, also the\n",
      "          edges are sorted. It the end, this means that new order of the\n",
      "          edges does not depend on the original order, but only on the\n",
      "          order of the argument subvertices.\n",
      "          This option is False by default. When False, only edges will be\n",
      "          discarded, but the retained data remain unchanged. Also the\n",
      "          parameter num_vertices is not affected.\n",
      "    \n",
      "    The returned graph will have an attribute ``old_edge_indexes`` that\n",
      "    relates the positions of the new and the old edges as follows::\n",
      "    \n",
      "      >>> self.edges[result._old_edge_indexes[i]] = result.edges[i]\n",
      "    \n",
      "    In derived classes, the following should be supported::\n",
      "    \n",
      "      >>> self.edge_property[result._old_edge_indexes[i]] = result.edge_property[i]\n",
      "    \n",
      "    When ``normalize==True``, also the vertices are affected and the\n",
      "    derived classes should make sure that the following works::\n",
      "    \n",
      "      >>> self.vertex_property[result._old_vertex_indexes[i]] = result.vertex_property[i]\n",
      "    \n",
      "    The attribute ``old_vertex_indexes`` is only constructed when\n",
      "    ``normalize==True``.\n",
      "\n"
     ]
    }
   ],
   "source": [
    "molmod.graphs.Graph.get_subgraph()"
   ]
  },
  {
   "cell_type": "code",
   "execution_count": 101,
   "metadata": {},
   "outputs": [
    {
     "name": "stdout",
     "output_type": "stream",
     "text": [
      "Help on class MolecularGraph in module molmod.molecular_graphs:\n",
      "\n",
      "class MolecularGraph(molmod.graphs.Graph)\n",
      " |  Describes a molecular graph: connectivity, atom numbers and bond orders.\n",
      " |  \n",
      " |  This class inherits all features from the Graph class and adds methods\n",
      " |  and attributes that are specific from molecular graphs. Instances are\n",
      " |  immutable, so if you want to modify a molecular graph, just instantiate a\n",
      " |  new object with modified connectivity, numbers and orders. The advantage\n",
      " |  is that various graph analysis and properties can be cached.\n",
      " |  \n",
      " |  Method resolution order:\n",
      " |      MolecularGraph\n",
      " |      molmod.graphs.Graph\n",
      " |      molmod.utils.ReadOnly\n",
      " |      builtins.object\n",
      " |  \n",
      " |  Methods defined here:\n",
      " |  \n",
      " |  __init__(self, edges, numbers, orders=None, symbols=None, num_vertices=None)\n",
      " |      Arguments:\n",
      " |       | ``edges``  --  See base class (Graph) documentation\n",
      " |       | ``numbers``  --  consecutive atom numbers\n",
      " |      \n",
      " |      Optional arguments:\n",
      " |       | ``orders``  --  bond orders\n",
      " |       | ``symbols``  --  atomic symbols\n",
      " |       | ``num_vertices``  --  must be the same as the number of atoms or None\n",
      " |      \n",
      " |      When the nature of an atom or a bond is unclear ambiguous, set the\n",
      " |      corresponding integer to zero. This means the nature of the atom or\n",
      " |      bond is unspecified. When the bond orders are not given, they are all\n",
      " |      set to  zero.\n",
      " |      \n",
      " |      If you want to use 'special' atom types, use negative numbers. The\n",
      " |      same for bond orders. e.g. a nice choice for the bond order of a\n",
      " |      hybrid bond is -1.\n",
      " |  \n",
      " |  __mul__(self, repeat)\n",
      " |      Construct a graph that repeats this graph a number of times\n",
      " |      \n",
      " |      Arguments:\n",
      " |       | ``repeat`` -- The number of repetitions.\n",
      " |  \n",
      " |  __rmul__ = __mul__(self, repeat)\n",
      " |  \n",
      " |  add_hydrogens(self, formal_charges=None)\n",
      " |      Returns a molecular graph where hydrogens are added explicitely\n",
      " |      \n",
      " |      When the bond order is unknown, it assumes bond order one. If the\n",
      " |      graph  has an attribute formal_charges, this routine will take it\n",
      " |      into account when counting the number of hydrogens to be added. The\n",
      " |      returned graph will also have a formal_charges attribute.\n",
      " |      \n",
      " |      This routine only adds hydrogen atoms for a limited set of atoms from\n",
      " |      the periodic system: B, C, N, O, F, Al, Si, P, S, Cl, Br.\n",
      " |  \n",
      " |  blob = <molmod.utils.cached object>\n",
      " |  get_edge_string(self, i)\n",
      " |      Return a string based on the bond order\n",
      " |  \n",
      " |  get_subgraph(self, subvertices, normalize=False)\n",
      " |      Creates a subgraph of the current graph\n",
      " |      \n",
      " |      See :meth:`molmod.graphs.Graph.get_subgraph` for more information.\n",
      " |  \n",
      " |  get_vertex_string(self, i)\n",
      " |      Return a string based on the atom number\n",
      " |  \n",
      " |  ----------------------------------------------------------------------\n",
      " |  Class methods defined here:\n",
      " |  \n",
      " |  from_blob(s) from molmod.utils.ReadOnlyType\n",
      " |      Construct a molecular graph from the blob representation\n",
      " |  \n",
      " |  from_geometry(molecule, do_orders=False, scaling=1.0) from molmod.utils.ReadOnlyType\n",
      " |      Construct a MolecularGraph object based on interatomic distances\n",
      " |      \n",
      " |      All short distances are computed with the binning module and compared\n",
      " |      with a database of bond lengths. Based on this comparison, bonded\n",
      " |      atoms are detected.\n",
      " |      \n",
      " |      Argument:\n",
      " |       | ``molecule``  --  The molecule to derive the graph from\n",
      " |      \n",
      " |      Optional arguments:\n",
      " |       | ``do_orders``  --  set to True to estimate the bond order\n",
      " |       | ``scaling``  --  scale the threshold for the connectivity. increase\n",
      " |                          this to 1.5 in case of transition states when a\n",
      " |                          fully connected topology is required.\n",
      " |  \n",
      " |  ----------------------------------------------------------------------\n",
      " |  Data descriptors defined here:\n",
      " |  \n",
      " |  edges\n",
      " |      *Read-only attribute:* the incidence list.\n",
      " |      \n",
      " |      The attribute must satisfy the following conditions:\n",
      " |      \n",
      " |      * May not be None.\n",
      " |      \n",
      " |      * Must be an instance of ``<class 'tuple'>``\n",
      " |  \n",
      " |  num_vertices\n",
      " |      *Read-only attribute:* the number of vertices.\n",
      " |      \n",
      " |      The attribute must satisfy the following conditions:\n",
      " |      \n",
      " |      * May not be None.\n",
      " |      \n",
      " |      * Must be an instance of ``<class 'int'>``\n",
      " |  \n",
      " |  numbers\n",
      " |      *Read-only attribute:* the atomic numbers associated with the vertices.\n",
      " |      \n",
      " |      The attribute must satisfy the following conditions:\n",
      " |      \n",
      " |      * May not be None.\n",
      " |      \n",
      " |      * Must be an instance of ``<class 'numpy.ndarray'>``\n",
      " |      \n",
      " |      * Must have dimension 1.\n",
      " |      \n",
      " |      * Must have dtype ``<class 'int'>``.\n",
      " |      \n",
      " |      * Special conditions: the number of vertices and atomic numbers must be the same.\n",
      " |  \n",
      " |  orders\n",
      " |      *Read-only attribute:* the bond orders associated with the edges.\n",
      " |      \n",
      " |      The attribute must satisfy the following conditions:\n",
      " |      \n",
      " |      * May not be None.\n",
      " |      \n",
      " |      * Must be an instance of ``<class 'numpy.ndarray'>``\n",
      " |      \n",
      " |      * Must have dimension 1.\n",
      " |      \n",
      " |      * Must have dtype ``<class 'float'>``.\n",
      " |      \n",
      " |      * Special conditions: the number of edges and bond orders must be the same.\n",
      " |  \n",
      " |  symbols\n",
      " |      *Read-only attribute:* symbols for the atoms, which can be element names for force-field atom types.\n",
      " |      \n",
      " |      The attribute must satisfy the following conditions:\n",
      " |      \n",
      " |      * Must be an instance of ``<class 'tuple'>``\n",
      " |  \n",
      " |  ----------------------------------------------------------------------\n",
      " |  Methods inherited from molmod.graphs.Graph:\n",
      " |  \n",
      " |  __str__(self)\n",
      " |      Return str(self).\n",
      " |  \n",
      " |  canonical_order = <molmod.utils.cached object>\n",
      " |  central_vertex = <molmod.utils.cached object>\n",
      " |  central_vertices = <molmod.utils.cached object>\n",
      " |  distances = <molmod.utils.cached object>\n",
      " |  edge_index = <molmod.utils.cached object>\n",
      " |  equivalent_vertices = <molmod.utils.cached object>\n",
      " |  fingerprint = <molmod.utils.cached object>\n",
      " |  full_match(self, other)\n",
      " |      Find the mapping between vertex indexes in self and other.\n",
      " |      \n",
      " |      This also works on disconnected graphs. Derived classes should just\n",
      " |      implement get_vertex_string and get_edge_string to make this method\n",
      " |      aware of the different nature of certain vertices. In case molecules,\n",
      " |      this would make the algorithm sensitive to atom numbers etc.\n",
      " |  \n",
      " |  get_halfs(self, vertex1, vertex2)\n",
      " |      Split the graph in two halfs by cutting the edge: vertex1-vertex2\n",
      " |      \n",
      " |      If this is not possible (due to loops connecting both ends), a\n",
      " |      GraphError is raised.\n",
      " |      \n",
      " |      Returns the vertices in both halfs.\n",
      " |  \n",
      " |  get_halfs_double(self, vertex_a1, vertex_b1, vertex_a2, vertex_b2)\n",
      " |      Compute the two parts separated by ``(vertex_a1, vertex_b1)`` and ``(vertex_a2, vertex_b2)``\n",
      " |      \n",
      " |      Raise a GraphError when ``(vertex_a1, vertex_b1)`` and\n",
      " |      ``(vertex_a2, vertex_b2)`` do not separate the graph in two\n",
      " |      disconnected parts. The edges must be neighbors. If not a GraphError\n",
      " |      is raised. The for vertices must not coincide or a GraphError is\n",
      " |      raised.\n",
      " |      \n",
      " |      Returns the vertices of the two halfs and the four 'hinge' vertices\n",
      " |      in the correct order, i.e. both ``vertex_a1`` and ``vertex_a2`` are\n",
      " |      in the first half and both ``vertex_b1`` and ``vertex_b2`` are in the\n",
      " |      second half.\n",
      " |  \n",
      " |  get_part(self, vertex_in, vertices_border)\n",
      " |      List all vertices that are connected to vertex_in, but are not\n",
      " |      included in or 'behind' vertices_border.\n",
      " |  \n",
      " |  get_vertex_fingerprints(self, vertex_strings, edge_strings, num_iter=None)\n",
      " |      Return an array with fingerprints for each vertex\n",
      " |  \n",
      " |  independent_vertices = <molmod.utils.cached object>\n",
      " |  iter_breadth_first(self, start=None, do_paths=False, do_duplicates=False)\n",
      " |      Iterate over the vertices with the breadth first algorithm.\n",
      " |      \n",
      " |      See http://en.wikipedia.org/wiki/Breadth-first_search for more info.\n",
      " |      If not start vertex is given, the central vertex is taken.\n",
      " |      \n",
      " |      By default, the distance to the starting vertex is also computed. If\n",
      " |      the path to the starting vertex should be computed instead, set path\n",
      " |      to True.\n",
      " |      \n",
      " |      When duplicate is True, then vertices that can be reached through\n",
      " |      different  paths of equal length, will be iterated twice. This\n",
      " |      typically only makes sense when path==True.\n",
      " |  \n",
      " |  iter_breadth_first_edges(self, start=None)\n",
      " |      Iterate over the edges with the breadth first convention.\n",
      " |      \n",
      " |      We need this for the pattern matching algorithms, but a quick look at\n",
      " |      Wikipedia did not result in a known and named algorithm.\n",
      " |      \n",
      " |      The edges are yielded one by one, together with the distance of the\n",
      " |      edge from the starting vertex and a flag that indicates whether the\n",
      " |      yielded edge connects two vertices that are at the same distance from\n",
      " |      the starting vertex. If that flag is False, the distance from the\n",
      " |      starting vertex to edge[0] is equal to the distance variable and the\n",
      " |      distance from edge[1] to the starting vertex is equal to distance+1.\n",
      " |      One item has the following format: ((i, j), distance, flag)\n",
      " |  \n",
      " |  iter_shortest_paths(self, a, b)\n",
      " |      Iterate over all the shortest paths between vertex a and b.\n",
      " |  \n",
      " |  max_distance = <molmod.utils.cached object>\n",
      " |  neighbors = <molmod.utils.cached object>\n",
      " |  symmetries = <molmod.utils.cached object>\n",
      " |  symmetry_cycles = <molmod.utils.cached object>\n",
      " |  vertex_fingerprints = <molmod.utils.cached object>\n",
      " |  ----------------------------------------------------------------------\n",
      " |  Data descriptors inherited from molmod.graphs.Graph:\n",
      " |  \n",
      " |  num_edges\n",
      " |      *Read-only attribute:* the number of edges in the graph.\n",
      " |  \n",
      " |  ----------------------------------------------------------------------\n",
      " |  Methods inherited from molmod.utils.ReadOnly:\n",
      " |  \n",
      " |  __copy__(self)\n",
      " |  \n",
      " |  __deepcopy__(self, memo)\n",
      " |  \n",
      " |  __getstate__(self)\n",
      " |      Part of the pickle protocol\n",
      " |  \n",
      " |  __setstate__(self, state)\n",
      " |      Part of the pickle protocol\n",
      " |  \n",
      " |  copy_with(self, **kwargs)\n",
      " |      Return a copy with (a few) changed attributes\n",
      " |      \n",
      " |      The keyword arguments are the attributes to be replaced by new\n",
      " |      values. All other attributes are copied (or referenced) from the\n",
      " |      original object. This only works if the constructor takes all\n",
      " |      (read-only) attributes as arguments.\n",
      " |  \n",
      " |  ----------------------------------------------------------------------\n",
      " |  Data descriptors inherited from molmod.utils.ReadOnly:\n",
      " |  \n",
      " |  __dict__\n",
      " |      dictionary for instance variables (if defined)\n",
      " |  \n",
      " |  __weakref__\n",
      " |      list of weak references to the object (if defined)\n",
      "\n"
     ]
    }
   ],
   "source": [
    "help(MolecularGraph)"
   ]
  },
  {
   "cell_type": "code",
   "execution_count": 99,
   "metadata": {},
   "outputs": [
    {
     "name": "stdout",
     "output_type": "stream",
     "text": [
      "Help on method set_default_graph in module molmod.molecules:\n",
      "\n",
      "set_default_graph() method of molmod.molecules.Molecule instance\n",
      "    Set self.graph to the default graph.\n",
      "    \n",
      "    This method is equivalent to::\n",
      "    \n",
      "       mol.graph = MolecularGraph.from_geometry(mol)\n",
      "    \n",
      "    with the default options, and only works if the graph object is not\n",
      "    present yet.\n",
      "    See :meth:`molmod.molecular_graphs.MolecularGraph.from_geometry`\n",
      "    for more fine-grained control over the assignment of bonds.\n",
      "\n"
     ]
    }
   ],
   "source": [
    "help(fchk.molecule.set_default_graph)"
   ]
  },
  {
   "cell_type": "code",
   "execution_count": 80,
   "metadata": {},
   "outputs": [
    {
     "data": {
      "text/plain": [
       "(35, 35)"
      ]
     },
     "execution_count": 80,
     "metadata": {},
     "output_type": "execute_result"
    }
   ],
   "source": [
    "# Set the default graph for the construction of the internal coordinates:\n",
    "fchk.molecule.set_default_graph()"
   ]
  },
  {
   "cell_type": "code",
   "execution_count": 83,
   "metadata": {},
   "outputs": [
    {
     "data": {
      "text/plain": [
       "22"
      ]
     },
     "execution_count": 83,
     "metadata": {},
     "output_type": "execute_result"
    }
   ],
   "source": [
    "# Setup a list of internal coordinates\n",
    "ics = setup_ics(fchk.molecule.graph)\n",
    "# Compute the Jacobian.\n",
    "J = compute_jacobian(ics, fchk.molecule.coordinates)\n",
    "# Compute the pseudo-inverse, using a loose threshold for the singular\n",
    "# values to filter out equivalent internal coordinates.\n",
    "Jinv = numpy.linalg.pinv(J, 1e-5)\n",
    "# Get the Hessian in Cartesian coordinates.\n",
    "H = fchk.get_hessian()\n",
    "# Transform to internal coordinates.\n",
    "K = numpy.dot(Jinv, numpy.dot(H, Jinv.transpose()))\n",
    "# Make a nice printout of K.\n",
    "print(\"The Hessian in internal coordinates in kcal/mol/angstrom**2\")\n",
    "unit = kcalmol/angstrom**2\n",
    "for row in K:\n",
    "    print(\" \".join(\"% 5.0f\" % (v/unit) for v in row))"
   ]
  },
  {
   "cell_type": "code",
   "execution_count": 91,
   "metadata": {},
   "outputs": [
    {
     "data": {
      "text/plain": [
       "22"
      ]
     },
     "execution_count": 91,
     "metadata": {},
     "output_type": "execute_result"
    }
   ],
   "source": [
    "len(fchk.molecule.numbers)"
   ]
  },
  {
   "cell_type": "code",
   "execution_count": 93,
   "metadata": {},
   "outputs": [
    {
     "data": {
      "text/plain": [
       "(66, 35)"
      ]
     },
     "execution_count": 93,
     "metadata": {},
     "output_type": "execute_result"
    }
   ],
   "source": [
    "J.shape"
   ]
  },
  {
   "cell_type": "code",
   "execution_count": null,
   "metadata": {
    "collapsed": true
   },
   "outputs": [],
   "source": []
  }
 ],
 "metadata": {
  "kernelspec": {
   "display_name": "python35megaman03",
   "language": "python",
   "name": "python35megaman03"
  },
  "language_info": {
   "codemirror_mode": {
    "name": "ipython",
    "version": 3
   },
   "file_extension": ".py",
   "mimetype": "text/x-python",
   "name": "python",
   "nbconvert_exporter": "python",
   "pygments_lexer": "ipython3",
   "version": "3.5.5"
  }
 },
 "nbformat": 4,
 "nbformat_minor": 2
}
