{
 "cells": [
  {
   "cell_type": "code",
   "execution_count": 1,
   "metadata": {},
   "outputs": [
    {
     "name": "stdout",
     "output_type": "stream",
     "text": [
      "/Users/samsonkoelle/Downloads/manigrad-100818/mani-samk-gradients\n",
      "initializing Geometry\n",
      "executing laplacian.compute_laplacian_matrix\n",
      "executing Laplacian.laplacian_matrix\n",
      "pre _compute_laplacian\n",
      "executing GeometricLaplacian._compute_laplacian\n",
      "executing _normalize_laplacian\n",
      "executing _normalize_laplacian\n",
      "post _compute_laplacian\n",
      "executing laplacian.compute_laplacian_matrix\n",
      "executing Laplacian.laplacian_matrix\n",
      "pre _compute_laplacian\n",
      "executing GeometricLaplacian._compute_laplacian\n",
      "executing _normalize_laplacian\n",
      "executing _normalize_laplacian\n",
      "post _compute_laplacian\n"
     ]
    },
    {
     "name": "stderr",
     "output_type": "stream",
     "text": [
      "/Users/samsonkoelle/anaconda3/envs/py35021518/lib/python3.5/site-packages/megaman/geometry/rmetric.py:95: RuntimeWarning: divide by zero encountered in reciprocal\n",
      "  Einv = E**(-1)\n"
     ]
    }
   ],
   "source": [
    "#Samson Koelle\n",
    "#Meila group\n",
    "#021419\n",
    "\n",
    "\n",
    "#rootdirectory = '/Users/samsonkoelle/Downloads/manigrad-100818/mani-samk-gradients'\n",
    "#f = open(rootdirectory + '/code/source/packagecontrol.py')\n",
    "#source = f.read()\n",
    "#exec(source)\n",
    "#f = open(rootdirectory + '/code/source/sourcecontrol.py')\n",
    "#source = f.read()\n",
    "#exec(source)\n",
    "#f = open(rootdirectory + '/code/source/RigidEthanol.py')\n",
    "#source = f.read()\n",
    "#exec(source)\n",
    "import matplotlib\n",
    "matplotlib.use('Agg')\n",
    "import os\n",
    "import datetime\n",
    "import numpy as np\n",
    "import dill as pickle\n",
    "import random\n",
    "import sys\n",
    "np.random.seed(0)\n",
    "random.seed(0)\n",
    "now = datetime.datetime.now().strftime(\"%B_%d_%Y_%H_%M_%S\")\n",
    "workingdirectory = os.popen('git rev-parse --show-toplevel').read()[:-1]\n",
    "sys.path.append(workingdirectory)\n",
    "os.chdir(workingdirectory)\n",
    "#print(os.getcwd())\n",
    "from codes.experimentclasses.EthanolAngles import EthanolAngles\n",
    "from codes.otherfunctions.multirun import get_coeffs_reps\n",
    "from codes.otherfunctions.multirun import get_grads_reps_pca2\n",
    "from codes.otherfunctions.multiplot import plot_betas, plot_betas2\n",
    "from codes.geometer.RiemannianManifold import RiemannianManifold\n",
    "\n",
    "#set parameters\n",
    "n = 50000 #number of data points to simulate\n",
    "nsel = 50 #number of points to analyze with lasso\n",
    "itermax = 100000 #maximum iterations per lasso run\n",
    "tol = 1e-10 #convergence criteria for lasso\n",
    "#lambdas = np.asarray([5,10,15,20,25,50,75,100], dtype = np.float16)#lambda values for lasso\n",
    "#lambdas = np.asarray([0,2.95339658e-06, 5.90679317e-06, 8.86018975e-06, 1.18135863e-05,\n",
    "#       1.47669829e-05, 2.95339658e-05, 4.43009487e-05, 5.90679317e-05])\n",
    "#lambdas = np.asarray([0,.001,.01,.1,1,10], dtype = np.float16)\n",
    "lambdas = np.asarray(np.hstack([np.asarray([0]),np.logspace(-3,3,11)]), dtype = np.float16)\n",
    "#lambdas = np.asarray([0,1,2,3,4,5,6,7,8,9,10], dtype = np.float16)\n",
    "n_neighbors = 100\n",
    "n_components = 3 #number of embedding dimensions (diffusion maps)\n",
    "diffusion_time = 1. #diffusion time controls gaussian kernel radius per gradients paper\n",
    "dim = 2 #manifold dimension\n",
    "dimnoise = 5 #noise dimension\n",
    "cores = 16 #number of cores for parallel processing\n",
    "ii = np.asarray([0,0,0,0,1,1,1,2]) # atom adjacencies for dihedral angle computation\n",
    "jj = np.asarray([1,2,3,4,5,6,7,8])\n",
    "#run experiment\n",
    "#atoms4 = np.asarray([[9,0,1,2],[0,1,2,3],[1,2,3,4],[2,3,4,5],[3,4,5,6],[4,5,6,1],[5,6,1,0]],dtype = int)\n",
    "atoms4 = np.asarray([[6,1,0,4],[4,0,2,8],[7,6,5,1],[3,0,2,4]],dtype = int)\n",
    "experiment = EthanolAngles(dim, ii,jj,cores, atoms4)\n",
    "experiment.M = experiment.load_data() #if noise == False then noise parameters are overriden\n",
    "experiment.Mpca = RiemannianManifold(np.load(workingdirectory + '/untracked_data/chemistry_data/ethanolangles022119_pca50.npy'), dim)\n",
    "experiment.q = n_components\n",
    "experiment.dimnoise = dimnoise\n",
    "projector  = np.load(workingdirectory + '/untracked_data/chemistry_data/ethanolangles022119_pca50_components.npy')\n",
    "experiment.Mpca.geom = experiment.Mpca.compute_geom(diffusion_time, n_neighbors)\n",
    "experiment.N = experiment.Mpca.get_embedding3(experiment.Mpca.geom, n_components, diffusion_time, dim)\n"
   ]
  },
  {
   "cell_type": "code",
   "execution_count": 2,
   "metadata": {
    "collapsed": true
   },
   "outputs": [],
   "source": [
    "#experiment.g0 = experiment.get_g_full_sub(experiment.M.data,experiment.atoms4[0])\n",
    "#experiment.g1 = experiment.get_g_full_sub(experiment.M.data,experiment.atoms4[1])\n",
    "folder = workingdirectory + '/Figures/ethanol/' + now\n",
    "os.mkdir(folder)\n",
    "#experiment.N.plot([0,1,2], list(range(n)),experiment.g0,.1,.1, folder + '/g1')\n",
    "#experiment.N.plot([0,1,2], list(range(n)),experiment.g1,.1,.1, folder + '/g2')\n",
    "#experiment.M.selected_points = np.random.choice(list(range(n)),nsel,replace = False)\n",
    "nreps = 1\n",
    "#import pickle\n",
    "#with open('ethanolsavegeom1.pkl', 'wb') as output:\n",
    "#    pickle.dump(experiment.N, output, pickle.HIGHEST_PROTOCOL)\n"
   ]
  },
  {
   "cell_type": "code",
   "execution_count": 3,
   "metadata": {
    "collapsed": true
   },
   "outputs": [],
   "source": [
    "nsel = 10"
   ]
  },
  {
   "cell_type": "code",
   "execution_count": 4,
   "metadata": {},
   "outputs": [
    {
     "name": "stdout",
     "output_type": "stream",
     "text": [
      "pregrad June_20_2019_17_39_34\n",
      "precoeff June_20_2019_17_45_07\n"
     ]
    }
   ],
   "source": [
    "print('pregrad',datetime.datetime.now().strftime(\"%B_%d_%Y_%H_%M_%S\"))\n",
    "experiments = get_grads_reps_pca2(experiment, nreps, nsel,cores,projector)\n",
    "#with open('tolueneexperiments0306_3custom_1000.pkl', 'wb') as output:\n",
    "#    pickle.dump(experiments, output, pickle.HIGHEST_PROTOCOL)\n",
    "print('precoeff',datetime.datetime.now().strftime(\"%B_%d_%Y_%H_%M_%S\"))"
   ]
  },
  {
   "cell_type": "code",
   "execution_count": 5,
   "metadata": {
    "collapsed": true
   },
   "outputs": [],
   "source": [
    "itermax = 100"
   ]
  },
  {
   "cell_type": "code",
   "execution_count": 7,
   "metadata": {},
   "outputs": [
    {
     "name": "stdout",
     "output_type": "stream",
     "text": [
      "preplot June_20_2019_17_47_01\n"
     ]
    },
    {
     "name": "stderr",
     "output_type": "stream",
     "text": [
      "/Users/samsonkoelle/anaconda3/envs/py35021518/lib/python3.5/site-packages/ipykernel_launcher.py:3: RuntimeWarning: overflow encountered in multiply\n",
      "  This is separate from the ipykernel package so we can avoid doing imports until\n"
     ]
    },
    {
     "ename": "KeyError",
     "evalue": "1",
     "output_type": "error",
     "traceback": [
      "\u001b[0;31m---------------------------------------------------------------------------\u001b[0m",
      "\u001b[0;31mKeyError\u001b[0m                                  Traceback (most recent call last)",
      "\u001b[0;32m<ipython-input-7-5e4485f63a8d>\u001b[0m in \u001b[0;36m<module>\u001b[0;34m()\u001b[0m\n\u001b[1;32m      7\u001b[0m \u001b[0mfilename\u001b[0m \u001b[0;34m=\u001b[0m \u001b[0mfolder\u001b[0m \u001b[0;34m+\u001b[0m \u001b[0;34m'/betas'\u001b[0m\u001b[0;34m\u001b[0m\u001b[0m\n\u001b[1;32m      8\u001b[0m \u001b[0mprint\u001b[0m\u001b[0;34m(\u001b[0m\u001b[0;34m'preplot'\u001b[0m\u001b[0;34m,\u001b[0m\u001b[0mdatetime\u001b[0m\u001b[0;34m.\u001b[0m\u001b[0mdatetime\u001b[0m\u001b[0;34m.\u001b[0m\u001b[0mnow\u001b[0m\u001b[0;34m(\u001b[0m\u001b[0;34m)\u001b[0m\u001b[0;34m.\u001b[0m\u001b[0mstrftime\u001b[0m\u001b[0;34m(\u001b[0m\u001b[0;34m\"%B_%d_%Y_%H_%M_%S\"\u001b[0m\u001b[0;34m)\u001b[0m\u001b[0;34m)\u001b[0m\u001b[0;34m\u001b[0m\u001b[0m\n\u001b[0;32m----> 9\u001b[0;31m \u001b[0mplot_betas2\u001b[0m\u001b[0;34m(\u001b[0m\u001b[0mexperiments\u001b[0m\u001b[0;34m,\u001b[0m \u001b[0mxaxis\u001b[0m\u001b[0;34m,\u001b[0m \u001b[0mtitle\u001b[0m\u001b[0;34m,\u001b[0m\u001b[0mfilename\u001b[0m\u001b[0;34m,\u001b[0m \u001b[0mgnames\u001b[0m\u001b[0;34m,\u001b[0m\u001b[0mnsel\u001b[0m\u001b[0;34m)\u001b[0m\u001b[0;34m\u001b[0m\u001b[0m\n\u001b[0m\u001b[1;32m     10\u001b[0m \u001b[0;31m#filenamescript = folder + '/script.py'\u001b[0m\u001b[0;34m\u001b[0m\u001b[0;34m\u001b[0m\u001b[0m\n\u001b[1;32m     11\u001b[0m \u001b[0;31m#from shutil import copyfile\u001b[0m\u001b[0;34m\u001b[0m\u001b[0;34m\u001b[0m\u001b[0m\n",
      "\u001b[0;32m~/Downloads/manigrad-100818/mani-samk-gradients/codes/otherfunctions/multiplot.py\u001b[0m in \u001b[0;36mplot_betas2\u001b[0;34m(experiments, xaxis, title, filename, gnames, nsel)\u001b[0m\n\u001b[1;32m    292\u001b[0m         \u001b[0;32mfor\u001b[0m \u001b[0ml\u001b[0m \u001b[0;32min\u001b[0m \u001b[0mrange\u001b[0m\u001b[0;34m(\u001b[0m\u001b[0mnreps\u001b[0m\u001b[0;34m)\u001b[0m\u001b[0;34m:\u001b[0m\u001b[0;34m\u001b[0m\u001b[0m\n\u001b[1;32m    293\u001b[0m             \u001b[0;31m# or j in range(p):\u001b[0m\u001b[0;34m\u001b[0m\u001b[0;34m\u001b[0m\u001b[0m\n\u001b[0;32m--> 294\u001b[0;31m             \u001b[0mcoeffs\u001b[0m \u001b[0;34m=\u001b[0m \u001b[0mexperiments\u001b[0m\u001b[0;34m[\u001b[0m\u001b[0ml\u001b[0m\u001b[0;34m]\u001b[0m\u001b[0;34m.\u001b[0m\u001b[0mcoeffs\u001b[0m\u001b[0;34m\u001b[0m\u001b[0m\n\u001b[0m\u001b[1;32m    295\u001b[0m             \u001b[0mmaxes\u001b[0m\u001b[0;34m[\u001b[0m\u001b[0mk\u001b[0m\u001b[0;34m]\u001b[0m \u001b[0;34m=\u001b[0m \u001b[0mnp\u001b[0m\u001b[0;34m.\u001b[0m\u001b[0mlinalg\u001b[0m\u001b[0;34m.\u001b[0m\u001b[0mnorm\u001b[0m\u001b[0;34m(\u001b[0m\u001b[0mcoeffs\u001b[0m\u001b[0;34m[\u001b[0m\u001b[0;34m:\u001b[0m\u001b[0;34m,\u001b[0m \u001b[0mk\u001b[0m\u001b[0;34m,\u001b[0m \u001b[0;34m:\u001b[0m\u001b[0;34m,\u001b[0m \u001b[0;34m:\u001b[0m\u001b[0;34m]\u001b[0m\u001b[0;34m,\u001b[0m \u001b[0maxis\u001b[0m\u001b[0;34m=\u001b[0m\u001b[0;36m1\u001b[0m\u001b[0;34m)\u001b[0m\u001b[0;34m.\u001b[0m\u001b[0mmax\u001b[0m\u001b[0;34m(\u001b[0m\u001b[0;34m)\u001b[0m\u001b[0;34m\u001b[0m\u001b[0m\n\u001b[1;32m    296\u001b[0m     \u001b[0mnormax\u001b[0m \u001b[0;34m=\u001b[0m \u001b[0mmaxes\u001b[0m\u001b[0;34m.\u001b[0m\u001b[0mmax\u001b[0m\u001b[0;34m(\u001b[0m\u001b[0;34m)\u001b[0m\u001b[0;34m\u001b[0m\u001b[0m\n",
      "\u001b[0;31mKeyError\u001b[0m: 1"
     ]
    }
   ],
   "source": [
    "\n",
    "experiments = get_coeffs_reps(experiments, nreps, lambdas, itermax,nsel,tol)\n",
    "xaxis = lambdas * np.sqrt(n * n_components)\n",
    "title ='Ethanol'\n",
    "#gnames = np.asarray(list(range(experiment.p)), dtype = str)\n",
    "gnames = np.asarray([r\"$\\displaystyle g_1$\", r\"$\\displaystyle g_2$\",r\"$\\displaystyle g_3$\", r\"$\\displaystyle g_4$\"])\n",
    "filename = folder + '/betas'\n",
    "print('preplot',datetime.datetime.now().strftime(\"%B_%d_%Y_%H_%M_%S\"))\n",
    "\n",
    "#filenamescript = folder + '/script.py'\n",
    "#from shutil import copyfile\n",
    "#src = workingdirectory + '/codes/experiments/rigidethanolpca_multirun.py'\n",
    "#copyfile(src, filenamescript)\n",
    "\n"
   ]
  },
  {
   "cell_type": "code",
   "execution_count": 9,
   "metadata": {},
   "outputs": [
    {
     "data": {
      "text/plain": [
       "[0]"
      ]
     },
     "execution_count": 9,
     "metadata": {},
     "output_type": "execute_result"
    }
   ],
   "source": [
    "list(range(1))"
   ]
  },
  {
   "cell_type": "code",
   "execution_count": 10,
   "metadata": {},
   "outputs": [
    {
     "data": {
      "text/plain": [
       "<codes.experimentclasses.EthanolAngles.EthanolAngles at 0x1052d0400>"
      ]
     },
     "execution_count": 10,
     "metadata": {},
     "output_type": "execute_result"
    }
   ],
   "source": [
    "experiments[0]"
   ]
  },
  {
   "cell_type": "code",
   "execution_count": 11,
   "metadata": {
    "collapsed": true
   },
   "outputs": [],
   "source": [
    "import matplotlib\n",
    "matplotlib.use('Agg')\n",
    "import matplotlib.pyplot as plt\n",
    "import numpy as np\n",
    "from matplotlib import rcParams\n",
    "from collections import OrderedDict\n",
    "import math\n",
    "from matplotlib.lines import Line2D\n",
    "from pylab import rcParams\n",
    "rcParams['figure.figsize'] = 25, 10\n"
   ]
  },
  {
   "cell_type": "code",
   "execution_count": 12,
   "metadata": {
    "collapsed": true
   },
   "outputs": [],
   "source": [
    "\n",
    "def plot_betas2(experiments, xaxis, title,filename, gnames,nsel):\n",
    "    title = \"\"\n",
    "    #gnames = np.asarray([r\"$\\displaystyle g_1$\",\n",
    "    #r\"$\\displaystyle g_2$\",\n",
    "    #r\"$\\displaystyle g_3$\",\n",
    "    #r\"$\\displaystyle g_4$\"])\n",
    "    #def plot_betas(experiments, xaxis, title,filename, gnames,nsel):\n",
    "    # help(megaman)\n",
    "    filename = filename+ 'symlog'\n",
    "    xlabel = r\"$\\displaystyle \\lambda$\"\n",
    "    ylabel = r\"$\\displaystyle \\|\\hat \\beta_{j}\\|_2$\"\n",
    "    rcParams['axes.titlesize'] = 30\n",
    "    plt.rc('text', usetex=True)\n",
    "    p = experiments[0].p\n",
    "    n = experiments[0].n\n",
    "    q = experiments[0].q\n",
    "    norm = matplotlib.colors.Normalize(vmin=0, vmax=p)\n",
    "    cmap = plt.cm.rainbow\n",
    "    nreps = 3\n",
    "    maxes = np.zeros(q)\n",
    "    for k in range(q):\n",
    "        for l in range(nreps):\n",
    "            # or j in range(p):\n",
    "            coeffs = experiments[l].coeffs\n",
    "            maxes[k] = np.linalg.norm(coeffs[:, k, :, :], axis=1).max()\n",
    "    normax = maxes.max()\n",
    "    if q > 1:\n",
    "        fig, axes = plt.subplots(1, q + 1, figsize=((15 * q), 15))\n",
    "        for k in range(q):\n",
    "            for j in range(p):\n",
    "\n",
    "                toplot = np.zeros((nreps, len(xaxis)))\n",
    "                for l in range(nreps):\n",
    "                    coeffs = experiments[l].coeffs\n",
    "                    toplot[l, :] = np.linalg.norm(coeffs[:, k, :, j], axis=1)\n",
    "                    # print('rep = ' ,l ,',' , 'p =',j , coeffs[:,k,:,j].max())\n",
    "                #print(toplot)\n",
    "                w = .15\n",
    "                widths = np.asarray([width(xaxis[i], w) for i in range(len(xaxis))])\n",
    "                # axes[k].boxplot(toplot, positions = xaxis, showfliers=False, patch_artist = True, vert = True ,widths=widths)\n",
    "                axes[k].boxplot(toplot, positions=xaxis, showfliers=False, vert=True, widths=widths,medianprops=dict(linestyle=''))\n",
    "                axes[k].plot(xaxis, toplot.mean(axis=0), 'go--', linewidth=5, markersize=0, alpha=1.,\n",
    "                             color=cmap(norm(j)), label=gnames[j])\n",
    "                # axes[k].plot(xaxis, , axis = 1), 'go--', linewidth=5, markersize=0, alpha = 1, color = cmap(norm(j)), label = gnames[j])\n",
    "        for j in range(p):\n",
    "            toplot = np.zeros((nreps, len(xaxis)))\n",
    "            for l in range(nreps):\n",
    "                coeffs = experiments[l].coeffs\n",
    "                toplot[l, :] = np.linalg.norm(np.linalg.norm(coeffs[:, :, :, j], axis=2), axis=1)\n",
    "            axes[q].boxplot(toplot, positions=xaxis, showfliers=False, vert=True, widths=widths,medianprops=dict(linestyle=''))\n",
    "            axes[q].plot(xaxis, toplot.mean(axis=0), 'go--', linewidth=5, markersize=0, alpha=1.,\n",
    "                         color=cmap(norm(j)), label=gnames[j])\n",
    "        for k in range(1 + q):\n",
    "            axes[k].tick_params(labelsize=50)\n",
    "            axes[k].set_xscale('symlog')\n",
    "            axes[k].set_yscale('symlog')\n",
    "            axes[k].set_ylim(bottom=0, top=10 * normax)\n",
    "            #axes[k].set_ylim(bottom=0, top= 2.5*normax)\n",
    "            if(k ==0):\n",
    "                tixx = np.hstack([np.asarray([0]),10**np.linspace(math.floor(np.log10(normax)) , math.floor(np.log10(normax)) + 1 ,2)])\n",
    "                #tixx = 10**np.linspace(math.floor(np.log10(normax)) - 2, math.floor(np.log10(normax)) + 1 ,4)\n",
    "                #axes[k].set_yticks(tixx)\n",
    "            if k!=0:\n",
    "                #axes[k].set_yticks(tixx)\n",
    "                axes[k].set_yticklabels([])\n",
    "            if k!= q:\n",
    "                axes[k].set_title(r\"$\\displaystyle \\phi_{{{}}}$\".format(k+1),fontdict  = {'fontsize':50})\n",
    "            if k ==q:\n",
    "                axes[k].set_title(\"Combined\",fontdict  = {'fontsize':50})\n",
    "        for k in range(1+q):\n",
    "            axes[k].grid(True, which=\"both\", alpha = True)\n",
    "\n",
    "        handles, labels = axes[0].get_legend_handles_labels()\n",
    "    by_label = OrderedDict(zip(labels, handles))\n",
    "    fig.text(0.5, 0.04, xlabel, ha='center', va='center', fontsize=50)\n",
    "    fig.text(0.05, 0.5, ylabel, ha='center', va='center', rotation='vertical', fontsize=60)\n",
    "    plt.suptitle(title, fontsize=55)\n",
    "    fig.subplots_adjust(right=0.75)\n",
    "    leg_ax = fig.add_axes([.8, 0.15, 0.05, 0.7])\n",
    "    leg_ax.axis('off')\n",
    "    # leg = leg_ax.legend(by_label.values(), by_label.keys(), prop={'size': 55})\n",
    "    leg = leg_ax.legend(by_label.values(), gnames, prop={'size': 200/p})\n",
    "    #leg.set_title('Torsion', prop={'size': Function})\n",
    "    for l in leg.get_lines():\n",
    "        l.set_alpha(1)\n",
    "    #fig.savefig(filename + 'beta_paths_log_n' + str(n) + 'nsel' + str(nsel) + 'nrepss' + str(\n",
    "    #    nreps) + 'rigidcombotoohighiter')\n",
    "    fig.savefig(filename + 'beta_paths_n' + str(n) + 'nsel' + str(nsel) + 'nreps' + str(\n",
    "        nreps))"
   ]
  },
  {
   "cell_type": "code",
   "execution_count": 13,
   "metadata": {},
   "outputs": [
    {
     "ename": "KeyError",
     "evalue": "1",
     "output_type": "error",
     "traceback": [
      "\u001b[0;31m---------------------------------------------------------------------------\u001b[0m",
      "\u001b[0;31mKeyError\u001b[0m                                  Traceback (most recent call last)",
      "\u001b[0;32m<ipython-input-13-1f671d61c3d5>\u001b[0m in \u001b[0;36m<module>\u001b[0;34m()\u001b[0m\n\u001b[0;32m----> 1\u001b[0;31m \u001b[0mplot_betas2\u001b[0m\u001b[0;34m(\u001b[0m\u001b[0mexperiments\u001b[0m\u001b[0;34m,\u001b[0m \u001b[0mxaxis\u001b[0m\u001b[0;34m,\u001b[0m \u001b[0mtitle\u001b[0m\u001b[0;34m,\u001b[0m\u001b[0mfilename\u001b[0m\u001b[0;34m,\u001b[0m \u001b[0mgnames\u001b[0m\u001b[0;34m,\u001b[0m\u001b[0mnsel\u001b[0m\u001b[0;34m)\u001b[0m\u001b[0;34m\u001b[0m\u001b[0m\n\u001b[0m",
      "\u001b[0;32m<ipython-input-12-6dd010365aaa>\u001b[0m in \u001b[0;36mplot_betas2\u001b[0;34m(experiments, xaxis, title, filename, gnames, nsel)\u001b[0m\n\u001b[1;32m     23\u001b[0m         \u001b[0;32mfor\u001b[0m \u001b[0ml\u001b[0m \u001b[0;32min\u001b[0m \u001b[0mrange\u001b[0m\u001b[0;34m(\u001b[0m\u001b[0mnreps\u001b[0m\u001b[0;34m)\u001b[0m\u001b[0;34m:\u001b[0m\u001b[0;34m\u001b[0m\u001b[0m\n\u001b[1;32m     24\u001b[0m             \u001b[0;31m# or j in range(p):\u001b[0m\u001b[0;34m\u001b[0m\u001b[0;34m\u001b[0m\u001b[0m\n\u001b[0;32m---> 25\u001b[0;31m             \u001b[0mcoeffs\u001b[0m \u001b[0;34m=\u001b[0m \u001b[0mexperiments\u001b[0m\u001b[0;34m[\u001b[0m\u001b[0ml\u001b[0m\u001b[0;34m]\u001b[0m\u001b[0;34m.\u001b[0m\u001b[0mcoeffs\u001b[0m\u001b[0;34m\u001b[0m\u001b[0m\n\u001b[0m\u001b[1;32m     26\u001b[0m             \u001b[0mmaxes\u001b[0m\u001b[0;34m[\u001b[0m\u001b[0mk\u001b[0m\u001b[0;34m]\u001b[0m \u001b[0;34m=\u001b[0m \u001b[0mnp\u001b[0m\u001b[0;34m.\u001b[0m\u001b[0mlinalg\u001b[0m\u001b[0;34m.\u001b[0m\u001b[0mnorm\u001b[0m\u001b[0;34m(\u001b[0m\u001b[0mcoeffs\u001b[0m\u001b[0;34m[\u001b[0m\u001b[0;34m:\u001b[0m\u001b[0;34m,\u001b[0m \u001b[0mk\u001b[0m\u001b[0;34m,\u001b[0m \u001b[0;34m:\u001b[0m\u001b[0;34m,\u001b[0m \u001b[0;34m:\u001b[0m\u001b[0;34m]\u001b[0m\u001b[0;34m,\u001b[0m \u001b[0maxis\u001b[0m\u001b[0;34m=\u001b[0m\u001b[0;36m1\u001b[0m\u001b[0;34m)\u001b[0m\u001b[0;34m.\u001b[0m\u001b[0mmax\u001b[0m\u001b[0;34m(\u001b[0m\u001b[0;34m)\u001b[0m\u001b[0;34m\u001b[0m\u001b[0m\n\u001b[1;32m     27\u001b[0m     \u001b[0mnormax\u001b[0m \u001b[0;34m=\u001b[0m \u001b[0mmaxes\u001b[0m\u001b[0;34m.\u001b[0m\u001b[0mmax\u001b[0m\u001b[0;34m(\u001b[0m\u001b[0;34m)\u001b[0m\u001b[0;34m\u001b[0m\u001b[0m\n",
      "\u001b[0;31mKeyError\u001b[0m: 1"
     ]
    }
   ],
   "source": [
    "plot_betas2(experiments, xaxis, title,filename, gnames,nsel)"
   ]
  },
  {
   "cell_type": "code",
   "execution_count": 24,
   "metadata": {
    "collapsed": true
   },
   "outputs": [],
   "source": [
    "\n",
    "def width(p,w):\n",
    "    if p > 1.:\n",
    "        output = 10**(np.log10(p)+w/2.)-10**(np.log10(p)-w/2.)\n",
    "    else:\n",
    "        output = w\n",
    "    return(output)\n"
   ]
  },
  {
   "cell_type": "code",
   "execution_count": 25,
   "metadata": {},
   "outputs": [
    {
     "name": "stderr",
     "output_type": "stream",
     "text": [
      "/Users/samsonkoelle/anaconda3/envs/py35021518/lib/python3.5/site-packages/ipykernel_launcher.py:4: RuntimeWarning: invalid value encountered in double_scalars\n",
      "  after removing the cwd from sys.path.\n"
     ]
    },
    {
     "ename": "ValueError",
     "evalue": "Axis limits cannot be NaN or Inf",
     "output_type": "error",
     "traceback": [
      "\u001b[0;31m---------------------------------------------------------------------------\u001b[0m",
      "\u001b[0;31mValueError\u001b[0m                                Traceback (most recent call last)",
      "\u001b[0;32m<ipython-input-25-d54319b14d5b>\u001b[0m in \u001b[0;36m<module>\u001b[0;34m()\u001b[0m\n\u001b[1;32m     38\u001b[0m             \u001b[0mwidths\u001b[0m \u001b[0;34m=\u001b[0m \u001b[0mnp\u001b[0m\u001b[0;34m.\u001b[0m\u001b[0masarray\u001b[0m\u001b[0;34m(\u001b[0m\u001b[0;34m[\u001b[0m\u001b[0mwidth\u001b[0m\u001b[0;34m(\u001b[0m\u001b[0mxaxis\u001b[0m\u001b[0;34m[\u001b[0m\u001b[0mi\u001b[0m\u001b[0;34m]\u001b[0m\u001b[0;34m,\u001b[0m \u001b[0mw\u001b[0m\u001b[0;34m)\u001b[0m \u001b[0;32mfor\u001b[0m \u001b[0mi\u001b[0m \u001b[0;32min\u001b[0m \u001b[0mrange\u001b[0m\u001b[0;34m(\u001b[0m\u001b[0mlen\u001b[0m\u001b[0;34m(\u001b[0m\u001b[0mxaxis\u001b[0m\u001b[0;34m)\u001b[0m\u001b[0;34m)\u001b[0m\u001b[0;34m]\u001b[0m\u001b[0;34m)\u001b[0m\u001b[0;34m\u001b[0m\u001b[0m\n\u001b[1;32m     39\u001b[0m             \u001b[0;31m# axes[k].boxplot(toplot, positions = xaxis, showfliers=False, patch_artist = True, vert = True ,widths=widths)\u001b[0m\u001b[0;34m\u001b[0m\u001b[0;34m\u001b[0m\u001b[0m\n\u001b[0;32m---> 40\u001b[0;31m             \u001b[0maxes\u001b[0m\u001b[0;34m[\u001b[0m\u001b[0mk\u001b[0m\u001b[0;34m]\u001b[0m\u001b[0;34m.\u001b[0m\u001b[0mboxplot\u001b[0m\u001b[0;34m(\u001b[0m\u001b[0mtoplot\u001b[0m\u001b[0;34m,\u001b[0m \u001b[0mpositions\u001b[0m\u001b[0;34m=\u001b[0m\u001b[0mxaxis\u001b[0m\u001b[0;34m,\u001b[0m \u001b[0mshowfliers\u001b[0m\u001b[0;34m=\u001b[0m\u001b[0;32mFalse\u001b[0m\u001b[0;34m,\u001b[0m \u001b[0mvert\u001b[0m\u001b[0;34m=\u001b[0m\u001b[0;32mTrue\u001b[0m\u001b[0;34m,\u001b[0m \u001b[0mwidths\u001b[0m\u001b[0;34m=\u001b[0m\u001b[0mwidths\u001b[0m\u001b[0;34m,\u001b[0m\u001b[0mmedianprops\u001b[0m\u001b[0;34m=\u001b[0m\u001b[0mdict\u001b[0m\u001b[0;34m(\u001b[0m\u001b[0mlinestyle\u001b[0m\u001b[0;34m=\u001b[0m\u001b[0;34m''\u001b[0m\u001b[0;34m)\u001b[0m\u001b[0;34m)\u001b[0m\u001b[0;34m\u001b[0m\u001b[0m\n\u001b[0m\u001b[1;32m     41\u001b[0m             axes[k].plot(xaxis, toplot.mean(axis=0), 'go--', linewidth=5, markersize=0, alpha=1.,\n\u001b[1;32m     42\u001b[0m                          color=cmap(norm(j)), label=gnames[j])\n",
      "\u001b[0;32m~/anaconda3/envs/py35021518/lib/python3.5/site-packages/matplotlib/__init__.py\u001b[0m in \u001b[0;36minner\u001b[0;34m(ax, *args, **kwargs)\u001b[0m\n\u001b[1;32m   1715\u001b[0m                     warnings.warn(msg % (label_namer, func.__name__),\n\u001b[1;32m   1716\u001b[0m                                   RuntimeWarning, stacklevel=2)\n\u001b[0;32m-> 1717\u001b[0;31m             \u001b[0;32mreturn\u001b[0m \u001b[0mfunc\u001b[0m\u001b[0;34m(\u001b[0m\u001b[0max\u001b[0m\u001b[0;34m,\u001b[0m \u001b[0;34m*\u001b[0m\u001b[0margs\u001b[0m\u001b[0;34m,\u001b[0m \u001b[0;34m**\u001b[0m\u001b[0mkwargs\u001b[0m\u001b[0;34m)\u001b[0m\u001b[0;34m\u001b[0m\u001b[0m\n\u001b[0m\u001b[1;32m   1718\u001b[0m         \u001b[0mpre_doc\u001b[0m \u001b[0;34m=\u001b[0m \u001b[0minner\u001b[0m\u001b[0;34m.\u001b[0m\u001b[0m__doc__\u001b[0m\u001b[0;34m\u001b[0m\u001b[0m\n\u001b[1;32m   1719\u001b[0m         \u001b[0;32mif\u001b[0m \u001b[0mpre_doc\u001b[0m \u001b[0;32mis\u001b[0m \u001b[0;32mNone\u001b[0m\u001b[0;34m:\u001b[0m\u001b[0;34m\u001b[0m\u001b[0m\n",
      "\u001b[0;32m~/anaconda3/envs/py35021518/lib/python3.5/site-packages/matplotlib/axes/_axes.py\u001b[0m in \u001b[0;36mboxplot\u001b[0;34m(self, x, notch, sym, vert, whis, positions, widths, patch_artist, bootstrap, usermedians, conf_intervals, meanline, showmeans, showcaps, showbox, showfliers, boxprops, labels, flierprops, medianprops, meanprops, capprops, whiskerprops, manage_xticks, autorange, zorder)\u001b[0m\n\u001b[1;32m   3379\u001b[0m                            \u001b[0mmeanline\u001b[0m\u001b[0;34m=\u001b[0m\u001b[0mmeanline\u001b[0m\u001b[0;34m,\u001b[0m \u001b[0mshowfliers\u001b[0m\u001b[0;34m=\u001b[0m\u001b[0mshowfliers\u001b[0m\u001b[0;34m,\u001b[0m\u001b[0;34m\u001b[0m\u001b[0m\n\u001b[1;32m   3380\u001b[0m                            \u001b[0mcapprops\u001b[0m\u001b[0;34m=\u001b[0m\u001b[0mcapprops\u001b[0m\u001b[0;34m,\u001b[0m \u001b[0mwhiskerprops\u001b[0m\u001b[0;34m=\u001b[0m\u001b[0mwhiskerprops\u001b[0m\u001b[0;34m,\u001b[0m\u001b[0;34m\u001b[0m\u001b[0m\n\u001b[0;32m-> 3381\u001b[0;31m                            manage_xticks=manage_xticks, zorder=zorder)\n\u001b[0m\u001b[1;32m   3382\u001b[0m         \u001b[0;32mreturn\u001b[0m \u001b[0martists\u001b[0m\u001b[0;34m\u001b[0m\u001b[0m\n\u001b[1;32m   3383\u001b[0m \u001b[0;34m\u001b[0m\u001b[0m\n",
      "\u001b[0;32m~/anaconda3/envs/py35021518/lib/python3.5/site-packages/matplotlib/axes/_axes.py\u001b[0m in \u001b[0;36mbxp\u001b[0;34m(self, bxpstats, positions, widths, vert, patch_artist, shownotches, showmeans, showcaps, showbox, showfliers, boxprops, whiskerprops, flierprops, medianprops, capprops, meanprops, meanline, manage_xticks, zorder)\u001b[0m\n\u001b[1;32m   3783\u001b[0m         \u001b[0;32mif\u001b[0m \u001b[0mmanage_xticks\u001b[0m\u001b[0;34m:\u001b[0m\u001b[0;34m\u001b[0m\u001b[0m\n\u001b[1;32m   3784\u001b[0m             \u001b[0mnewlimits\u001b[0m \u001b[0;34m=\u001b[0m \u001b[0mmin\u001b[0m\u001b[0;34m(\u001b[0m\u001b[0mpositions\u001b[0m\u001b[0;34m)\u001b[0m \u001b[0;34m-\u001b[0m \u001b[0;36m0.5\u001b[0m\u001b[0;34m,\u001b[0m \u001b[0mmax\u001b[0m\u001b[0;34m(\u001b[0m\u001b[0mpositions\u001b[0m\u001b[0;34m)\u001b[0m \u001b[0;34m+\u001b[0m \u001b[0;36m0.5\u001b[0m\u001b[0;34m\u001b[0m\u001b[0m\n\u001b[0;32m-> 3785\u001b[0;31m             \u001b[0msetlim\u001b[0m\u001b[0;34m(\u001b[0m\u001b[0mnewlimits\u001b[0m\u001b[0;34m)\u001b[0m\u001b[0;34m\u001b[0m\u001b[0m\n\u001b[0m\u001b[1;32m   3786\u001b[0m             \u001b[0msetticks\u001b[0m\u001b[0;34m(\u001b[0m\u001b[0mpositions\u001b[0m\u001b[0;34m)\u001b[0m\u001b[0;34m\u001b[0m\u001b[0m\n\u001b[1;32m   3787\u001b[0m             \u001b[0msetlabels\u001b[0m\u001b[0;34m(\u001b[0m\u001b[0mdatalabels\u001b[0m\u001b[0;34m)\u001b[0m\u001b[0;34m\u001b[0m\u001b[0m\n",
      "\u001b[0;32m~/anaconda3/envs/py35021518/lib/python3.5/site-packages/matplotlib/axes/_base.py\u001b[0m in \u001b[0;36mset_xlim\u001b[0;34m(self, left, right, emit, auto, **kw)\u001b[0m\n\u001b[1;32m   2947\u001b[0m         \u001b[0mself\u001b[0m\u001b[0;34m.\u001b[0m\u001b[0m_process_unit_info\u001b[0m\u001b[0;34m(\u001b[0m\u001b[0mxdata\u001b[0m\u001b[0;34m=\u001b[0m\u001b[0;34m(\u001b[0m\u001b[0mleft\u001b[0m\u001b[0;34m,\u001b[0m \u001b[0mright\u001b[0m\u001b[0;34m)\u001b[0m\u001b[0;34m)\u001b[0m\u001b[0;34m\u001b[0m\u001b[0m\n\u001b[1;32m   2948\u001b[0m         \u001b[0mleft\u001b[0m \u001b[0;34m=\u001b[0m \u001b[0mself\u001b[0m\u001b[0;34m.\u001b[0m\u001b[0m_validate_converted_limits\u001b[0m\u001b[0;34m(\u001b[0m\u001b[0mleft\u001b[0m\u001b[0;34m,\u001b[0m \u001b[0mself\u001b[0m\u001b[0;34m.\u001b[0m\u001b[0mconvert_xunits\u001b[0m\u001b[0;34m)\u001b[0m\u001b[0;34m\u001b[0m\u001b[0m\n\u001b[0;32m-> 2949\u001b[0;31m         \u001b[0mright\u001b[0m \u001b[0;34m=\u001b[0m \u001b[0mself\u001b[0m\u001b[0;34m.\u001b[0m\u001b[0m_validate_converted_limits\u001b[0m\u001b[0;34m(\u001b[0m\u001b[0mright\u001b[0m\u001b[0;34m,\u001b[0m \u001b[0mself\u001b[0m\u001b[0;34m.\u001b[0m\u001b[0mconvert_xunits\u001b[0m\u001b[0;34m)\u001b[0m\u001b[0;34m\u001b[0m\u001b[0m\n\u001b[0m\u001b[1;32m   2950\u001b[0m \u001b[0;34m\u001b[0m\u001b[0m\n\u001b[1;32m   2951\u001b[0m         \u001b[0mold_left\u001b[0m\u001b[0;34m,\u001b[0m \u001b[0mold_right\u001b[0m \u001b[0;34m=\u001b[0m \u001b[0mself\u001b[0m\u001b[0;34m.\u001b[0m\u001b[0mget_xlim\u001b[0m\u001b[0;34m(\u001b[0m\u001b[0;34m)\u001b[0m\u001b[0;34m\u001b[0m\u001b[0m\n",
      "\u001b[0;32m~/anaconda3/envs/py35021518/lib/python3.5/site-packages/matplotlib/axes/_base.py\u001b[0m in \u001b[0;36m_validate_converted_limits\u001b[0;34m(self, limit, convert)\u001b[0m\n\u001b[1;32m   2874\u001b[0m                     (not np.isreal(converted_limit) or\n\u001b[1;32m   2875\u001b[0m                         not np.isfinite(converted_limit))):\n\u001b[0;32m-> 2876\u001b[0;31m                 \u001b[0;32mraise\u001b[0m \u001b[0mValueError\u001b[0m\u001b[0;34m(\u001b[0m\u001b[0;34m\"Axis limits cannot be NaN or Inf\"\u001b[0m\u001b[0;34m)\u001b[0m\u001b[0;34m\u001b[0m\u001b[0m\n\u001b[0m\u001b[1;32m   2877\u001b[0m             \u001b[0;32mreturn\u001b[0m \u001b[0mconverted_limit\u001b[0m\u001b[0;34m\u001b[0m\u001b[0m\n\u001b[1;32m   2878\u001b[0m \u001b[0;34m\u001b[0m\u001b[0m\n",
      "\u001b[0;31mValueError\u001b[0m: Axis limits cannot be NaN or Inf"
     ]
    }
   ],
   "source": [
    "    title = \"\"\n",
    "    #gnames = np.asarray([r\"$\\displaystyle g_1$\",\n",
    "    #r\"$\\displaystyle g_2$\",\n",
    "    #r\"$\\displaystyle g_3$\",\n",
    "    #r\"$\\displaystyle g_4$\"])\n",
    "    #def plot_betas(experiments, xaxis, title,filename, gnames,nsel):\n",
    "    # help(megaman)\n",
    "    filename = filename+ 'symlog'\n",
    "    xlabel = r\"$\\displaystyle \\lambda$\"\n",
    "    ylabel = r\"$\\displaystyle \\|\\hat \\beta_{j}\\|_2$\"\n",
    "    rcParams['axes.titlesize'] = 30\n",
    "    plt.rc('text', usetex=True)\n",
    "    p = experiments[0].p\n",
    "    n = experiments[0].n\n",
    "    q = experiments[0].q\n",
    "    norm = matplotlib.colors.Normalize(vmin=0, vmax=p)\n",
    "    cmap = plt.cm.rainbow\n",
    "    nreps = len(experiments.keys())\n",
    "    maxes = np.zeros(q)\n",
    "    for k in range(q):\n",
    "        for l in range(nreps):\n",
    "            # or j in range(p):\n",
    "            coeffs = experiments[l].coeffs\n",
    "            maxes[k] = np.linalg.norm(coeffs[:, k, :, :], axis=1).max()\n",
    "    normax = maxes.max()\n",
    "    if q > 1:\n",
    "        fig, axes = plt.subplots(1, q + 1, figsize=((15 * q), 15))\n",
    "        for k in range(q):\n",
    "            for j in range(p):\n",
    "\n",
    "                toplot = np.zeros((nreps, len(xaxis)))\n",
    "                for l in range(nreps):\n",
    "                    coeffs = experiments[l].coeffs\n",
    "                    toplot[l, :] = np.linalg.norm(coeffs[:, k, :, j], axis=1)\n",
    "                    # print('rep = ' ,l ,',' , 'p =',j , coeffs[:,k,:,j].max())\n",
    "                #print(toplot)\n",
    "                w = .15\n",
    "                widths = np.asarray([width(xaxis[i], w) for i in range(len(xaxis))])\n",
    "                # axes[k].boxplot(toplot, positions = xaxis, showfliers=False, patch_artist = True, vert = True ,widths=widths)\n",
    "                axes[k].boxplot(toplot, positions=xaxis, showfliers=False, vert=True, widths=widths,medianprops=dict(linestyle=''))\n",
    "                axes[k].plot(xaxis, toplot.mean(axis=0), 'go--', linewidth=5, markersize=0, alpha=1.,\n",
    "                             color=cmap(norm(j)), label=gnames[j])\n",
    "                # axes[k].plot(xaxis, , axis = 1), 'go--', linewidth=5, markersize=0, alpha = 1, color = cmap(norm(j)), label = gnames[j])\n",
    "        for j in range(p):\n",
    "            toplot = np.zeros((nreps, len(xaxis)))\n",
    "            for l in range(nreps):\n",
    "                coeffs = experiments[l].coeffs\n",
    "                toplot[l, :] = np.linalg.norm(np.linalg.norm(coeffs[:, :, :, j], axis=2), axis=1)\n",
    "            axes[q].boxplot(toplot, positions=xaxis, showfliers=False, vert=True, widths=widths,medianprops=dict(linestyle=''))\n",
    "            axes[q].plot(xaxis, toplot.mean(axis=0), 'go--', linewidth=5, markersize=0, alpha=1.,\n",
    "                         color=cmap(norm(j)), label=gnames[j])\n",
    "        for k in range(1 + q):\n",
    "            axes[k].tick_params(labelsize=50)\n",
    "            axes[k].set_xscale('symlog')\n",
    "            axes[k].set_yscale('symlog')\n",
    "            axes[k].set_ylim(bottom=0, top=10 * normax)\n",
    "            #axes[k].set_ylim(bottom=0, top= 2.5*normax)\n",
    "            if(k ==0):\n",
    "                tixx = np.hstack([np.asarray([0]),10**np.linspace(math.floor(np.log10(normax)) , math.floor(np.log10(normax)) + 1 ,2)])\n",
    "                #tixx = 10**np.linspace(math.floor(np.log10(normax)) - 2, math.floor(np.log10(normax)) + 1 ,4)\n",
    "                #axes[k].set_yticks(tixx)\n",
    "            if k!=0:\n",
    "                #axes[k].set_yticks(tixx)\n",
    "                axes[k].set_yticklabels([])\n",
    "            if k!= q:\n",
    "                axes[k].set_title(r\"$\\displaystyle \\phi_{{{}}}$\".format(k+1),fontdict  = {'fontsize':50})\n",
    "            if k ==q:\n",
    "                axes[k].set_title(\"Combined\",fontdict  = {'fontsize':50})\n",
    "        for k in range(1+q):\n",
    "            axes[k].grid(True, which=\"both\", alpha = True)\n",
    "\n",
    "        handles, labels = axes[0].get_legend_handles_labels()\n",
    "    by_label = OrderedDict(zip(labels, handles))\n",
    "    fig.text(0.5, 0.04, xlabel, ha='center', va='center', fontsize=50)\n",
    "    fig.text(0.05, 0.5, ylabel, ha='center', va='center', rotation='vertical', fontsize=60)\n",
    "    plt.suptitle(title, fontsize=55)\n",
    "    fig.subplots_adjust(right=0.75)\n",
    "    leg_ax = fig.add_axes([.8, 0.15, 0.05, 0.7])\n",
    "    leg_ax.axis('off')\n",
    "    # leg = leg_ax.legend(by_label.values(), by_label.keys(), prop={'size': 55})\n",
    "    leg = leg_ax.legend(by_label.values(), gnames, prop={'size': 200/p})\n",
    "    #leg.set_title('Torsion', prop={'size': Function})\n",
    "    for l in leg.get_lines():\n",
    "        l.set_alpha(1)\n",
    "    #fig.savefig(filename + 'beta_paths_log_n' + str(n) + 'nsel' + str(nsel) + 'nrepss' + str(\n",
    "    #    nreps) + 'rigidcombotoohighiter')\n",
    "    fig.savefig(filename + 'beta_paths_n' + str(n) + 'nsel' + str(nsel) + 'nreps' + str(\n",
    "        nreps))"
   ]
  },
  {
   "cell_type": "code",
   "execution_count": 39,
   "metadata": {},
   "outputs": [
    {
     "data": {
      "text/plain": [
       "387.2983346207417"
      ]
     },
     "execution_count": 39,
     "metadata": {},
     "output_type": "execute_result"
    }
   ],
   "source": [
    "np.sqrt(n * n_components)"
   ]
  },
  {
   "cell_type": "code",
   "execution_count": 42,
   "metadata": {},
   "outputs": [],
   "source": [
    "xaxis = np.asarray(lambdas, dtype = np.float64) * np.sqrt(n * n_components)\n"
   ]
  },
  {
   "cell_type": "code",
   "execution_count": 43,
   "metadata": {},
   "outputs": [
    {
     "data": {
      "text/plain": [
       "array([0.00000000e+00, 3.87454942e-01, 1.54243264e+00, 6.14018203e+00,\n",
       "       2.44425341e+01, 9.72973599e+01, 3.87298335e+02, 1.54162892e+03,\n",
       "       6.13928376e+03, 2.44361043e+04, 9.73087066e+04, 3.87298335e+05])"
      ]
     },
     "execution_count": 43,
     "metadata": {},
     "output_type": "execute_result"
    }
   ],
   "source": [
    "xaxis"
   ]
  },
  {
   "cell_type": "code",
   "execution_count": 37,
   "metadata": {},
   "outputs": [
    {
     "data": {
      "text/plain": [
       "array([0.000e+00, 1.000e-03, 3.983e-03, 1.585e-02, 6.311e-02, 2.512e-01,\n",
       "       1.000e+00, 3.980e+00, 1.585e+01, 6.309e+01, 2.512e+02, 1.000e+03],\n",
       "      dtype=float16)"
      ]
     },
     "execution_count": 37,
     "metadata": {},
     "output_type": "execute_result"
    }
   ],
   "source": [
    "lambdas"
   ]
  },
  {
   "cell_type": "code",
   "execution_count": 19,
   "metadata": {
    "collapsed": true
   },
   "outputs": [],
   "source": [
    "more = {}"
   ]
  },
  {
   "cell_type": "code",
   "execution_count": 20,
   "metadata": {
    "collapsed": true
   },
   "outputs": [],
   "source": [
    "more[1] = 2"
   ]
  },
  {
   "cell_type": "code",
   "execution_count": 21,
   "metadata": {
    "collapsed": true
   },
   "outputs": [],
   "source": [
    "more[2] = 3"
   ]
  },
  {
   "cell_type": "code",
   "execution_count": 22,
   "metadata": {},
   "outputs": [
    {
     "data": {
      "text/plain": [
       "2"
      ]
     },
     "execution_count": 22,
     "metadata": {},
     "output_type": "execute_result"
    }
   ],
   "source": [
    "len(more.keys())"
   ]
  },
  {
   "cell_type": "code",
   "execution_count": null,
   "metadata": {
    "collapsed": true
   },
   "outputs": [],
   "source": []
  }
 ],
 "metadata": {
  "kernelspec": {
   "display_name": "python35megaman03",
   "language": "python",
   "name": "python35megaman03"
  },
  "language_info": {
   "codemirror_mode": {
    "name": "ipython",
    "version": 3
   },
   "file_extension": ".py",
   "mimetype": "text/x-python",
   "name": "python",
   "nbconvert_exporter": "python",
   "pygments_lexer": "ipython3",
   "version": "3.5.5"
  }
 },
 "nbformat": 4,
 "nbformat_minor": 2
}
