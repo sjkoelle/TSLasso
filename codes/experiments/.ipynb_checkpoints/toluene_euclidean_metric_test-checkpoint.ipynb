{
 "cells": [
  {
   "cell_type": "code",
   "execution_count": 1,
   "metadata": {
    "collapsed": true
   },
   "outputs": [],
   "source": [
    "import torch\n",
    "import numpy as np\n",
    "import os\n",
    "#workingdirectory = '/Users/samsonkoelle/Downloads/manigrad-100818/mani-samk-gradients'\n",
    "workingdirectory = os.popen('git rev-parse --show-toplevel').read()[:-1]\n",
    "os.chdir(workingdirectory)\n",
    "from codes.otherfunctions.data_stream_custom_range import data_stream_custom_range"
   ]
  },
  {
   "cell_type": "code",
   "execution_count": 2,
   "metadata": {
    "collapsed": true
   },
   "outputs": [],
   "source": [
    "    def torchComputeAngle(poses):\n",
    "        combos = torch.tensor([[0, 1], [1, 2], [2, 0]])\n",
    "        ab = torch.norm(poses[combos[0, 0], :] - poses[combos[0, 1], :])\n",
    "        bc = torch.norm(poses[combos[1, 0], :] - poses[combos[1, 1], :])\n",
    "        ca = torch.norm(poses[combos[2, 0], :] - poses[combos[2, 1], :])\n",
    "        output = torch.acos((ab ** 2 - bc ** 2 + ca ** 2) / (2 * ab * ca))\n",
    "        return (output)\n",
    "\n",
    "    def torchCompute3angles(position):\n",
    "        angles = np.ones(3)\n",
    "        gradients = np.zeros((3, position.shape[0], 3))\n",
    "        for i in range(3):\n",
    "            #print(i)\n",
    "            poses = torch.tensor(position[[i, (i + 1) % 3, (i + 2) % 3], :], requires_grad=True)\n",
    "            tempang = torchComputeAngle(poses)\n",
    "            tempang.backward()\n",
    "            angles[i] = tempang.detach().numpy()\n",
    "            gradients[i] = poses.grad[[(2 * i) % 3, (2 * i + 1) % 3, (2 * i + 2) % 3], :]\n",
    "            # del(poses)\n",
    "        return(angles, gradients)\n",
    "\n",
    "    def reshapepointdata(pointdata, atoms3):\n",
    "        natoms = len(np.unique(atoms3))\n",
    "        output = np.zeros((pointdata.shape[0] * pointdata.shape[1], natoms * 3))\n",
    "        for i in range(pointdata.shape[0]):\n",
    "            for j in range(pointdata.shape[1]):\n",
    "                for k in range(pointdata.shape[2]):\n",
    "                    for l in range(pointdata.shape[3]):\n",
    "                        # print(atoms3[k]*3 + l)\n",
    "                        output[i * 3 + j, atoms3[i][k] * 3 + l] = pointdata[i, j, k, l]\n",
    "        return(output)\n",
    "\n",
    "    def get_wilson(selind, atoms3, tdata):\n",
    "        natoms = len(np.unique(atoms3))\n",
    "        jacobien = np.zeros((len(selind), len(atoms3) * 3, natoms * 3))\n",
    "        for i in range(len(selind)):\n",
    "            pointdata = tdata[i * len(atoms3): (i + 1) * len(atoms3)]\n",
    "            jacobien[i] = reshapepointdata(pointdata, atoms3)\n",
    "        return(jacobien)\n",
    "\n",
    "    def get_internal_projector(natoms, jacobien, selind):\n",
    "        nnonzerosvd = 3 * natoms - 7\n",
    "        internalprojector = np.zeros((len(selind), jacobien.shape[1], nnonzerosvd))\n",
    "        secondprojector = np.zeros((len(selind), nnonzerosvd, natoms*3))\n",
    "        svds = np.zeros((len(selind), nnonzerosvd))\n",
    "        for i in range(len(selind)):\n",
    "            # when rescaling vectors, big directions must be shrunk... this is the riemannian bundle and should be treated as such\n",
    "            asdf = np.linalg.svd(jacobien[i])\n",
    "            #internalprojector[i] = (asdf[0][:, :nnonzerosvd] * asdf[1][:nnonzerosvd] ** (-1))\n",
    "            internalprojector[i] = (asdf[0][:, :nnonzerosvd] )\n",
    "            svds[i] = asdf[1][:nnonzerosvd]\n",
    "            secondprojector[i] = asdf[2][:nnonzerosvd,:]\n",
    "        return (internalprojector, svds, secondprojector)\n",
    "\n",
    "    def get_dw(cores,atoms3,natoms, selected_points):\n",
    "        positions = experiment.positions\n",
    "        p = Pool(cores)\n",
    "        n = len(selected_points)\n",
    "        results = p.map(lambda i: torchCompute3angles(position=positions[i[0], atoms3[i[1]], :]),\n",
    "                        data_stream_custom_range(selected_points, len(atoms3)))\n",
    "        tdata = np.asarray([results[i][1] for i in range(n * len(atoms3))])\n",
    "        # for i in range(len(selected_points)):\n",
    "        #     pointdata = tdata[i * len(atoms3): (i + 1) * len(atoms3)]\n",
    "        jacobien = get_wilson(selected_points, atoms3, tdata)\n",
    "        internalprojector, svds, secondprojector = get_internal_projector(natoms, jacobien, selected_points)\n",
    "        return(internalprojector, svds, secondprojector)"
   ]
  },
  {
   "cell_type": "code",
   "execution_count": 3,
   "metadata": {},
   "outputs": [
    {
     "name": "stdout",
     "output_type": "stream",
     "text": [
      "/Users/samsonkoelle/Downloads/manigrad-100818/mani-samk-gradients\n",
      "[[ 9  0  1  2]\n",
      " [ 0  1  2  3]\n",
      " [ 1  2  3  4]\n",
      " [ 2  3  4  5]\n",
      " [ 3  4  5  6]\n",
      " [ 4  5  6  1]\n",
      " [ 5  6  1  0]\n",
      " [ 0  1  3 11]\n",
      " [10  2  4 12]\n",
      " [11  3  5 13]\n",
      " [12  4  6 14]\n",
      " [10  2  6 13]\n",
      " [ 0  1  5 13]\n",
      " [11  3  6 14]\n",
      " [12  4  1  0]\n",
      " [10  2  5 13]]\n"
     ]
    }
   ],
   "source": [
    "\n",
    "\n",
    "#rootdirectory = '/Users/samsonkoelle/Downloads/manigrad-100818/mani-samk-gradients'\n",
    "#f = open(rootdirectory + '/code/source/packagecontrol.py')\n",
    "#source = f.read()\n",
    "#exec(source)\n",
    "#f = open(rootdirectory + '/code/source/sourcecontrol.py')\n",
    "#source = f.read()\n",
    "#exec(source)\n",
    "#f = open(rootdirectory + '/code/source/RigidEthanol.py')\n",
    "#source = f.read()\n",
    "#exec(source)\n",
    "\n",
    "from codes.experimentclasses.TolueneAngles import TolueneAngles\n",
    "from codes.geometer.RiemannianManifold import RiemannianManifold\n",
    "from codes.geometer.TangentBundle import TangentBundle\n",
    "from codes.geometer.ShapeSpace import ShapeSpace\n",
    "import numpy as np\n",
    "import datetime\n",
    "now = datetime.datetime.now().strftime(\"%B_%d_%Y_%H_%M_%S\")\n",
    "#set parameters\n",
    "n = 50000 #number of data points to simulate\n",
    "nsel = 100 #number of points to analyze with lasso\n",
    "itermax = 1000 #maximum iterations per lasso run\n",
    "tol = 1e-10 #convergence criteria for lasso\n",
    "lambdas = np.asarray([0,1,2,3,4,5,6,7,8,9,10,15,25], dtype = np.float16)#lambda values for lasso\n",
    "#lambdas = np.asarray([0,1,10,100,1000], dtype = np.float16)#lambda values for lasso\n",
    "n_neighbors = 1000 #number of neighbors in megaman\n",
    "n_components = 2 #number of embedding dimensions (diffusion maps)\n",
    "diffusion_time = 1. #diffusion time controls gaussian kernel radius per gradients paper\n",
    "#diffusion_time =.28 #(yuchia suggestion)\n",
    "dim = 1 #manifold dimension\n",
    "cores = 3 #number of cores for parallel processing\n",
    "ii = np.asarray([0, 0, 0, 0, 1, 6, 5, 6, 5, 4, 4, 3, 3, 2, 2])\n",
    "jj = np.asarray([8, 9, 7, 1, 6, 14, 13, 5, 4, 12, 3, 11, 2, 10, 1])\n",
    "dnoise = 2\n",
    "\n",
    "#run experiment\n",
    "#atoms4 = np.asarray([[9,0,1,2],[0,1,2,3],[1,2,3,4],[2,3,4,5],[3,4,5,6],[4,5,6,1],[5,6,1,0]],dtype = int)\n",
    "atoms4 = np.asarray([[9,0,1,2],[0,1,2,3],[1,2,3,4],[2,3,4,5],[3,4,5,6],[4,5,6,1],[5,6,1,0],\n",
    "\t[0,1,3,11],[10,2,4,12],[11,3,5,13],[12,4,6,14],[10,2,6,13],[0,1,5,13],[11,3,6,14],[12,4,1,0],[10,2,5,13]],dtype = int)\n",
    "experiment = TolueneAngles(dim, n, ii, jj,cores,atoms4)\n",
    "experiment.M = experiment.load_data() #if noise == False then noise parameters are overriden\n",
    "experiment.Mpca = RiemannianManifold(np.load(workingdirectory + '/untracked_data/chemistry_data/tolueneangles020619_pca50.npy'), dim)\n",
    "experiment.q = n_components\n"
   ]
  },
  {
   "cell_type": "code",
   "execution_count": 4,
   "metadata": {
    "collapsed": true
   },
   "outputs": [],
   "source": [
    "experiment.Mpca.selected_points = np.asarray([ 3357,   333, 37013, 24048, 15936,  8762,  5952, 18352, 31090,\n",
    "       44431, 43902, 29063,  2098, 23954,  1827,  8742, 37681, 23993,\n",
    "       49257, 43832,  1881, 42195, 13522,   142, 11015, 39340, 43444,\n",
    "       41153, 18961, 21461, 13849, 29996, 19286, 27691, 31564,  4173,\n",
    "       43220, 44870, 29346,  2392, 25502, 47364, 12098, 25836,  3286,\n",
    "       18610, 42252,  1232, 34268, 46695, 26703, 19927,  5026, 34520,\n",
    "       35132,  4271, 49826, 37718,  4993, 46356, 12636, 19241, 22773,\n",
    "       20934, 38499,  2555,  6068, 21435, 45346,  3978, 46104, 37142,\n",
    "       31124,   797, 31569, 48422, 28202,  5548, 20440, 12008, 18293,\n",
    "       32116, 11464,  5565, 17679, 38656, 45442, 18581,  1492, 16781,\n",
    "       20302, 31021,  7915, 31038,  1654, 32845, 36460, 31594, 37902,\n",
    "       20451])"
   ]
  },
  {
   "cell_type": "code",
   "execution_count": null,
   "metadata": {
    "collapsed": true,
    "scrolled": true
   },
   "outputs": [],
   "source": []
  },
  {
   "cell_type": "code",
   "execution_count": 16,
   "metadata": {
    "collapsed": true
   },
   "outputs": [],
   "source": [
    "projector  = np.load(workingdirectory + '/untracked_data/chemistry_data/tolueneangles020619_pca50_components.npy')\n",
    "experiment.dg_x = experiment.get_dx_g_full(experiment.M.data[experiment.Mpca.selected_points])\n",
    "experiment.dg_x_pca = np.asarray([np.matmul(projector, experiment.dg_x[i].transpose()) for i in range(nsel)])\n",
    "experiment.W = ShapeSpace(experiment.positions, experiment.M.data)\n"
   ]
  },
  {
   "cell_type": "code",
   "execution_count": 17,
   "metadata": {
    "collapsed": true
   },
   "outputs": [],
   "source": [
    "from pathos.multiprocessing import ProcessingPool as Pool"
   ]
  },
  {
   "cell_type": "code",
   "execution_count": 18,
   "metadata": {
    "collapsed": true
   },
   "outputs": [],
   "source": [
    "experiment.dw,experiment.svds,experiment.dw_euclidean = get_dw(cores, experiment.atoms3, experiment.natoms, experiment.Mpca.selected_points)\n"
   ]
  },
  {
   "cell_type": "code",
   "execution_count": 19,
   "metadata": {},
   "outputs": [
    {
     "data": {
      "text/plain": [
       "(100, 38, 45)"
      ]
     },
     "execution_count": 19,
     "metadata": {},
     "output_type": "execute_result"
    }
   ],
   "source": [
    "experiment.dw_euclidean.shape"
   ]
  },
  {
   "cell_type": "code",
   "execution_count": 33,
   "metadata": {},
   "outputs": [],
   "source": [
    "experiment.dg_nopca = experiment.project(np.swapaxes(experiment.dg_x,1,2), np.swapaxes(experiment.dw,1,2))"
   ]
  },
  {
   "cell_type": "code",
   "execution_count": 34,
   "metadata": {},
   "outputs": [
    {
     "data": {
      "text/plain": [
       "(100, 38, 16)"
      ]
     },
     "execution_count": 34,
     "metadata": {},
     "output_type": "execute_result"
    }
   ],
   "source": [
    "experiment.dg_nopca.shape"
   ]
  },
  {
   "cell_type": "code",
   "execution_count": 37,
   "metadata": {},
   "outputs": [],
   "source": [
    "torsion_norm_vec = np.linalg.norm(experiment.dg_nopca, axis = 1)"
   ]
  },
  {
   "cell_type": "code",
   "execution_count": 41,
   "metadata": {},
   "outputs": [
    {
     "data": {
      "text/plain": [
       "<matplotlib.collections.PathCollection at 0x1091136a0>"
      ]
     },
     "execution_count": 41,
     "metadata": {},
     "output_type": "execute_result"
    },
    {
     "data": {
      "image/png": "[encoded data removed]",
      "text/plain": [
       "<matplotlib.figure.Figure at 0x109103c50>"
      ]
     },
     "metadata": {},
     "output_type": "display_data"
    }
   ],
   "source": [
    "fig = plt.figure(figsize = (5,3))\n",
    "ax = fig.add_subplot(111)\n",
    "ax.scatter(realgs[:,1],torsion_norm_vec[:,1])"
   ]
  },
  {
   "cell_type": "code",
   "execution_count": 42,
   "metadata": {},
   "outputs": [
    {
     "data": {
      "text/plain": [
       "array([[[-2.56703653e-02,  6.49729104e-03, -1.32500493e-02, ...,\n",
       "          5.07623994e-02,  5.58787732e-02, -1.09335260e-01],\n",
       "        [-5.78613228e-02,  1.06415535e-01, -6.37239330e-01, ...,\n",
       "         -1.20489440e-01,  1.39747979e-01,  1.10505485e-01],\n",
       "        [ 4.06931950e+00,  2.68035212e+01, -7.14094996e+01, ...,\n",
       "         -9.03984813e+00,  6.34317102e-01, -3.46005591e+00],\n",
       "        ...,\n",
       "        [-2.97414724e+00, -5.58782695e+00,  2.86007331e+00, ...,\n",
       "         -2.22745924e+00,  1.65751624e+01,  1.64265827e+01],\n",
       "        [-2.26083360e-01,  1.05485038e-01, -3.01121535e-01, ...,\n",
       "         -4.03942733e-01,  5.47940738e-01,  6.57604977e-01],\n",
       "        [-4.09951315e-01,  7.09088014e+00, -4.72036760e+00, ...,\n",
       "         -3.51194948e-01,  6.53554170e+00,  5.91461752e+00]],\n",
       "\n",
       "       [[ 3.39885475e-02, -3.86442105e-02, -3.23065185e-02, ...,\n",
       "          6.05565971e-03,  2.38925029e-02,  8.70902827e-02],\n",
       "        [ 3.38451898e-02, -2.95787129e-01,  7.03178845e-02, ...,\n",
       "         -4.59518613e-02,  2.51990453e-02,  1.35638253e-02],\n",
       "        [-4.33509088e-02, -7.23696552e-01,  5.75890070e-01, ...,\n",
       "         -1.53453543e-02,  2.59224834e-02,  5.85923087e-02],\n",
       "        ...,\n",
       "        [ 1.84118646e-01, -2.90837307e+00,  1.02463255e+00, ...,\n",
       "          2.02342180e-01, -2.15468249e-02, -3.26520861e-01],\n",
       "        [ 8.20521121e-01, -1.40258585e-01, -3.98811695e-01, ...,\n",
       "          1.49406718e-01,  1.38267695e-01, -6.34036561e-01],\n",
       "        [ 2.70639160e-02,  2.54532811e-01, -6.81205872e-02, ...,\n",
       "          5.85777917e-02, -9.51578274e-02,  8.26545602e-02]],\n",
       "\n",
       "       [[-3.21207802e-02, -1.00002717e-02,  2.63875993e-02, ...,\n",
       "         -5.70606327e-02,  4.51893974e-02, -1.31965711e-01],\n",
       "        [-9.87091767e-02, -1.27280991e-01,  7.44556509e-01, ...,\n",
       "          2.01563840e-02, -1.14701991e-01, -1.32951225e-01],\n",
       "        [-6.89341076e-02,  7.69112537e-02,  6.02119043e-01, ...,\n",
       "         -3.43733864e-02, -1.63883380e-02, -2.06032964e-02],\n",
       "        ...,\n",
       "        [ 4.70784831e+00,  7.51602098e-01, -1.41729226e+01, ...,\n",
       "          3.83588142e+01, -2.12545586e+01, -3.06204282e+01],\n",
       "        [ 6.69657280e+01,  4.17729226e+01, -9.01659384e+01, ...,\n",
       "          9.42652560e+01, -1.08523370e+02, -2.56054955e+02],\n",
       "        [ 8.10155031e+00,  1.53756971e+01, -5.34168040e+00, ...,\n",
       "          1.67548384e+01, -1.70360067e+01, -1.93044804e+01]],\n",
       "\n",
       "       ...,\n",
       "\n",
       "       [[ 1.99085812e-02, -2.18203599e-02,  1.58490407e-03, ...,\n",
       "         -1.02930980e-01, -2.89895105e-02,  7.32363507e-02],\n",
       "        [ 9.09576575e-02, -6.88690212e+00,  5.17265821e+00, ...,\n",
       "         -7.37192972e-01, -1.14602214e+00, -6.72759504e-01],\n",
       "        [-1.01547979e+00, -2.77322868e+00,  4.71537356e+00, ...,\n",
       "          2.56483947e-01,  3.07963246e-01,  3.64484343e-01],\n",
       "        ...,\n",
       "        [ 2.85652677e-01,  3.60591133e+00,  4.73232175e+00, ...,\n",
       "          3.61080355e-01,  3.29004739e+00, -1.20911961e+00],\n",
       "        [ 3.60350958e+00, -1.80501898e+00, -7.49348664e+00, ...,\n",
       "         -5.77913856e+00, -1.08698187e+01, -8.40161574e+00],\n",
       "        [ 2.11898441e-01,  3.77841609e-01, -4.59836219e-01, ...,\n",
       "          2.97245045e-02,  2.53346899e-01,  2.09821078e-01]],\n",
       "\n",
       "       [[ 1.06885342e-01, -1.75231741e-01,  5.44144342e-01, ...,\n",
       "          2.59975127e-02,  1.63651360e-01,  1.21661425e-01],\n",
       "        [ 7.77856477e-02, -2.64841741e-01,  9.35668857e-01, ...,\n",
       "          6.04643271e-02, -6.15130565e-02,  6.86143491e-02],\n",
       "        [-1.49845250e-01, -1.56721420e-01,  2.74644659e+00, ...,\n",
       "          8.38578735e-02,  1.61346743e-03,  1.54304733e-01],\n",
       "        ...,\n",
       "        [-2.73654069e-02, -8.18470000e-03,  3.07783225e-01, ...,\n",
       "          4.81782438e-03, -1.63656570e-01,  3.97148067e-01],\n",
       "        [-6.01056338e-01,  3.14693072e+00, -4.30872054e-01, ...,\n",
       "         -3.18193212e+00,  2.20259089e+00, -1.09644108e+00],\n",
       "        [ 8.17361843e+00, -1.95962746e+01,  2.73233192e+01, ...,\n",
       "          5.90672157e+00, -7.48065328e+01,  2.26964224e+01]],\n",
       "\n",
       "       [[ 4.11662916e-02,  3.91888441e-03,  1.15148699e-02, ...,\n",
       "          9.77209970e-02,  3.79202070e-02,  9.91054798e-02],\n",
       "        [ 1.19407268e+00,  1.97431388e+00,  3.38880178e+00, ...,\n",
       "         -2.62574979e-01, -2.56331691e-01,  4.71981855e-01],\n",
       "        [-4.06845389e-02,  2.77983644e-02,  7.99171440e-01, ...,\n",
       "         -2.40812637e-02,  2.29294225e-02, -1.52916201e-02],\n",
       "        ...,\n",
       "        [ 1.02260280e+01,  7.39305272e+00, -2.65610220e+01, ...,\n",
       "         -3.83670469e+01, -4.78118392e+01,  2.47611523e+01],\n",
       "        [ 4.12723694e+00,  2.61037640e+00,  5.68607689e-01, ...,\n",
       "         -1.25059904e+00, -1.86368360e-01,  5.86281457e+00],\n",
       "        [ 4.96210113e-01,  7.53556589e-01,  4.60777631e+00, ...,\n",
       "         -7.01468171e+00, -5.25597475e+00,  3.56211832e+00]]])"
      ]
     },
     "execution_count": 42,
     "metadata": {},
     "output_type": "execute_result"
    }
   ],
   "source": [
    "#rescaled by euclidean metric\n",
    "experiment.dw_pca = np.asarray([np.matmul(projector, experiment.dw[i]) for i in range(nsel)])\n",
    "experiment.dg_w = experiment.project(experiment.dw_pca, np.swapaxes(experiment.dg_x_pca,1,2))\n",
    "experiment.dg_w"
   ]
  },
  {
   "cell_type": "code",
   "execution_count": 43,
   "metadata": {},
   "outputs": [
    {
     "data": {
      "text/plain": [
       "(100, 38)"
      ]
     },
     "execution_count": 43,
     "metadata": {},
     "output_type": "execute_result"
    }
   ],
   "source": [
    "experiment.svds.shape"
   ]
  },
  {
   "cell_type": "code",
   "execution_count": 44,
   "metadata": {
    "collapsed": true
   },
   "outputs": [],
   "source": [
    "nm = np.asarray([experiment.dg_w[i] * (experiment.svds[i]**(2)) for i in range(nsel)])"
   ]
  },
  {
   "cell_type": "code",
   "execution_count": 45,
   "metadata": {
    "collapsed": true
   },
   "outputs": [],
   "source": [
    "import matplotlib.pyplot as plt\n",
    "torsion_norm_vec = np.linalg.norm(nm[:,:,:], axis = 2)\n",
    "realgs = experiment.get_g_full(experiment.M.data[experiment.Mpca.selected_points])"
   ]
  },
  {
   "cell_type": "code",
   "execution_count": 46,
   "metadata": {},
   "outputs": [
    {
     "data": {
      "text/plain": [
       "<matplotlib.collections.PathCollection at 0x139e78f60>"
      ]
     },
     "execution_count": 46,
     "metadata": {},
     "output_type": "execute_result"
    },
    {
     "data": {
      "image/png": "[encoded data removed]",
      "text/plain": [
       "<matplotlib.figure.Figure at 0x13a8614a8>"
      ]
     },
     "metadata": {},
     "output_type": "display_data"
    }
   ],
   "source": [
    "fig = plt.figure(figsize = (5,3))\n",
    "ax = fig.add_subplot(111)\n",
    "#ax.plot(experiment.positions[2098][experiment.atoms4[1],0], experiment.positions[2098][experiment.atoms4[1],1],experiment.positions[2098][experiment.atoms4[1],2])\n",
    "ax.scatter(realgs[:,1],torsion_norm_vec[:,1])"
   ]
  },
  {
   "cell_type": "code",
   "execution_count": null,
   "metadata": {},
   "outputs": [],
   "source": [
    "nm = np.asarray([experiment.dg_w[i] * (experiment.svds[i]**(-1)) for i in range(nsel)])\n",
    "torsion_norm_vec = np.linalg.norm(nm[:,:,:], axis = 2)\n",
    "realgs = experiment.get_g_full(experiment.M.data[experiment.Mpca.selected_points])\n",
    "fig = plt.figure(figsize = (5,3))\n",
    "ax = fig.add_subplot(111)\n",
    "#ax.plot(experiment.positions[2098][experiment.atoms4[1],0], experiment.positions[2098][experiment.atoms4[1],1],experiment.positions[2098][experiment.atoms4[1],2])\n",
    "ax.scatter(realgs[:,1],torsion_norm_vec[:,1])"
   ]
  },
  {
   "cell_type": "code",
   "execution_count": null,
   "metadata": {
    "scrolled": true
   },
   "outputs": [],
   "source": [
    "plt.scatter(experiment.svds[12], experiment.svds[8])"
   ]
  },
  {
   "cell_type": "code",
   "execution_count": null,
   "metadata": {},
   "outputs": [],
   "source": [
    "help(torchCompute3angles)"
   ]
  },
  {
   "cell_type": "code",
   "execution_count": null,
   "metadata": {
    "collapsed": true
   },
   "outputs": [],
   "source": [
    "pos1 = np.zeros((3,3))\n",
    "pos1[1,0] = 1.\n",
    "pos1[2,0] = .5\n",
    "pos1[2,1] = .5\n",
    "jac1 = torchCompute3angles(pos1)"
   ]
  },
  {
   "cell_type": "code",
   "execution_count": null,
   "metadata": {
    "collapsed": true
   },
   "outputs": [],
   "source": []
  },
  {
   "cell_type": "code",
   "execution_count": null,
   "metadata": {
    "collapsed": true
   },
   "outputs": [],
   "source": [
    "pos2 = np.zeros((3,3))\n",
    "pos2[1,0] = 1.\n",
    "pos2[2,0] = .5\n",
    "pos2[2,1] = .001\n",
    "jac2 = torchCompute3angles(pos2)"
   ]
  },
  {
   "cell_type": "code",
   "execution_count": null,
   "metadata": {},
   "outputs": [],
   "source": [
    "#the second matrix is the euclidean boy... the first is the angle boy\n",
    "np.linalg.svd(jac1[1][2])"
   ]
  },
  {
   "cell_type": "code",
   "execution_count": null,
   "metadata": {},
   "outputs": [],
   "source": [
    "np.linalg.svd(jac2[1][0])"
   ]
  },
  {
   "cell_type": "code",
   "execution_count": null,
   "metadata": {},
   "outputs": [],
   "source": [
    "np.linalg.svd(jac2[1][1])"
   ]
  },
  {
   "cell_type": "code",
   "execution_count": null,
   "metadata": {},
   "outputs": [],
   "source": [
    "np.linalg.svd(jac2[1][2])"
   ]
  },
  {
   "cell_type": "code",
   "execution_count": null,
   "metadata": {},
   "outputs": [],
   "source": [
    "np.linalg.svd(jac1[1][2])"
   ]
  },
  {
   "cell_type": "code",
   "execution_count": 75,
   "metadata": {},
   "outputs": [
    {
     "data": {
      "text/plain": [
       "(array([[ 4.08248290e-01, -7.07106781e-01,  5.77350269e-01],\n",
       "        [ 4.08248290e-01,  7.07106781e-01,  5.77350269e-01],\n",
       "        [-8.16496581e-01,  4.44089210e-16,  5.77350269e-01]]),\n",
       " array([1.73205081, 1.        , 0.        ]),\n",
       " array([[-0.70710678, -0.70710678, -0.        ],\n",
       "        [-0.70710678,  0.70710678,  0.        ],\n",
       "        [ 0.        ,  0.        ,  1.        ]]))"
      ]
     },
     "execution_count": 75,
     "metadata": {},
     "output_type": "execute_result"
    }
   ],
   "source": [
    "np.linalg.svd(jac1[1][1])"
   ]
  },
  {
   "cell_type": "code",
   "execution_count": 77,
   "metadata": {},
   "outputs": [
    {
     "data": {
      "text/plain": [
       "3.0000000084216563"
      ]
     },
     "execution_count": 77,
     "metadata": {},
     "output_type": "execute_result"
    }
   ],
   "source": [
    "1.73205081**2"
   ]
  },
  {
   "cell_type": "code",
   "execution_count": 76,
   "metadata": {},
   "outputs": [
    {
     "data": {
      "text/plain": [
       "(array([[-4.08248290e-01,  7.07106781e-01,  5.77350269e-01],\n",
       "        [-4.08248290e-01, -7.07106781e-01,  5.77350269e-01],\n",
       "        [ 8.16496581e-01,  4.44089210e-16,  5.77350269e-01]]),\n",
       " array([1.73205081, 1.        , 0.        ]),\n",
       " array([[-0.70710678,  0.70710678, -0.        ],\n",
       "        [ 0.70710678,  0.70710678,  0.        ],\n",
       "        [ 0.        ,  0.        ,  1.        ]]))"
      ]
     },
     "execution_count": 76,
     "metadata": {},
     "output_type": "execute_result"
    }
   ],
   "source": [
    "np.linalg.svd(jac1[1][0])"
   ]
  },
  {
   "cell_type": "code",
   "execution_count": 63,
   "metadata": {},
   "outputs": [
    {
     "data": {
      "text/plain": [
       "(array([1.99999733e-03, 1.99999733e-03, 3.13759266e+00]),\n",
       " array([[[ 3.99998400e-03, -9.99992000e-01,  0.00000000e+00],\n",
       "         [ 5.68434189e-14, -1.00000000e+00,  0.00000000e+00],\n",
       "         [-3.99998400e-03,  1.99999200e+00,  0.00000000e+00]],\n",
       " \n",
       "        [[-5.68434189e-14, -1.00000000e+00,  0.00000000e+00],\n",
       "         [-3.99998400e-03, -9.99992000e-01,  0.00000000e+00],\n",
       "         [ 3.99998400e-03,  1.99999200e+00,  0.00000000e+00]],\n",
       " \n",
       "        [[-3.99998400e-03,  1.99999200e+00,  0.00000000e+00],\n",
       "         [ 3.99998400e-03,  1.99999200e+00,  0.00000000e+00],\n",
       "         [ 0.00000000e+00, -3.99998400e+00,  0.00000000e+00]]]))"
      ]
     },
     "execution_count": 63,
     "metadata": {},
     "output_type": "execute_result"
    }
   ],
   "source": [
    "torchCompute3angles(pos2)"
   ]
  },
  {
   "cell_type": "code",
   "execution_count": null,
   "metadata": {
    "collapsed": true
   },
   "outputs": [],
   "source": [
    "    def torchComputeAngle(poses):\n",
    "        combos = torch.tensor([[0, 1], [1, 2], [2, 0]])\n",
    "        ab = torch.norm(poses[combos[0, 0], :] - poses[combos[0, 1], :])\n",
    "        bc = torch.norm(poses[combos[1, 0], :] - poses[combos[1, 1], :])\n",
    "        ca = torch.norm(poses[combos[2, 0], :] - poses[combos[2, 1], :])\n",
    "        output = torch.acos((ab ** 2 - bc ** 2 + ca ** 2) / (2 * ab * ca))\n",
    "        return (output)\n",
    "\n",
    "    def torchCompute3angles(position):\n",
    "        angles = np.ones(3)\n",
    "        gradients = np.zeros((3, position.shape[0], 3))\n",
    "        for i in range(3):\n",
    "            #print(i)\n",
    "            poses = torch.tensor(position[[i, (i + 1) % 3, (i + 2) % 3], :], requires_grad=True)\n",
    "            tempang = torchComputeAngle(poses)\n",
    "            tempang.backward()\n",
    "            angles[i] = tempang.detach().numpy()\n",
    "            gradients[i] = poses.grad[[(2 * i) % 3, (2 * i + 1) % 3, (2 * i + 2) % 3], :]\n",
    "            # del(poses)\n",
    "        return(angles, gradients)"
   ]
  },
  {
   "cell_type": "code",
   "execution_count": 68,
   "metadata": {},
   "outputs": [
    {
     "data": {
      "text/plain": [
       "array([[ 3.99998400e-03, -9.99992000e-01,  0.00000000e+00],\n",
       "       [ 5.68434189e-14, -1.00000000e+00,  0.00000000e+00],\n",
       "       [-3.99998400e-03,  1.99999200e+00,  0.00000000e+00]])"
      ]
     },
     "execution_count": 68,
     "metadata": {},
     "output_type": "execute_result"
    }
   ],
   "source": [
    "jac2[1][0]"
   ]
  },
  {
   "cell_type": "code",
   "execution_count": 69,
   "metadata": {},
   "outputs": [
    {
     "data": {
      "text/plain": [
       "array([[-5.68434189e-14, -1.00000000e+00,  0.00000000e+00],\n",
       "       [-3.99998400e-03, -9.99992000e-01,  0.00000000e+00],\n",
       "       [ 3.99998400e-03,  1.99999200e+00,  0.00000000e+00]])"
      ]
     },
     "execution_count": 69,
     "metadata": {},
     "output_type": "execute_result"
    }
   ],
   "source": [
    "jac2[1][1]"
   ]
  },
  {
   "cell_type": "code",
   "execution_count": 70,
   "metadata": {},
   "outputs": [
    {
     "data": {
      "text/plain": [
       "array([[-3.999984e-03,  1.999992e+00,  0.000000e+00],\n",
       "       [ 3.999984e-03,  1.999992e+00,  0.000000e+00],\n",
       "       [ 0.000000e+00, -3.999984e+00,  0.000000e+00]])"
      ]
     },
     "execution_count": 70,
     "metadata": {},
     "output_type": "execute_result"
    }
   ],
   "source": [
    "jac2[1][2]"
   ]
  },
  {
   "cell_type": "code",
   "execution_count": 82,
   "metadata": {
    "collapsed": true
   },
   "outputs": [],
   "source": [
    "selected_points = experiment.Mpca.selected_points[[8,12]]\n",
    "atoms3 = experiment.atoms3\n",
    "p = Pool(cores)\n",
    "positions = experiment.positions\n"
   ]
  },
  {
   "cell_type": "code",
   "execution_count": null,
   "metadata": {
    "collapsed": true
   },
   "outputs": [],
   "source": []
  },
  {
   "cell_type": "code",
   "execution_count": 86,
   "metadata": {
    "collapsed": true
   },
   "outputs": [],
   "source": [
    "results = p.map(lambda i: torchCompute3angles(position=experiment.positions[i[0], experiment.atoms3[i[1]], :]),\n",
    "                        data_stream_custom_range(selected_points, len(experiment.atoms3)))"
   ]
  },
  {
   "cell_type": "code",
   "execution_count": 88,
   "metadata": {
    "collapsed": true
   },
   "outputs": [],
   "source": [
    "tdata = np.asarray([results[i][1] for i in range(2 * len(atoms3))])"
   ]
  },
  {
   "cell_type": "code",
   "execution_count": 89,
   "metadata": {},
   "outputs": [
    {
     "data": {
      "text/plain": [
       "(910, 3, 3, 3)"
      ]
     },
     "execution_count": 89,
     "metadata": {},
     "output_type": "execute_result"
    }
   ],
   "source": [
    "tdata.shape"
   ]
  },
  {
   "cell_type": "code",
   "execution_count": 107,
   "metadata": {},
   "outputs": [
    {
     "data": {
      "text/plain": [
       "(array([0.49975075, 2.12500119, 0.51684072]),\n",
       " array([[[-0.38847359, -0.01838809, -0.03114206],\n",
       "         [ 0.58304889, -0.13600668,  0.34761421],\n",
       "         [-0.1945753 ,  0.15439477, -0.31647215]],\n",
       " \n",
       "        [[ 0.58304889, -0.13600668,  0.34761421],\n",
       "         [-0.57574608,  0.47752165, -0.97444892],\n",
       "         [-0.00730282, -0.34151497,  0.62683471]],\n",
       " \n",
       "        [[-0.1945753 ,  0.15439477, -0.31647215],\n",
       "         [-0.00730282, -0.34151497,  0.62683471],\n",
       "         [ 0.20187812,  0.18712021, -0.31036255]]]))"
      ]
     },
     "execution_count": 107,
     "metadata": {},
     "output_type": "execute_result"
    }
   ],
   "source": [
    "torchCompute3angles(position=experiment.positions[8, experiment.atoms3[0], :])\n",
    "torchCompute3angles(position=experiment.positions[8, experiment.atoms3[1], :])\n",
    "torchCompute3angles(position=experiment.positions[8, experiment.atoms3[13], :])\n",
    "torchCompute3angles(position=experiment.positions[8, experiment.atoms3[91], :])"
   ]
  },
  {
   "cell_type": "code",
   "execution_count": 103,
   "metadata": {
    "collapsed": true
   },
   "outputs": [],
   "source": [
    "flatboi = experiment.atoms3[[0,1,13,91]]"
   ]
  },
  {
   "cell_type": "code",
   "execution_count": null,
   "metadata": {
    "collapsed": true
   },
   "outputs": [],
   "source": []
  },
  {
   "cell_type": "code",
   "execution_count": null,
   "metadata": {
    "collapsed": true
   },
   "outputs": [],
   "source": []
  },
  {
   "cell_type": "code",
   "execution_count": null,
   "metadata": {
    "collapsed": true
   },
   "outputs": [],
   "source": []
  },
  {
   "cell_type": "code",
   "execution_count": null,
   "metadata": {
    "collapsed": true
   },
   "outputs": [],
   "source": []
  },
  {
   "cell_type": "code",
   "execution_count": null,
   "metadata": {
    "collapsed": true
   },
   "outputs": [],
   "source": []
  },
  {
   "cell_type": "code",
   "execution_count": null,
   "metadata": {
    "collapsed": true
   },
   "outputs": [],
   "source": []
  },
  {
   "cell_type": "code",
   "execution_count": null,
   "metadata": {
    "collapsed": true
   },
   "outputs": [],
   "source": []
  },
  {
   "cell_type": "code",
   "execution_count": null,
   "metadata": {
    "collapsed": true
   },
   "outputs": [],
   "source": [
    "experiment.Mpca.geom = experiment.Mpca.compute_geom(diffusion_time, n_neighbors)\n",
    "experiment.N = experiment.Mpca.get_embedding3(experiment.Mpca.geom, n_components, diffusion_time, dim)\n",
    "#experiment.g0 = experiment.get_g_full_sub(experiment.M.data,experiment.atoms4[0])\n",
    "#experiment.N.plot([0,1], list(range(50000)),experiment.g0,.1,.1, 'g0tol')\n",
    "#experiment.N.plot([0,1],)\n",
    "#experiment.M.selected_points = np.random.choice(list(range(n)),nsel,replace = False)\n",
    "folder = workingdirectory + '/Figures/toluene/' + now\n",
    "os.mkdir(folder)\n",
    "#experiment.Mpca.selected_points = np.random.choice(list(range(n)),nsel,replace = False)\n",
    "#experiment.Mpca.selected_points = experiment.Mpca.selected_points[:50]\n",
    "tangent_bases = experiment.Mpca.get_wlpca_tangent_sel(experiment.Mpca,experiment.Mpca.selected_points,dnoise)"
   ]
  },
  {
   "cell_type": "code",
   "execution_count": null,
   "metadata": {
    "collapsed": true
   },
   "outputs": [],
   "source": [
    "subM = RiemannianManifold(experiment.Mpca.data[experiment.Mpca.selected_points], dim)\n",
    "subM.tb = TangentBundle(subM, tangent_bases)\n",
    "experiment.N.tangent_bundle = TangentBundle(experiment.N, experiment.N.geom.rmetric.embedding_eigenvectors)\n",
    "experiment.df_M = experiment.get_dF_js_idM(experiment.Mpca, experiment.N, subM.tb, experiment.N.tangent_bundle,experiment.Mpca.selected_points,dnoise)"
   ]
  },
  {
   "cell_type": "code",
   "execution_count": null,
   "metadata": {
    "collapsed": true
   },
   "outputs": [],
   "source": [
    "torsion_norm_vec = np.linalg.norm(experiment.dgw_norm[:,:,:], axis = 2)"
   ]
  }
 ],
 "metadata": {
  "kernelspec": {
   "display_name": "python35megaman03",
   "language": "python",
   "name": "python35megaman03"
  },
  "language_info": {
   "codemirror_mode": {
    "name": "ipython",
    "version": 3
   },
   "file_extension": ".py",
   "mimetype": "text/x-python",
   "name": "python",
   "nbconvert_exporter": "python",
   "pygments_lexer": "ipython3",
   "version": "3.5.5"
  }
 },
 "nbformat": 4,
 "nbformat_minor": 2
}
