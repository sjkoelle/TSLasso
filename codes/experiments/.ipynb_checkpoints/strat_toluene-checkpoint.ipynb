{
 "cells": [
  {
   "cell_type": "code",
   "execution_count": 5,
   "metadata": {},
   "outputs": [
    {
     "name": "stdout",
     "output_type": "stream",
     "text": [
      "/Users/samsonkoelle/Downloads/manigrad-100818/mani-samk-gradients\n"
     ]
    }
   ],
   "source": [
    "import os\n",
    "#workingdirectory = '/Users/samsonkoelle/Downloads/manigrad-100818/mani-samk-gradients'\n",
    "workingdirectory = os.popen('git rev-parse --show-toplevel').read()[:-1]\n",
    "os.chdir(workingdirectory)\n",
    "from codes.experimentclasses.TolueneAngles import TolueneAngles\n",
    "from codes.geometer.RiemannianManifold import RiemannianManifold\n",
    "from codes.geometer.TangentBundle import TangentBundle\n",
    "from codes.geometer.ShapeSpace import ShapeSpace\n",
    "import numpy as np\n",
    "import datetime\n",
    "#from pathos.multiprocessing import ProcessingPool as Pool\n",
    "import scipy\n",
    "now = datetime.datetime.now().strftime(\"%B_%d_%Y_%H_%M_%S\")\n",
    "#set parameters\n",
    "n = 50000 #number of data points to simulate\n",
    "nsel = 100 #number of points to analyze with lasso\n",
    "itermax = 1000 #maximum iterations per lasso run\n",
    "tol = 1e-10 #convergence criteria for lasso\n",
    "lambdas = np.asarray([0,1,2,3,4,5,6,7,8,9,10,15,25], dtype = np.float16)#lambda values for lasso\n",
    "#lambdas = np.asarray([0,1,10,100,1000], dtype = np.float16)#lambda values for lasso\n",
    "n_neighbors = 1000 #number of neighbors in megaman\n",
    "n_components = 2 #number of embedding dimensions (diffusion maps)\n",
    "diffusion_time = 1. #diffusion time controls gaussian kernel radius per gradients paper\n",
    "#diffusion_time =.28 #(yuchia suggestion)\n",
    "dim = 1 #manifold dimension\n",
    "cores = 3 #number of cores for parallel processing\n",
    "ii = np.asarray([0, 0, 0, 0, 1, 6, 5, 6, 5, 4, 4, 3, 3, 2, 2])\n",
    "jj = np.asarray([8, 9, 7, 1, 6, 14, 13, 5, 4, 12, 3, 11, 2, 10, 1])\n",
    "dnoise = 1"
   ]
  },
  {
   "cell_type": "code",
   "execution_count": 6,
   "metadata": {
    "scrolled": false
   },
   "outputs": [
    {
     "name": "stdout",
     "output_type": "stream",
     "text": [
      "[[ 9  0  1  2]\n",
      " [ 0  1  2  3]\n",
      " [ 1  2  3  4]\n",
      " [ 2  3  4  5]\n",
      " [ 3  4  5  6]\n",
      " [ 4  5  6  1]\n",
      " [ 5  6  1  0]\n",
      " [ 0  1  3 11]\n",
      " [10  2  4 12]\n",
      " [11  3  5 13]\n",
      " [12  4  6 14]\n",
      " [10  2  6 13]\n",
      " [ 0  1  5 13]\n",
      " [11  3  6 14]\n",
      " [12  4  1  0]\n",
      " [10  2  5 13]]\n",
      "initializing Geometry\n",
      "executing laplacian.compute_laplacian_matrix\n",
      "executing Laplacian.laplacian_matrix\n",
      "pre _compute_laplacian\n",
      "executing GeometricLaplacian._compute_laplacian\n",
      "executing _normalize_laplacian\n",
      "executing _normalize_laplacian\n",
      "post _compute_laplacian\n",
      "executing laplacian.compute_laplacian_matrix\n",
      "executing Laplacian.laplacian_matrix\n",
      "pre _compute_laplacian\n",
      "executing GeometricLaplacian._compute_laplacian\n",
      "executing _normalize_laplacian\n",
      "executing _normalize_laplacian\n",
      "post _compute_laplacian\n"
     ]
    },
    {
     "name": "stderr",
     "output_type": "stream",
     "text": [
      "/Users/samsonkoelle/anaconda3/envs/py35021518/lib/python3.5/site-packages/megaman/geometry/rmetric.py:95: RuntimeWarning: divide by zero encountered in reciprocal\n",
      "  Einv = E**(-1)\n"
     ]
    }
   ],
   "source": [
    "#run experiment\n",
    "#atoms4 = np.asarray([[9,0,1,2],[0,1,2,3],[1,2,3,4],[2,3,4,5],[3,4,5,6],[4,5,6,1],[5,6,1,0]],dtype = int)\n",
    "atoms4 = np.asarray([[9,0,1,2],[0,1,2,3],[1,2,3,4],[2,3,4,5],[3,4,5,6],[4,5,6,1],[5,6,1,0],\n",
    "\t[0,1,3,11],[10,2,4,12],[11,3,5,13],[12,4,6,14],[10,2,6,13],[0,1,5,13],[11,3,6,14],[12,4,1,0],[10,2,5,13]],dtype = int)\n",
    "experiment = TolueneAngles(dim, n, ii, jj,cores,atoms4)\n",
    "experiment.M = experiment.load_data() #if noise == False then noise parameters are overriden\n",
    "experiment.Mpca = RiemannianManifold(np.load(workingdirectory + '/untracked_data/chemistry_data/tolueneangles020619_pca50.npy'), dim)\n",
    "experiment.q = n_components\n",
    "experiment.Mpca.geom = experiment.Mpca.compute_geom(diffusion_time, n_neighbors)\n",
    "experiment.N = experiment.Mpca.get_embedding3(experiment.Mpca.geom, n_components, diffusion_time, dim)\n",
    "#experiment.g0 = experiment.get_g_full_sub(experiment.M.data,experiment.atoms4[0])\n",
    "#experiment.N.plot([0,1], list(range(50000)),experiment.g0,.1,.1, 'g0tol')\n",
    "#experiment.N.plot([0,1],)\n",
    "#experiment.M.selected_points = np.random.choice(list(range(n)),nsel,replace = False)\n",
    "folder = workingdirectory + '/Figures/toluene/' + now\n",
    "os.mkdir(folder)\n",
    "experiment.Mpca.selected_points = np.random.choice(list(range(n)),nsel,replace = False)\n",
    "#experiment.Mpca.selected_points = np.asarray([ 911, 8873, 3223, 1867, 5243, 6188, 2567, 8330, 4615, 4561, 1431,\n",
    "#       4218, 7020,   39, 1542, 3258, 7355, 5396, 5252, 2863,  114, 6123,\n",
    "#       1259, 3568, 2403, 5681, 2340, 5062, 3205, 1082, 3383, 4840, 9009,\n",
    "#       5246,  140, 9999, 6659, 2759, 6980, 1054, 4552, 5233,  367, 9262,\n",
    "#       7272, 2930, 7055, 8931, 4999, 5829, 7530, 3487, 1001, 4592, 8429,\n",
    "#       3572,  312, 4158, 6723,  217, 6387, 6007, 3569, 9479, 9645, 5041,\n",
    "#       3923, 6205,   41, 3443, 1655, 4000, 1292, 4443, 5100, 7193, 5096,\n",
    "#       6689, 4729, 9424, 7672, 3565,  289, 2224, 1898,  400, 8428, 9752,\n",
    "#       2767, 1551,  837, 8257, 6307, 8820, 7884, 7814, 8203, 3468, 4826,\n",
    "#       2824])\n",
    "#experiment.Mpca.selected_points = experiment.Mpca.selected_points[:50]\n",
    "tangent_bases = experiment.Mpca.get_wlpca_tangent_sel(experiment.Mpca,experiment.Mpca.selected_points,dnoise)\n",
    "subM = RiemannianManifold(experiment.Mpca.data[experiment.Mpca.selected_points], dim)\n",
    "subM.tb = TangentBundle(subM, tangent_bases)\n",
    "experiment.N.tangent_bundle = TangentBundle(experiment.N, experiment.N.geom.rmetric.embedding_eigenvectors)\n",
    "experiment.df_M = experiment.get_dF_js_idM(experiment.Mpca, experiment.N, subM.tb, experiment.N.tangent_bundle,experiment.Mpca.selected_points,dnoise)\n",
    "projector  = np.load(workingdirectory + '/untracked_data/chemistry_data/tolueneangles020619_pca50_components.npy')\n",
    "experiment.dg_x = experiment.get_dx_g_full(experiment.M.data[experiment.Mpca.selected_points])\n",
    "experiment.dg_x_pca = np.asarray([np.matmul(projector, experiment.dg_x[i].transpose()) for i in range(nsel)])\n",
    "experiment.W = ShapeSpace(experiment.positions, experiment.M.data)\n",
    "experiment.dw = experiment.W.get_dw(cores, experiment.atoms3, experiment.natoms, experiment.Mpca.selected_points)\n",
    "experiment.dw_pca = np.asarray([np.matmul(projector, experiment.dw[i]) for i in range(nsel)])\n",
    "experiment.dg_w = experiment.project(experiment.dw_pca, np.swapaxes(experiment.dg_x_pca,1,2))\n",
    "tb_w_tangent_bases = experiment.project(experiment.dw_pca, np.swapaxes(subM.tb.tangent_bases,1,2))\n",
    "experiment.dgw_norm = experiment.normalize(experiment.dg_w)\n",
    "experiment.dg_M = experiment.project(np.swapaxes(tb_w_tangent_bases,1,2), experiment.dgw_norm)"
   ]
  },
  {
   "cell_type": "code",
   "execution_count": 7,
   "metadata": {},
   "outputs": [
    {
     "data": {
      "text/plain": [
       "(100, 50, 1)"
      ]
     },
     "execution_count": 7,
     "metadata": {},
     "output_type": "execute_result"
    }
   ],
   "source": [
    "subM.tb.tangent_bases.shape"
   ]
  },
  {
   "cell_type": "code",
   "execution_count": 8,
   "metadata": {},
   "outputs": [],
   "source": [
    "dg_M = experiment.dg_M\n",
    "n = dg_M.shape[0]\n",
    "dim = dg_M.shape[2]\n",
    "p = dg_M.shape[1]\n",
    "q = experiment.q  \n",
    "xmat = np.zeros((n,dim, p))\n",
    "for i in range(n):\n",
    "    xmat[i,:,:] = dg_M[i,:,:].transpose()\n",
    "b = [scipy.linalg.block_diag(*([xmat[i]]*q)) for i in range(n)]\n",
    "#xmatq = scipy.linalg.block_diag(*b) \n",
    "#groups = np.zeros(p*q) \n",
    "groups = np.tile(np.asarray(np.linspace(start = 0, stop = (p-1), num = p), dtype = int),q)"
   ]
  },
  {
   "cell_type": "code",
   "execution_count": 9,
   "metadata": {
    "collapsed": true
   },
   "outputs": [],
   "source": [
    "#groupsbig = np.tile(np.tile(np.asarray(np.linspace(start = 0, stop = (p-1), num = p), dtype = int), n),q)"
   ]
  },
  {
   "cell_type": "code",
   "execution_count": 10,
   "metadata": {},
   "outputs": [],
   "source": [
    "#groupsbig.shape"
   ]
  },
  {
   "cell_type": "code",
   "execution_count": 11,
   "metadata": {
    "collapsed": true
   },
   "outputs": [],
   "source": [
    "#groups = np.tile(np.asarray(np.linspace(start = 0, stop = (p-1), num = p), dtype = int),q)"
   ]
  },
  {
   "cell_type": "code",
   "execution_count": 12,
   "metadata": {},
   "outputs": [],
   "source": [
    "#groups"
   ]
  },
  {
   "cell_type": "code",
   "execution_count": null,
   "metadata": {
    "collapsed": true
   },
   "outputs": [],
   "source": []
  },
  {
   "cell_type": "code",
   "execution_count": 13,
   "metadata": {},
   "outputs": [],
   "source": [
    "    def construct_X_js_n(self, dg_M):\n",
    "        n = dg_M.shape[0]\n",
    "        dim = dg_M.shape[2]\n",
    "        p = dg_M.shape[1]\n",
    "        q = self.q  \n",
    "        xmat = np.zeros((n,dim, p))\n",
    "        for i in range(n):\n",
    "            xmat[i,:,:] = dg_M[i,:,:].transpose()\n",
    "        xmatq = [scipy.linalg.block_diag(*([xmat[i]]*q)) for i in range(n)]\n",
    "        #xmatq = scipy.linalg.block_diag(*b) \n",
    "        #groups = np.zeros(p*q) \n",
    "        groups = np.tile(np.asarray(np.linspace(start = 0, stop = (p-1), num = p), dtype = int),q)\n",
    "        return(xmatq, list(groups))\n",
    "        "
   ]
  },
  {
   "cell_type": "code",
   "execution_count": 14,
   "metadata": {},
   "outputs": [],
   "source": [
    "        \"\"\" df_M should have shape n x dim x q\n",
    "        \"\"\"\n",
    "        self = experiment\n",
    "        df_M = experiment.df_M\n",
    "        \n",
    "        \n",
    "        n = df_M.shape[0]\n",
    "        q = self.q\n",
    "        if dim == None:\n",
    "            dim = self.dim\n",
    "        \n",
    "        reorg1 = [np.swapaxes(df_M[i], 0,1) for i in range(n)]\n",
    "        #reorg2 = [np.swapaxes(reorg1[i], 0,1) for i in range(n)]\n",
    "        #yvec = np.reshape(reorg2, (n*dim*dim))\n",
    "        #yvecs = [np.reshape(reorg2[i], (dim*q)) for i in range(n)]\n",
    "        yvecs = [np.reshape(reorg1[i], (dim*q)) for i in range(n)]\n",
    "        #return(yvecs)"
   ]
  },
  {
   "cell_type": "code",
   "execution_count": 15,
   "metadata": {
    "collapsed": true
   },
   "outputs": [],
   "source": [
    "    def construct_Y_js_n(self, df_M, dim  = None):\n",
    "        \"\"\" df_M should have shape n x dim x q\n",
    "        \"\"\"\n",
    "        n = df_M.shape[0]\n",
    "        q = self.q\n",
    "        if dim == None:\n",
    "            dim = self.dim\n",
    "        \n",
    "        reorg1 = [np.swapaxes(df_M[i], 0,1) for i in range(n)]\n",
    "        #reorg2 = [np.swapaxes(reorg1[i], 0,1) for i in range(n)]\n",
    "        #yvec = np.reshape(reorg2, (n*dim*dim))\n",
    "        #yvecs = [np.reshape(reorg2[i], (dim*q)) for i in range(n)]\n",
    "        yvecs = [np.reshape(reorg1[i], (dim*q)) for i in range(n)]\n",
    "        return(yvecs)\n"
   ]
  },
  {
   "cell_type": "code",
   "execution_count": null,
   "metadata": {
    "collapsed": true
   },
   "outputs": [],
   "source": []
  },
  {
   "cell_type": "code",
   "execution_count": 20,
   "metadata": {
    "collapsed": true
   },
   "outputs": [],
   "source": [
    "        self = experiment\n",
    "        df_M = experiment.df_M\n",
    "        \n",
    "        \n",
    "        n = df_M.shape[0]\n",
    "        q = self.q\n",
    "        if dim == None:\n",
    "            dim = self.dim\n",
    "        \n",
    "        reorg1 = [np.swapaxes(df_M[i], 0,1) for i in range(n)]\n",
    "        #reorg2 = [np.swapaxes(reorg1[i], 0,1) for i in range(n)]\n",
    "        #yvec = np.reshape(reorg2, (n*dim*dim))\n",
    "        #yvecs = [np.reshape(reorg2[i], (dim*q)) for i in range(n)]\n",
    "        yvecs = [np.reshape(reorg1[i], (dim*q)) for i in range(n)]\n",
    "    \n",
    "        #self = experiment\n",
    "        df_M = experiment.df_M\n",
    "        n = df_M.shape[0]\n",
    "        q = self.q\n",
    "        if dim == None:\n",
    "            dim = self.dim\n",
    "        \n",
    "        reorg1 = [np.swapaxes(df_M[i], 0,1) for i in range(n)]\n",
    "        #reorg2 = [np.swapaxes(reorg1[i], 0,1) for i in range(n)]\n",
    "        #yvec = np.reshape(reorg2, (n*dim*dim))\n",
    "        #yvecs = [np.reshape(reorg2[i], (dim*q)) for i in range(n)]\n",
    "        yvecs = [np.reshape(reorg1[i], (dim*q)) for i in range(n)]\n",
    "        \n",
    "        ys_n = yvecs\n",
    "        xs_n = b"
   ]
  },
  {
   "cell_type": "code",
   "execution_count": null,
   "metadata": {},
   "outputs": [],
   "source": []
  },
  {
   "cell_type": "code",
   "execution_count": 17,
   "metadata": {
    "collapsed": true
   },
   "outputs": [],
   "source": [
    "group_1pt = groups"
   ]
  },
  {
   "cell_type": "code",
   "execution_count": 21,
   "metadata": {
    "collapsed": true
   },
   "outputs": [],
   "source": [
    "# from pathos.multiprocessing import ProcessingPool as Pool"
   ]
  },
  {
   "cell_type": "code",
   "execution_count": 22,
   "metadata": {},
   "outputs": [],
   "source": [
    "#         selected_points = experiment.Mpca.selected_points\n",
    "#         p = Pool(cores)\n",
    "#         n = len(selected_points)\n",
    "#         results = p.map(lambda i: experiment.get_betas_spam2(xs=xs_n[i],ys=ys_n[i], \n",
    "#                                                        groups = group_1pt, lambdas = lambdas, \n",
    "#                                                        n = 1, q = q,\n",
    "#                                                        itermax = itermax, tol = tol),range(n))"
   ]
  },
  {
   "cell_type": "code",
   "execution_count": 23,
   "metadata": {
    "collapsed": true
   },
   "outputs": [],
   "source": [
    "# def data_stream_single(n):\n",
    "#     for i in range(n):\n",
    "#         yield (i)"
   ]
  },
  {
   "cell_type": "code",
   "execution_count": 24,
   "metadata": {},
   "outputs": [],
   "source": [
    "# bbbbb = np.random.normal(0,1,100)"
   ]
  },
  {
   "cell_type": "code",
   "execution_count": 25,
   "metadata": {
    "collapsed": true
   },
   "outputs": [],
   "source": [
    "# import pathos\n",
    "# from pathos.multiprocessing import ProcessingPool as Pool"
   ]
  },
  {
   "cell_type": "code",
   "execution_count": 26,
   "metadata": {
    "collapsed": true
   },
   "outputs": [],
   "source": [
    "# from importlib import reload "
   ]
  },
  {
   "cell_type": "code",
   "execution_count": 27,
   "metadata": {},
   "outputs": [],
   "source": [
    "# reload(pathos)"
   ]
  },
  {
   "cell_type": "code",
   "execution_count": 28,
   "metadata": {},
   "outputs": [],
   "source": [
    "# p.map(lambda i: print(bbbbb[i]), data_stream_single(n))"
   ]
  },
  {
   "cell_type": "code",
   "execution_count": 29,
   "metadata": {},
   "outputs": [],
   "source": [
    "# p.map(lambda i: experiment.get_betas_spam2(xs=xs_n[i],\n",
    "#                                            ys=ys_n[i], \n",
    "#                                                        groups = group_1pt, lambdas = lambdas, \n",
    "#                                                        n = 1, q = q,\n",
    "#                                                        itermax = itermax, tol = tol),range(n))"
   ]
  },
  {
   "cell_type": "code",
   "execution_count": 30,
   "metadata": {},
   "outputs": [],
   "source": []
  },
  {
   "cell_type": "code",
   "execution_count": 31,
   "metadata": {},
   "outputs": [],
   "source": [
    "#lambdas"
   ]
  },
  {
   "cell_type": "code",
   "execution_count": 32,
   "metadata": {
    "collapsed": true
   },
   "outputs": [],
   "source": []
  },
  {
   "cell_type": "code",
   "execution_count": null,
   "metadata": {},
   "outputs": [],
   "source": []
  },
  {
   "cell_type": "code",
   "execution_count": 33,
   "metadata": {},
   "outputs": [],
   "source": [
    "#coeffs[0:100,3,0,0,0]"
   ]
  },
  {
   "cell_type": "code",
   "execution_count": null,
   "metadata": {
    "collapsed": true
   },
   "outputs": [],
   "source": []
  },
  {
   "cell_type": "code",
   "execution_count": 34,
   "metadata": {
    "collapsed": true
   },
   "outputs": [],
   "source": [
    "#class parallel():\n",
    "#    def __init__(self):\n",
    "#        self.math = math"
   ]
  },
  {
   "cell_type": "code",
   "execution_count": 35,
   "metadata": {
    "collapsed": true
   },
   "outputs": [],
   "source": [
    "#     def get_betas_spam2_n(self, xs_n, ys_n, group_1pt, lambdas,q,itermax,tol)\n",
    "#         self.selected_points = selected_points\n",
    "#         p = Pool(cores)\n",
    "#         n = len(selected_points)\n",
    "#         results = p.map(lambda i: self.get_betas_spam2(xs=xs_n[i],ys=ys_n[i], \n",
    "#                                                        groups = group_1pt, lambdas = lambdas, \n",
    "#                                                        n = 1, q = q,\n",
    "#                                                        itermax = itermax, tol = tol),range(n))"
   ]
  },
  {
   "cell_type": "code",
   "execution_count": 36,
   "metadata": {
    "collapsed": true
   },
   "outputs": [],
   "source": [
    "#def ols_penalty():\n",
    "#    np.sum(np.norm(ols))"
   ]
  },
  {
   "cell_type": "code",
   "execution_count": 37,
   "metadata": {
    "collapsed": true
   },
   "outputs": [],
   "source": [
    "# for i in range(d):\n",
    "#     for j in range(i,d):\n",
    "\n",
    "#experiment.compute_penalty2()"
   ]
  },
  {
   "cell_type": "code",
   "execution_count": 38,
   "metadata": {},
   "outputs": [],
   "source": [
    "#parameterizations_possible = np.asarray(list(combinations(range(experiment.p), experiment.dim)))\n"
   ]
  },
  {
   "cell_type": "code",
   "execution_count": 39,
   "metadata": {},
   "outputs": [],
   "source": []
  },
  {
   "cell_type": "code",
   "execution_count": 40,
   "metadata": {},
   "outputs": [],
   "source": [
    "#help(np.linalg.lstsq)"
   ]
  },
  {
   "cell_type": "code",
   "execution_count": null,
   "metadata": {
    "collapsed": true
   },
   "outputs": [],
   "source": [
    "    #convex individual datapoints\n",
    "    lambdas = np.asarray([0,0.01,0.1,.25,.5,.75,1])\n",
    "    coeffs = [experiment.get_betas_spam2(xs=xs_n[i],ys=ys_n[i], groups = group_1pt, lambdas = lambdas, \n",
    "                                                       n = 1, q = q,\n",
    "                                                       itermax = itermax, tol = tol) for i in range(n)]\n",
    "    coeffs = np.asarray(coeffs)"
   ]
  },
  {
   "cell_type": "code",
   "execution_count": 41,
   "metadata": {
    "collapsed": true
   },
   "outputs": [],
   "source": []
  },
  {
   "cell_type": "code",
   "execution_count": null,
   "metadata": {},
   "outputs": [],
   "source": []
  },
  {
   "cell_type": "code",
   "execution_count": 42,
   "metadata": {},
   "outputs": [
    {
     "name": "stderr",
     "output_type": "stream",
     "text": [
      "/Users/samsonkoelle/anaconda3/envs/py35021518/lib/python3.5/site-packages/ipykernel_launcher.py:5: FutureWarning: `rcond` parameter will change to the default of machine precision times ``max(M, N)`` where M and N are the input matrix dimensions.\n",
      "To use the future default and silence this warning we advise to pass `rcond=None`, to keep using the old, explicitly pass `rcond=-1`.\n",
      "  \"\"\"\n"
     ]
    }
   ],
   "source": [
    "\n",
    "from itertools import combinations\n",
    "parameterizations_possible = np.asarray(list(combinations(range(experiment.p), dnoise)))\n",
    "nparameterizations_possible = parameterizations_possible.shape[0]\n",
    "def get_penalty(coeffs):\n",
    "    pen = np.sum(np.linalg.norm(brute_coeffs[i,j], axis = 1))\n",
    "    return(pen)\n",
    "brute_coeffs = np.zeros((n, nparameterizations_possible, experiment.dim, experiment.q))\n",
    "orthogonality = np.zeros((n, nparameterizations_possible))\n",
    "for i in range(n):\n",
    "    for j in range(nparameterizations_possible):\n",
    "        brute_coeffs[i,j] = np.linalg.lstsq(experiment.dg_M[i,parameterizations_possible[j],:],experiment.df_M[i])[0]\n",
    "        orthogonality[i,j] = get_penalty(brute_coeffs[i,j])"
   ]
  },
  {
   "cell_type": "code",
   "execution_count": 43,
   "metadata": {},
   "outputs": [
    {
     "data": {
      "text/plain": [
       "(100, 16)"
      ]
     },
     "execution_count": 43,
     "metadata": {},
     "output_type": "execute_result"
    }
   ],
   "source": [
    "orthogonality.shape"
   ]
  },
  {
   "cell_type": "code",
   "execution_count": 50,
   "metadata": {},
   "outputs": [
    {
     "data": {
      "text/plain": [
       "array([[ 0,  2,  4,  7, 12,  1,  8,  6, 11, 10, 13,  3,  5,  9, 15, 14],\n",
       "       [ 0,  6,  1,  4,  5,  2, 15,  7, 11, 12, 10, 13,  8,  9,  3, 14],\n",
       "       [11,  0,  1,  5, 12,  3,  2,  4,  7,  6,  9,  8, 10, 15, 13, 14],\n",
       "       [ 0,  2,  1,  7, 12,  8,  6,  3,  4,  5, 10, 11, 13,  9, 15, 14],\n",
       "       [ 0,  5,  7, 13, 11, 10,  1,  8,  6,  2, 12,  9,  4,  3, 15, 14],\n",
       "       [ 0, 11,  9, 10,  1,  6, 12,  7,  2,  4,  5,  8,  3, 13, 15, 14],\n",
       "       [ 2,  0, 11, 12,  7,  8,  5,  4,  3, 10,  9,  1,  6, 13, 15, 14],\n",
       "       [ 7,  0,  2, 15,  6, 11,  4, 12,  8,  5,  1,  3, 10,  9, 14, 13],\n",
       "       [10,  0,  5,  2,  8, 12,  7,  1, 11,  6,  4,  3, 13, 15,  9, 14],\n",
       "       [ 0,  7,  6,  1,  5,  2,  8, 15,  3, 11,  4, 12,  9, 10, 13, 14],\n",
       "       [ 8, 15,  1,  7,  2,  0, 11,  6,  9, 13,  3,  5, 10,  4, 12, 14],\n",
       "       [ 0, 13,  6, 12,  7, 10, 11,  9,  5,  1,  4,  2,  3, 14,  8, 15],\n",
       "       [ 9,  0,  1,  6,  2, 11, 12,  7,  5,  3,  8, 10,  4, 14, 15, 13],\n",
       "       [ 0,  1, 11,  8,  2,  7,  6,  4, 10,  5, 12,  3, 14, 15,  9, 13],\n",
       "       [ 0,  8,  1,  6,  4, 11,  7,  5, 12,  3,  9, 10, 13,  2, 15, 14],\n",
       "       [ 0,  5,  6, 12,  1, 10,  2, 11,  8,  4,  7, 13,  3, 15,  9, 14],\n",
       "       [ 0,  7,  6,  1,  2,  8, 11, 10,  5, 13,  3, 12,  4,  9, 15, 14],\n",
       "       [ 0,  1, 12,  6,  7,  5, 11,  8,  4,  2,  9, 13, 15,  3, 10, 14],\n",
       "       [13,  0,  7,  5,  4,  1,  2, 12, 10,  3, 11,  8,  9, 14, 15,  6],\n",
       "       [ 5,  0,  7, 15, 11,  6, 10,  8,  2,  4, 12, 13,  9,  3,  1, 14]])"
      ]
     },
     "execution_count": 50,
     "metadata": {},
     "output_type": "execute_result"
    }
   ],
   "source": [
    "orthogonality.argsort(axis=1)[0:20]"
   ]
  },
  {
   "cell_type": "code",
   "execution_count": 49,
   "metadata": {},
   "outputs": [
    {
     "data": {
      "text/plain": [
       "array([0])"
      ]
     },
     "execution_count": 49,
     "metadata": {},
     "output_type": "execute_result"
    }
   ],
   "source": [
    "parameterizations_possible[0]"
   ]
  },
  {
   "cell_type": "code",
   "execution_count": 48,
   "metadata": {},
   "outputs": [
    {
     "data": {
      "text/plain": [
       "array([1.45963298e+10, 7.39976811e+09, 1.07580683e+11, 2.23362627e+12,\n",
       "       7.72105142e+09, 4.65125448e+09, 2.77548076e+10, 7.54532259e+08,\n",
       "       4.20422921e+09, 7.88538827e+09, 3.50682940e+09, 6.29459320e+07,\n",
       "       2.00289050e+08, 2.16213415e+08, 9.31065138e+08, 1.66569249e+10,\n",
       "       2.58445077e+09, 1.85735016e+10, 2.78615555e+10, 1.90406158e+10,\n",
       "       1.03417147e+11, 4.97827693e+11, 9.40367916e+08, 2.14278429e+10,\n",
       "       4.17157251e+09, 1.53003371e+08, 1.52581721e+11, 7.36242237e+08,\n",
       "       7.57708068e+09, 1.99386736e+08, 1.22132324e+09, 4.63320226e+09,\n",
       "       8.08570588e+10, 1.36702788e+10, 4.26601596e+09, 1.18304691e+09,\n",
       "       2.22025647e+10, 5.01665651e+10, 7.45661459e+09, 1.45120248e+09,\n",
       "       2.79946432e+06, 1.14779398e+09, 9.97283539e+08, 3.55110089e+10,\n",
       "       1.13992418e+12, 7.27339365e+08, 5.28195907e+07, 8.18490727e+11,\n",
       "       7.55410402e+09, 1.88427512e+08, 2.21015629e+10, 9.37186358e+08,\n",
       "       5.22873964e+09, 1.77927389e+10, 6.13510947e+09, 3.52345514e+11,\n",
       "       4.43710296e+09, 4.98502731e+04, 1.00227114e+10, 5.09171249e+09,\n",
       "       3.65166628e+09, 5.81462603e+10, 9.45371261e+09, 1.44162278e+09,\n",
       "       2.32165844e+09, 5.22550542e+08, 3.07931000e+07, 1.12830047e+09,\n",
       "       3.21067180e+09, 6.95860520e+07, 1.54240996e+10, 5.00096436e+09,\n",
       "       2.70229038e+09, 1.96449767e+08, 7.70097682e+10, 1.20076238e+11,\n",
       "       1.65826404e+09, 4.55632302e+08, 8.81032660e+07, 5.15490707e+07,\n",
       "       4.40555206e+08, 2.02021560e+09, 3.32869465e+09, 5.51553891e+09,\n",
       "       2.85686305e+11, 1.56707507e+10, 4.72698555e+10, 3.33695493e+08,\n",
       "       3.14911499e+09, 1.64074951e+09, 1.45958768e+10, 1.67534090e+08,\n",
       "       4.68097390e+09, 2.00376004e+05, 1.65762178e+09, 4.81638124e+08,\n",
       "       1.87691660e+10, 1.78874728e+10, 7.35030774e+08, 2.63773424e+10])"
      ]
     },
     "execution_count": 48,
     "metadata": {},
     "output_type": "execute_result"
    }
   ],
   "source": [
    "#orthogonality[:,14]"
   ]
  },
  {
   "cell_type": "code",
   "execution_count": 141,
   "metadata": {},
   "outputs": [
    {
     "name": "stderr",
     "output_type": "stream",
     "text": [
      "/Users/samsonkoelle/anaconda3/envs/py35021518/lib/python3.5/site-packages/ipykernel_launcher.py:1: FutureWarning: `rcond` parameter will change to the default of machine precision times ``max(M, N)`` where M and N are the input matrix dimensions.\n",
      "To use the future default and silence this warning we advise to pass `rcond=None`, to keep using the old, explicitly pass `rcond=-1`.\n",
      "  \"\"\"Entry point for launching an IPython kernel.\n"
     ]
    },
    {
     "data": {
      "text/plain": [
       "(array([[ 2.31132111e+09, -1.05919000e+09]]),\n",
       " array([], dtype=float64),\n",
       " 1,\n",
       " array([2.18687652e-07]))"
      ]
     },
     "execution_count": 141,
     "metadata": {},
     "output_type": "execute_result"
    }
   ],
   "source": [
    "np.linalg.lstsq(experiment.dg_M[i,parameterizations_possible[j],:],experiment.df_M[i])"
   ]
  },
  {
   "cell_type": "code",
   "execution_count": 144,
   "metadata": {
    "collapsed": true
   },
   "outputs": [],
   "source": [
    "dg_M  = experiment.dg_M*n"
   ]
  },
  {
   "cell_type": "code",
   "execution_count": 145,
   "metadata": {},
   "outputs": [
    {
     "name": "stderr",
     "output_type": "stream",
     "text": [
      "/Users/samsonkoelle/anaconda3/envs/py35021518/lib/python3.5/site-packages/ipykernel_launcher.py:1: FutureWarning: `rcond` parameter will change to the default of machine precision times ``max(M, N)`` where M and N are the input matrix dimensions.\n",
      "To use the future default and silence this warning we advise to pass `rcond=None`, to keep using the old, explicitly pass `rcond=-1`.\n",
      "  \"\"\"Entry point for launching an IPython kernel.\n"
     ]
    },
    {
     "data": {
      "text/plain": [
       "(array([[45727.31879707]]),\n",
       " array([], dtype=float64),\n",
       " 1,\n",
       " array([2.18687652e-05]))"
      ]
     },
     "execution_count": 145,
     "metadata": {},
     "output_type": "execute_result"
    }
   ],
   "source": [
    "np.linalg.lstsq(dg_M[i,parameterizations_possible[j],:],np.identity(1))"
   ]
  },
  {
   "cell_type": "code",
   "execution_count": 146,
   "metadata": {},
   "outputs": [
    {
     "data": {
      "text/plain": [
       "array([[[ 8.45345126e-02],\n",
       "        [ 1.16022024e-02],\n",
       "        [-1.45176159e-03],\n",
       "        ...,\n",
       "        [ 1.00408602e-04],\n",
       "        [-4.72637523e-03],\n",
       "        [-1.51699441e-06]],\n",
       "\n",
       "       [[-3.14438108e-01],\n",
       "        [ 1.34655714e-02],\n",
       "        [-1.28904251e-03],\n",
       "        ...,\n",
       "        [-1.97449441e-03],\n",
       "        [-1.18630073e-03],\n",
       "        [ 4.20885066e-05]],\n",
       "\n",
       "       [[ 1.68547500e-01],\n",
       "        [ 2.55093655e-03],\n",
       "        [ 3.80122193e-03],\n",
       "        ...,\n",
       "        [-3.96554784e-05],\n",
       "        [-2.55298180e-03],\n",
       "        [-4.55950779e-04]],\n",
       "\n",
       "       ...,\n",
       "\n",
       "       [[ 1.42154579e-01],\n",
       "        [-1.84606685e-04],\n",
       "        [ 2.06216230e-03],\n",
       "        ...,\n",
       "        [ 2.92941372e-04],\n",
       "        [ 8.26378009e-03],\n",
       "        [ 6.45122938e-04]],\n",
       "\n",
       "       [[ 1.86157386e-01],\n",
       "        [-5.94001868e-03],\n",
       "        [-3.53435138e-03],\n",
       "        ...,\n",
       "        [-1.83525319e-03],\n",
       "        [-7.71219710e-04],\n",
       "        [-3.44173277e-04]],\n",
       "\n",
       "       [[-2.30518555e-02],\n",
       "        [ 2.34375258e-03],\n",
       "        [ 1.35448753e-02],\n",
       "        ...,\n",
       "        [-1.26529229e-02],\n",
       "        [ 2.52812243e-03],\n",
       "        [ 2.18687652e-05]]])"
      ]
     },
     "execution_count": 146,
     "metadata": {},
     "output_type": "execute_result"
    }
   ],
   "source": [
    "dg_M"
   ]
  },
  {
   "cell_type": "code",
   "execution_count": 142,
   "metadata": {},
   "outputs": [
    {
     "data": {
      "text/plain": [
       "array([[[ 8.45345126e-04],\n",
       "        [ 1.16022024e-04],\n",
       "        [-1.45176159e-05],\n",
       "        ...,\n",
       "        [ 1.00408602e-06],\n",
       "        [-4.72637523e-05],\n",
       "        [-1.51699441e-08]],\n",
       "\n",
       "       [[-3.14438108e-03],\n",
       "        [ 1.34655714e-04],\n",
       "        [-1.28904251e-05],\n",
       "        ...,\n",
       "        [-1.97449441e-05],\n",
       "        [-1.18630073e-05],\n",
       "        [ 4.20885066e-07]],\n",
       "\n",
       "       [[ 1.68547500e-03],\n",
       "        [ 2.55093655e-05],\n",
       "        [ 3.80122193e-05],\n",
       "        ...,\n",
       "        [-3.96554784e-07],\n",
       "        [-2.55298180e-05],\n",
       "        [-4.55950779e-06]],\n",
       "\n",
       "       ...,\n",
       "\n",
       "       [[ 1.42154579e-03],\n",
       "        [-1.84606685e-06],\n",
       "        [ 2.06216230e-05],\n",
       "        ...,\n",
       "        [ 2.92941372e-06],\n",
       "        [ 8.26378009e-05],\n",
       "        [ 6.45122938e-06]],\n",
       "\n",
       "       [[ 1.86157386e-03],\n",
       "        [-5.94001868e-05],\n",
       "        [-3.53435138e-05],\n",
       "        ...,\n",
       "        [-1.83525319e-05],\n",
       "        [-7.71219710e-06],\n",
       "        [-3.44173277e-06]],\n",
       "\n",
       "       [[-2.30518555e-04],\n",
       "        [ 2.34375258e-05],\n",
       "        [ 1.35448753e-04],\n",
       "        ...,\n",
       "        [-1.26529229e-04],\n",
       "        [ 2.52812243e-05],\n",
       "        [ 2.18687652e-07]]])"
      ]
     },
     "execution_count": 142,
     "metadata": {},
     "output_type": "execute_result"
    }
   ],
   "source": [
    "experiment.dg_M"
   ]
  },
  {
   "cell_type": "code",
   "execution_count": 139,
   "metadata": {},
   "outputs": [
    {
     "data": {
      "text/plain": [
       "(100, 1, 2)"
      ]
     },
     "execution_count": 139,
     "metadata": {},
     "output_type": "execute_result"
    }
   ],
   "source": [
    "experiment.df_M.shape"
   ]
  },
  {
   "cell_type": "code",
   "execution_count": 116,
   "metadata": {},
   "outputs": [
    {
     "data": {
      "text/plain": [
       "(1, 2)"
      ]
     },
     "execution_count": 116,
     "metadata": {},
     "output_type": "execute_result"
    }
   ],
   "source": [
    "experiment.dg_M[i,parameterizations_possible[j],:].shape"
   ]
  },
  {
   "cell_type": "code",
   "execution_count": 110,
   "metadata": {},
   "outputs": [
    {
     "data": {
      "text/plain": [
       "(100, 16, 2)"
      ]
     },
     "execution_count": 110,
     "metadata": {},
     "output_type": "execute_result"
    }
   ],
   "source": [
    "experiment.dg_M.shape"
   ]
  },
  {
   "cell_type": "code",
   "execution_count": 111,
   "metadata": {},
   "outputs": [
    {
     "data": {
      "text/plain": [
       "(100, 2, 2)"
      ]
     },
     "execution_count": 111,
     "metadata": {},
     "output_type": "execute_result"
    }
   ],
   "source": [
    "experiment.df_M.shape"
   ]
  },
  {
   "cell_type": "code",
   "execution_count": 98,
   "metadata": {},
   "outputs": [
    {
     "data": {
      "text/plain": [
       "1"
      ]
     },
     "execution_count": 98,
     "metadata": {},
     "output_type": "execute_result"
    }
   ],
   "source": [
    "experiment.dim"
   ]
  },
  {
   "cell_type": "code",
   "execution_count": 93,
   "metadata": {},
   "outputs": [
    {
     "name": "stdout",
     "output_type": "stream",
     "text": [
      "Help on class combinations in module itertools:\n",
      "\n",
      "class combinations(builtins.object)\n",
      " |  combinations(iterable, r) --> combinations object\n",
      " |  \n",
      " |  Return successive r-length combinations of elements in the iterable.\n",
      " |  \n",
      " |  combinations(range(4), 3) --> (0,1,2), (0,1,3), (0,2,3), (1,2,3)\n",
      " |  \n",
      " |  Methods defined here:\n",
      " |  \n",
      " |  __getattribute__(self, name, /)\n",
      " |      Return getattr(self, name).\n",
      " |  \n",
      " |  __iter__(self, /)\n",
      " |      Implement iter(self).\n",
      " |  \n",
      " |  __new__(*args, **kwargs) from builtins.type\n",
      " |      Create and return a new object.  See help(type) for accurate signature.\n",
      " |  \n",
      " |  __next__(self, /)\n",
      " |      Implement next(self).\n",
      " |  \n",
      " |  __reduce__(...)\n",
      " |      Return state information for pickling.\n",
      " |  \n",
      " |  __setstate__(...)\n",
      " |      Set state information for unpickling.\n",
      " |  \n",
      " |  __sizeof__(...)\n",
      " |      Returns size in memory, in bytes.\n",
      "\n"
     ]
    }
   ],
   "source": [
    "help(combinations)"
   ]
  },
  {
   "cell_type": "code",
   "execution_count": null,
   "metadata": {
    "collapsed": true
   },
   "outputs": [],
   "source": []
  }
 ],
 "metadata": {
  "kernelspec": {
   "display_name": "python35megaman03",
   "language": "python",
   "name": "python35megaman03"
  }
 },
 "nbformat": 4,
 "nbformat_minor": 2
}
