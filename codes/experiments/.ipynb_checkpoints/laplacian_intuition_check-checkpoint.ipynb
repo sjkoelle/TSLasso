{
 "cells": [
  {
   "cell_type": "code",
   "execution_count": 1,
   "metadata": {
    "collapsed": true
   },
   "outputs": [],
   "source": [
    "import megaman"
   ]
  },
  {
   "cell_type": "code",
   "execution_count": 11,
   "metadata": {
    "collapsed": true
   },
   "outputs": [],
   "source": [
    "import torch\n",
    "import numpy as np\n",
    "import os\n",
    "#workingdirectory = '/Users/samsonkoelle/Downloads/manigrad-100818/mani-samk-grad|ients'\n",
    "workingdirectory = os.popen('git rev-parse --show-toplevel').read()[:-1]\n",
    "os.chdir(workingdirectory)\n",
    "from codes.otherfunctions.data_stream_custom_range import data_stream_custom_range"
   ]
  },
  {
   "cell_type": "code",
   "execution_count": 2,
   "metadata": {},
   "outputs": [
    {
     "name": "stdout",
     "output_type": "stream",
     "text": [
      "Help on package megaman:\n",
      "\n",
      "NAME\n",
      "    megaman - megaman: Scalable Manifold Learning\n",
      "\n",
      "PACKAGE CONTENTS\n",
      "    __check_build (package)\n",
      "    datasets (package)\n",
      "    embedding (package)\n",
      "    geometry (package)\n",
      "    plotter (package)\n",
      "    relaxation (package)\n",
      "    setup\n",
      "    utils (package)\n",
      "\n",
      "VERSION\n",
      "    0.3.dev0\n",
      "\n",
      "FILE\n",
      "    /Users/samsonkoelle/anaconda3/envs/py35021518/lib/python3.5/site-packages/megaman/__init__.py\n",
      "\n",
      "\n"
     ]
    }
   ],
   "source": [
    "help(megaman)"
   ]
  },
  {
   "cell_type": "code",
   "execution_count": 3,
   "metadata": {
    "collapsed": true
   },
   "outputs": [],
   "source": [
    "from megaman import geometry"
   ]
  },
  {
   "cell_type": "code",
   "execution_count": 4,
   "metadata": {
    "collapsed": true
   },
   "outputs": [],
   "source": [
    "from megaman import utils"
   ]
  },
  {
   "cell_type": "code",
   "execution_count": 5,
   "metadata": {
    "collapsed": true
   },
   "outputs": [],
   "source": [
    "import numpy as np"
   ]
  },
  {
   "cell_type": "code",
   "execution_count": 70,
   "metadata": {},
   "outputs": [],
   "source": [
    "data = np.expand_dims(np.linspace(0,1,1001),1)"
   ]
  },
  {
   "cell_type": "code",
   "execution_count": 71,
   "metadata": {
    "collapsed": true
   },
   "outputs": [],
   "source": [
    "data2 = 2*data"
   ]
  },
  {
   "cell_type": "code",
   "execution_count": 72,
   "metadata": {
    "collapsed": true
   },
   "outputs": [],
   "source": [
    "diffusion_time = .1\n",
    "n_neighbors = 10\n"
   ]
  },
  {
   "cell_type": "code",
   "execution_count": 73,
   "metadata": {
    "collapsed": true
   },
   "outputs": [],
   "source": [
    "import os\n",
    "workingdirectory = '/Users/samsonkoelle/Downloads/manigrad-100818/mani-samk-gradients'\n",
    "os.chdir(workingdirectory)\n",
    "from codes.geometer.RiemannianManifold import RiemannianManifold"
   ]
  },
  {
   "cell_type": "code",
   "execution_count": 74,
   "metadata": {},
   "outputs": [],
   "source": [
    "M = RiemannianManifold(data,1)"
   ]
  },
  {
   "cell_type": "code",
   "execution_count": 75,
   "metadata": {
    "collapsed": true
   },
   "outputs": [],
   "source": [
    "N = RiemannianManifold(data2,1)"
   ]
  },
  {
   "cell_type": "code",
   "execution_count": 76,
   "metadata": {},
   "outputs": [
    {
     "name": "stdout",
     "output_type": "stream",
     "text": [
      "initializing Geometry\n",
      "executing laplacian.compute_laplacian_matrix\n",
      "executing Laplacian.laplacian_matrix\n",
      "pre _compute_laplacian\n",
      "executing GeometricLaplacian._compute_laplacian\n",
      "executing _normalize_laplacian\n",
      "executing _normalize_laplacian\n",
      "post _compute_laplacian\n"
     ]
    }
   ],
   "source": [
    "M.geom = M.compute_geom(diffusion_time, n_neighbors)"
   ]
  },
  {
   "cell_type": "code",
   "execution_count": 77,
   "metadata": {},
   "outputs": [],
   "source": [
    "h_dual_metric_full, h_dual_metric_embedding, Hsvals, g_metric_full, g_metric_embedding, Gsvals, embedding_eigenvectors = megaman.geometry.rmetric.riemann_metric(data2, M.geom.laplacian_matrix, 1)"
   ]
  },
  {
   "cell_type": "code",
   "execution_count": 78,
   "metadata": {
    "collapsed": true
   },
   "outputs": [],
   "source": [
    "h_dual_metric_full, h_dual_metric_embedding, Hsvals, g_metric_full, g_metric_embedding, Gsvals, embedding_eigenvectors = megaman.geometry.rmetric.riemann_metric(data, M.geom.laplacian_matrix, 1)"
   ]
  },
  {
   "cell_type": "code",
   "execution_count": 82,
   "metadata": {
    "collapsed": true
   },
   "outputs": [],
   "source": [
    "def get_geom_cyflann(data, radius, n_neighbors):\n",
    "        #set adjacency radius large enough that points beyond it have affinity close to zero\n",
    "        bigradius = 3 * radius\n",
    "        adjacency_method = 'cyflann'\n",
    "        cyflann_kwds = {'index_type':'kdtrees', 'num_trees':10, 'num_checks':n_neighbors}\n",
    "        adjacency_kwds = {'radius':bigradius, 'cyflann_kwds':cyflann_kwds}\n",
    "        affinity_method = 'gaussian'\n",
    "        affinity_kwds = {'radius':radius}\n",
    "        laplacian_method = 'geometric'\n",
    "        #scaling epps 'normalizes the laplacian'... I am setting it equal to one until I know exactly what it does.\n",
    "        laplacian_kwds = {'scaling_epps':1}\n",
    "        geom = Geometry(adjacency_method=adjacency_method, adjacency_kwds=adjacency_kwds,\n",
    "                        affinity_method=affinity_method, affinity_kwds=affinity_kwds,\n",
    "                        laplacian_method=laplacian_method, laplacian_kwds=laplacian_kwds)\n",
    "        geom.set_data_matrix(data)\n",
    "        adjacency_matrix = geom.compute_adjacency_matrix()\n",
    "        laplacian_matrix = geom.compute_laplacian_matrix()\n",
    "        return(geom)\n",
    "    \n",
    "def get_geom_brute(data, radius, n_neighbors):\n",
    "        #set adjacency radius large enough that points beyond it have affinity close to zero\n",
    "        bigradius = 3 * radius\n",
    "        adjacency_method = 'brute'\n",
    "        #cyflann_kwds = {'index_type':'kdtrees', 'num_trees':10, 'num_checks':n_neighbors}\n",
    "        adjacency_kwds = {'radius':bigradius}\n",
    "        affinity_method = 'gaussian'\n",
    "        affinity_kwds = {'radius':radius}\n",
    "        laplacian_method = 'geometric'\n",
    "        #scaling epps 'normalizes the laplacian'... I am setting it equal to one until I know exactly what it does.\n",
    "        laplacian_kwds = {'scaling_epps':1}\n",
    "        geom = Geometry(adjacency_method=adjacency_method, adjacency_kwds=adjacency_kwds,\n",
    "                        affinity_method=affinity_method, affinity_kwds=affinity_kwds,\n",
    "                        laplacian_method=laplacian_method, laplacian_kwds=laplacian_kwds)\n",
    "        geom.set_data_matrix(data)\n",
    "        adjacency_matrix = geom.compute_adjacency_matrix()\n",
    "        laplacian_matrix = geom.compute_laplacian_matrix()\n",
    "        return(geom)"
   ]
  },
  {
   "cell_type": "code",
   "execution_count": 83,
   "metadata": {
    "collapsed": true
   },
   "outputs": [],
   "source": [
    "def get_laplacian(geom, rad):\n",
    "    n = geom.affinity_matrix.shape[0]\n",
    "    x = np.squeeze(geom.affinity_matrix.sum(axis = 1))\n",
    "    # \"0\" here indicates the main diagonal...\n",
    "    # \"y\" will be a dia_matrix type of sparse array, by default\n",
    "    y = sparse.spdiags(x, 0, x.size, x.size)\n",
    "    yinv = sparse.linalg.inv(y)\n",
    "    tildepp = yinv @ geom.affinity_matrix @ yinv\n",
    "    tildex = np.squeeze(tildepp.sum(axis = 1))\n",
    "    tildey = sparse.spdiags(tildex, 0, tildex.size, tildex.size)\n",
    "    tildeyinv = sparse.linalg.inv(tildey)\n",
    "    lapland = (sparse.identity(n) - tildeyinv @ tildepp)\n",
    "    lb = 4* lapland / (rad**2)\n",
    "    return(lb)"
   ]
  },
  {
   "cell_type": "code",
   "execution_count": 87,
   "metadata": {
    "collapsed": true
   },
   "outputs": [],
   "source": [
    "from megaman.embedding import LTSA\n",
    "from megaman.embedding import spectral_embedding\n",
    "from megaman.geometry import Geometry\n",
    "from megaman.geometry import RiemannMetric\n",
    "from scipy import sparse"
   ]
  },
  {
   "cell_type": "code",
   "execution_count": 104,
   "metadata": {
    "collapsed": true
   },
   "outputs": [],
   "source": [
    "grid = np.expand_dims(np.linspace(0,np.pi*2,1000),1)\n",
    "grid2 = np.expand_dims(np.linspace(0,np.pi*2,10000),1)\n",
    "poses = np.squeeze(np.asarray([np.cos(grid), np.sin(grid)]), 2).transpose()\n",
    "#tenposes has 10x density\n",
    "tenposes = np.squeeze(np.asarray([np.cos(grid2), np.sin(grid2)]), 2).transpose()\n",
    "#poses3 have 3x radius\n",
    "poses3 = poses * 3\n",
    "poses9 = poses * 9\n",
    "diffusion_time = .15\n",
    "n_neighbors = 100"
   ]
  },
  {
   "cell_type": "code",
   "execution_count": 105,
   "metadata": {
    "collapsed": true
   },
   "outputs": [],
   "source": [
    "experiment  = RiemannianManifold(poses,1)"
   ]
  },
  {
   "cell_type": "code",
   "execution_count": 111,
   "metadata": {},
   "outputs": [
    {
     "name": "stdout",
     "output_type": "stream",
     "text": [
      "initializing Geometry\n",
      "executing laplacian.compute_laplacian_matrix\n",
      "executing Laplacian.laplacian_matrix\n",
      "pre _compute_laplacian\n",
      "executing GeometricLaplacian._compute_laplacian\n",
      "executing _normalize_laplacian\n",
      "executing _normalize_laplacian\n",
      "post _compute_laplacian\n"
     ]
    },
    {
     "name": "stderr",
     "output_type": "stream",
     "text": [
      "/Users/samsonkoelle/anaconda3/envs/py35021518/lib/python3.5/site-packages/megaman/geometry/rmetric.py:95: RuntimeWarning: divide by zero encountered in reciprocal\n",
      "  Einv = E**(-1)\n"
     ]
    },
    {
     "name": "stdout",
     "output_type": "stream",
     "text": [
      "initializing Geometry\n",
      "executing laplacian.compute_laplacian_matrix\n",
      "executing Laplacian.laplacian_matrix\n",
      "pre _compute_laplacian\n",
      "executing GeometricLaplacian._compute_laplacian\n",
      "executing _normalize_laplacian\n",
      "executing _normalize_laplacian\n",
      "post _compute_laplacian\n"
     ]
    },
    {
     "name": "stderr",
     "output_type": "stream",
     "text": [
      "/Users/samsonkoelle/anaconda3/envs/py35021518/lib/python3.5/site-packages/scipy/sparse/linalg/dsolve/linsolve.py:133: SparseEfficiencyWarning: spsolve requires A be CSC or CSR matrix format\n",
      "  SparseEfficiencyWarning)\n",
      "/Users/samsonkoelle/anaconda3/envs/py35021518/lib/python3.5/site-packages/scipy/sparse/linalg/dsolve/linsolve.py:202: SparseEfficiencyWarning: spsolve is more efficient when sparse b is in the CSC matrix format\n",
      "  'is in the CSC matrix format', SparseEfficiencyWarning)\n"
     ]
    }
   ],
   "source": [
    "experiment.geom = experiment.compute_geom(diffusion_time, n_neighbors)\n",
    "poses_metric_poses_sam = megaman.geometry.rmetric.riemann_metric(poses, experiment.geom.laplacian_matrix, n_dim = 1)[5]\n",
    "poses_metric_poses3_sam = megaman.geometry.rmetric.riemann_metric(poses3, experiment.geom.laplacian_matrix, n_dim = 1)[5]\n",
    "\n",
    "poses_megaman_geom = get_geom_brute(poses, .15,100)\n",
    "poses_metric_poses_megaman = megaman.geometry.rmetric.riemann_metric(poses, poses_megaman_geom.laplacian_matrix, n_dim = 1)[5]\n",
    "poses_metric_poses3_megaman = megaman.geometry.rmetric.riemann_metric(poses3, poses_megaman_geom.laplacian_matrix, n_dim = 1)[5]\n",
    "\n",
    "poses_custom_laplacian = get_laplacian(poses_megaman_geom, .15)\n",
    "poses_metric_poses_custom = megaman.geometry.rmetric.riemann_metric(poses, poses_custom_laplacian, n_dim = 1)[5]\n",
    "poses_metric_poses3_custom = megaman.geometry.rmetric.riemann_metric(poses3, poses_custom_laplacian, n_dim = 1)[5]"
   ]
  },
  {
   "cell_type": "code",
   "execution_count": 116,
   "metadata": {},
   "outputs": [
    {
     "data": {
      "text/plain": [
       "<matplotlib.collections.PathCollection at 0x12880de48>"
      ]
     },
     "execution_count": 116,
     "metadata": {},
     "output_type": "execute_result"
    },
    {
     "data": {
      "image/png": "[encoded data removed]",
      "text/plain": [
       "<matplotlib.figure.Figure at 0x127f5e898>"
      ]
     },
     "metadata": {},
     "output_type": "display_data"
    }
   ],
   "source": [
    "fig = plt.figure()\n",
    "fig.add_subplot(131)\n",
    "plt.scatter(poses_metric_poses_sam, poses_metric_poses3_sam)\n",
    "fig.add_subplot(132)\n",
    "plt.scatter(poses_metric_poses_custom, poses_metric_poses3_custom)\n",
    "fig.add_subplot(133)\n",
    "plt.scatter(poses_metric_poses_megaman, poses_metric_poses3_megaman)"
   ]
  },
  {
   "cell_type": "code",
   "execution_count": 120,
   "metadata": {},
   "outputs": [
    {
     "name": "stdout",
     "output_type": "stream",
     "text": [
      "initializing Geometry\n",
      "executing laplacian.compute_laplacian_matrix\n",
      "executing Laplacian.laplacian_matrix\n",
      "pre _compute_laplacian\n",
      "executing GeometricLaplacian._compute_laplacian\n",
      "executing _normalize_laplacian\n",
      "executing _normalize_laplacian\n",
      "post _compute_laplacian\n",
      "initializing Geometry\n",
      "executing laplacian.compute_laplacian_matrix\n",
      "executing Laplacian.laplacian_matrix\n",
      "pre _compute_laplacian\n",
      "executing GeometricLaplacian._compute_laplacian\n",
      "executing _normalize_laplacian\n",
      "executing _normalize_laplacian\n",
      "post _compute_laplacian\n"
     ]
    },
    {
     "name": "stderr",
     "output_type": "stream",
     "text": [
      "/Users/samsonkoelle/anaconda3/envs/py35021518/lib/python3.5/site-packages/scipy/sparse/linalg/dsolve/linsolve.py:133: SparseEfficiencyWarning: spsolve requires A be CSC or CSR matrix format\n",
      "  SparseEfficiencyWarning)\n",
      "/Users/samsonkoelle/anaconda3/envs/py35021518/lib/python3.5/site-packages/scipy/sparse/linalg/dsolve/linsolve.py:202: SparseEfficiencyWarning: spsolve is more efficient when sparse b is in the CSC matrix format\n",
      "  'is in the CSC matrix format', SparseEfficiencyWarning)\n"
     ]
    }
   ],
   "source": [
    "experiment  = RiemannianManifold(data,1)\n",
    "experiment.geom = experiment.compute_geom(diffusion_time, n_neighbors)\n",
    "data_metric_data_sam = megaman.geometry.rmetric.riemann_metric(data, experiment.geom.laplacian_matrix, n_dim = 1)[5]\n",
    "data_metric_data2_sam = megaman.geometry.rmetric.riemann_metric(data2, experiment.geom.laplacian_matrix, n_dim = 1)[5]\n",
    "\n",
    "data_megaman_geom = get_geom_brute(data, .15,100)\n",
    "data_metric_data_megaman = megaman.geometry.rmetric.riemann_metric(data, data_megaman_geom.laplacian_matrix, n_dim = 1)[5]\n",
    "data_metric_data2_megaman = megaman.geometry.rmetric.riemann_metric(data2, data_megaman_geom.laplacian_matrix, n_dim = 1)[5]\n",
    "\n",
    "data_custom_laplacian = get_laplacian(data_megaman_geom, .15)\n",
    "data_metric_data_custom = megaman.geometry.rmetric.riemann_metric(data, data_custom_laplacian, n_dim = 1)[5]\n",
    "data_metric_data2_custom = megaman.geometry.rmetric.riemann_metric(data2, data_custom_laplacian, n_dim = 1)[5]"
   ]
  },
  {
   "cell_type": "code",
   "execution_count": 121,
   "metadata": {},
   "outputs": [
    {
     "data": {
      "text/plain": [
       "<matplotlib.collections.PathCollection at 0x12b070eb8>"
      ]
     },
     "execution_count": 121,
     "metadata": {},
     "output_type": "execute_result"
    },
    {
     "data": {
      "image/png": "[encoded data removed]",
      "text/plain": [
       "<matplotlib.figure.Figure at 0x1288432e8>"
      ]
     },
     "metadata": {},
     "output_type": "display_data"
    }
   ],
   "source": [
    "fig = plt.figure()\n",
    "fig.add_subplot(131)\n",
    "plt.scatter(data_metric_data_sam, data_metric_data2_sam)\n",
    "fig.add_subplot(132)\n",
    "plt.scatter(data_metric_data_custom, data_metric_data2_custom)\n",
    "fig.add_subplot(133)\n",
    "plt.scatter(data_metric_data_megaman, data_metric_data2_megaman)"
   ]
  },
  {
   "cell_type": "code",
   "execution_count": null,
   "metadata": {
    "collapsed": true
   },
   "outputs": [],
   "source": []
  },
  {
   "cell_type": "code",
   "execution_count": null,
   "metadata": {
    "collapsed": true
   },
   "outputs": [],
   "source": []
  },
  {
   "cell_type": "code",
   "execution_count": null,
   "metadata": {
    "collapsed": true
   },
   "outputs": [],
   "source": []
  },
  {
   "cell_type": "code",
   "execution_count": 100,
   "metadata": {},
   "outputs": [
    {
     "data": {
      "text/plain": [
       "<1000x1000 sparse matrix of type '<class 'numpy.float64'>'\n",
       "\twith 145146 stored elements in Compressed Sparse Row format>"
      ]
     },
     "execution_count": 100,
     "metadata": {},
     "output_type": "execute_result"
    }
   ],
   "source": [
    "poses_custom_geom"
   ]
  },
  {
   "cell_type": "code",
   "execution_count": 88,
   "metadata": {},
   "outputs": [
    {
     "name": "stdout",
     "output_type": "stream",
     "text": [
      "initializing Geometry\n",
      "executing laplacian.compute_laplacian_matrix\n",
      "executing Laplacian.laplacian_matrix\n",
      "pre _compute_laplacian\n",
      "executing GeometricLaplacian._compute_laplacian\n",
      "executing _normalize_laplacian\n",
      "executing _normalize_laplacian\n",
      "post _compute_laplacian\n"
     ]
    },
    {
     "name": "stderr",
     "output_type": "stream",
     "text": [
      "/Users/samsonkoelle/anaconda3/envs/py35021518/lib/python3.5/site-packages/scipy/sparse/linalg/dsolve/linsolve.py:133: SparseEfficiencyWarning: spsolve requires A be CSC or CSR matrix format\n",
      "  SparseEfficiencyWarning)\n",
      "/Users/samsonkoelle/anaconda3/envs/py35021518/lib/python3.5/site-packages/scipy/sparse/linalg/dsolve/linsolve.py:202: SparseEfficiencyWarning: spsolve is more efficient when sparse b is in the CSC matrix format\n",
      "  'is in the CSC matrix format', SparseEfficiencyWarning)\n"
     ]
    },
    {
     "name": "stdout",
     "output_type": "stream",
     "text": [
      "initializing Geometry\n",
      "executing laplacian.compute_laplacian_matrix\n",
      "executing Laplacian.laplacian_matrix\n",
      "pre _compute_laplacian\n",
      "executing GeometricLaplacian._compute_laplacian\n",
      "executing _normalize_laplacian\n",
      "executing _normalize_laplacian\n",
      "post _compute_laplacian\n",
      "initializing Geometry\n",
      "executing laplacian.compute_laplacian_matrix\n",
      "executing Laplacian.laplacian_matrix\n",
      "pre _compute_laplacian\n",
      "executing GeometricLaplacian._compute_laplacian\n",
      "executing _normalize_laplacian\n",
      "executing _normalize_laplacian\n",
      "post _compute_laplacian\n",
      "initializing Geometry\n",
      "executing laplacian.compute_laplacian_matrix\n",
      "executing Laplacian.laplacian_matrix\n",
      "pre _compute_laplacian\n",
      "executing GeometricLaplacian._compute_laplacian\n",
      "executing _normalize_laplacian\n",
      "executing _normalize_laplacian\n",
      "post _compute_laplacian\n",
      "initializing Geometry\n",
      "executing laplacian.compute_laplacian_matrix\n",
      "executing Laplacian.laplacian_matrix\n",
      "pre _compute_laplacian\n",
      "executing GeometricLaplacian._compute_laplacian\n",
      "executing _normalize_laplacian\n",
      "executing _normalize_laplacian\n",
      "post _compute_laplacian\n"
     ]
    },
    {
     "name": "stderr",
     "output_type": "stream",
     "text": [
      "/Users/samsonkoelle/anaconda3/envs/py35021518/lib/python3.5/site-packages/megaman/geometry/rmetric.py:95: RuntimeWarning: divide by zero encountered in reciprocal\n",
      "  Einv = E**(-1)\n"
     ]
    }
   ],
   "source": [
    "h12 = get_geom_brute(poses, .3,100)\n",
    "h12fix = get_laplacian(h12, .3)\n",
    "h1ten = get_geom_brute(tenposes, .15,100)\n",
    "h1tenfix = get_laplacian(h1ten, .15)\n",
    "h1ten2 = get_geom_brute(tenposes, .15,200)\n",
    "h1ten2fix = get_laplacian(h1ten, .15)\n",
    "\n",
    "h3 = get_geom_brute(poses3, .15,100)\n",
    "h3fix = get_laplacian(h3, .15)\n",
    "\n",
    "s1 = megaman.geometry.rmetric.riemann_metric(poses, h1fix, n_dim = 1)[5]\n",
    "s1old = megaman.geometry.rmetric.riemann_metric(poses, h1.laplacian_matrix, n_dim = 1)[5]\n",
    "s12 = megaman.geometry.rmetric.riemann_metric(poses, h12fix, n_dim = 1)[5]\n",
    "s1ten = megaman.geometry.rmetric.riemann_metric(tenposes, h1tenfix, n_dim = 1)[5]\n",
    "s1ten2 = megaman.geometry.rmetric.riemann_metric(tenposes, h1ten2fix, n_dim = 1)[5]\n",
    "s3 = megaman.geometry.rmetric.riemann_metric(poses3, h3fix, n_dim = 1)[5]\n",
    "s3old = megaman.geometry.rmetric.riemann_metric(poses3, h3.laplacian_matrix, n_dim = 1)[5]"
   ]
  },
  {
   "cell_type": "code",
   "execution_count": 89,
   "metadata": {
    "collapsed": true
   },
   "outputs": [],
   "source": [
    "import matplotlib.pyplot as plt"
   ]
  },
  {
   "cell_type": "code",
   "execution_count": 90,
   "metadata": {},
   "outputs": [
    {
     "data": {
      "image/png": "[encoded data removed]",
      "text/plain": [
       "<matplotlib.figure.Figure at 0x127b3f5c0>"
      ]
     },
     "metadata": {},
     "output_type": "display_data"
    }
   ],
   "source": [
    "fig = plt.figure()\n",
    "fig.add_subplot(231)\n",
    "plt.scatter(s1, s1ten[0:1000])\n",
    "plt.title('increased density')\n",
    "fig.add_subplot(232)\n",
    "plt.scatter(s1ten, s1ten2)\n",
    "plt.title('increased n. neighbors')\n",
    "fig.add_subplot(233)\n",
    "plt.scatter(s1, s3)\n",
    "plt.title('increased radius')\n",
    "fig.add_subplot(234)\n",
    "plt.scatter(s1, s12)\n",
    "plt.title('increased epsilon')\n",
    "fig.add_subplot(235)\n",
    "plt.scatter(s1, s1old)\n",
    "plt.title('laplacian method')\n",
    "plt.subplots_adjust(hspace=.5, wspace = .5)\n",
    "fig.add_subplot(236)\n",
    "plt.scatter(s1old, s3old)\n",
    "plt.title('old lap increased rad')\n",
    "plt.subplots_adjust(hspace=.5, wspace = .5)"
   ]
  },
  {
   "cell_type": "code",
   "execution_count": 92,
   "metadata": {},
   "outputs": [
    {
     "data": {
      "text/plain": [
       "array([[3071.25183074],\n",
       "       [4493.57495257],\n",
       "       [5711.22421178],\n",
       "       ...,\n",
       "       [5640.35937539],\n",
       "       [4229.65935565],\n",
       "       [3116.4750372 ]])"
      ]
     },
     "execution_count": 92,
     "metadata": {},
     "output_type": "execute_result"
    }
   ],
   "source": [
    "megaman.geometry.rmetric.riemann_metric(data, M.geom.laplacian_matrix, n_dim = 1)[5]"
   ]
  },
  {
   "cell_type": "code",
   "execution_count": 95,
   "metadata": {},
   "outputs": [
    {
     "name": "stderr",
     "output_type": "stream",
     "text": [
      "/Users/samsonkoelle/anaconda3/envs/py35021518/lib/python3.5/site-packages/scipy/sparse/linalg/dsolve/linsolve.py:133: SparseEfficiencyWarning: spsolve requires A be CSC or CSR matrix format\n",
      "  SparseEfficiencyWarning)\n",
      "/Users/samsonkoelle/anaconda3/envs/py35021518/lib/python3.5/site-packages/scipy/sparse/linalg/dsolve/linsolve.py:202: SparseEfficiencyWarning: spsolve is more efficient when sparse b is in the CSC matrix format\n",
      "  'is in the CSC matrix format', SparseEfficiencyWarning)\n"
     ]
    }
   ],
   "source": [
    "laplu = get_laplacian(M.geom, diffusion_time)\n",
    "megaman.geometry.rmetric.riemann_metric(data, laplu, n_dim = 1)[5]"
   ]
  },
  {
   "cell_type": "code",
   "execution_count": 96,
   "metadata": {},
   "outputs": [
    {
     "data": {
      "text/plain": [
       "array([[273.9747229 ],\n",
       "       [400.85477203],\n",
       "       [509.47664245],\n",
       "       ...,\n",
       "       [503.15505925],\n",
       "       [377.31186298],\n",
       "       [278.00891357]])"
      ]
     },
     "execution_count": 96,
     "metadata": {},
     "output_type": "execute_result"
    }
   ],
   "source": []
  },
  {
   "cell_type": "code",
   "execution_count": null,
   "metadata": {
    "collapsed": true
   },
   "outputs": [],
   "source": []
  }
 ],
 "metadata": {
  "kernelspec": {
   "display_name": "python35megaman03",
   "language": "python",
   "name": "python35megaman03"
  },
  "language_info": {
   "codemirror_mode": {
    "name": "ipython",
    "version": 3
   },
   "file_extension": ".py",
   "mimetype": "text/x-python",
   "name": "python",
   "nbconvert_exporter": "python",
   "pygments_lexer": "ipython3",
   "version": "3.5.5"
  }
 },
 "nbformat": 4,
 "nbformat_minor": 2
}
