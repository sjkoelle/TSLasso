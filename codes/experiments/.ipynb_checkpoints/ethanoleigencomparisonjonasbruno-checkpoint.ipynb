{
 "cells": [
  {
   "cell_type": "code",
   "execution_count": 1,
   "metadata": {},
   "outputs": [
    {
     "name": "stdout",
     "output_type": "stream",
     "text": [
      "/Users/samsonkoelle/Downloads/manigrad-100818/mani-samk-gradients\n",
      "[[ 9  0  1  2]\n",
      " [ 0  1  2  3]\n",
      " [ 1  2  3  4]\n",
      " [ 2  3  4  5]\n",
      " [ 3  4  5  6]\n",
      " [ 4  5  6  1]\n",
      " [ 5  6  1  0]\n",
      " [ 0  1  3 11]\n",
      " [10  2  4 12]\n",
      " [11  3  5 13]\n",
      " [12  4  6 14]\n",
      " [10  2  6 13]\n",
      " [ 0  1  5 13]\n",
      " [11  3  6 14]\n",
      " [12  4  1  0]]\n",
      "initializing Geometry\n",
      "executing laplacian.compute_laplacian_matrix\n",
      "executing Laplacian.laplacian_matrix\n",
      "pre _compute_laplacian\n",
      "executing GeometricLaplacian._compute_laplacian\n",
      "executing _normalize_laplacian\n",
      "executing _normalize_laplacian\n",
      "post _compute_laplacian\n"
     ]
    }
   ],
   "source": [
    "import os\n",
    "import random\n",
    "workingdirectory = '/Users/samsonkoelle/Downloads/manigrad-100818/mani-samk-gradients'\n",
    "os.chdir(workingdirectory)\n",
    "from codes.experimentclasses.TolueneAngles import TolueneAngles\n",
    "import numpy as np\n",
    "import dill as pickle\n",
    "np.random.seed(0)\n",
    "random.seed(0)\n",
    "import matplotlib.pyplot as plt\n",
    "from codes.geometer.RiemannianManifold import RiemannianManifold\n",
    "from codes.geometer.ShapeSpace import ShapeSpace\n",
    "from codes.geometer.TangentBundle import TangentBundle\n",
    "\n",
    "#set parameters\n",
    "n = 50000 #number of data points to simulate\n",
    "nsel = 50 #number of points to analyze with lasso\n",
    "itermax = 10000 #maximum iterations per lasso run\n",
    "tol = 1e-10 #convergence criteria for lasso\n",
    "lambdas = np.asarray([0,10,100,1000,10000], dtype = np.float16)#lambda values for lasso\n",
    "n_neighbors = 500 #number of neighbors in megaman\n",
    "n_components = 3 #number of embedding dimensions (diffusion maps)\n",
    "diffusion_time = 1. #diffusion time controls gaussian kernel radius per gradients paper\n",
    "dim = 2 #manifold dimension\n",
    "cores = 3 #number of cores for parallel processing\n",
    "ii = np.asarray([0, 0, 0, 0, 1, 6, 5, 6, 5, 4, 4, 3, 3, 2, 2])\n",
    "jj = np.asarray([8, 9, 7, 1, 6, 14, 13, 5, 4, 12, 3, 11, 2, 10, 1])\n",
    "\n",
    "#run experiment\n",
    "atoms4 = np.asarray([[9,0,1,2],[0,1,2,3],[1,2,3,4],[2,3,4,5],[3,4,5,6],[4,5,6,1],[5,6,1,0],\n",
    "\t[0,1,3,11],[10,2,4,12],[11,3,5,13],[12,4,6,14],[10,2,6,13],[0,1,5,13],[11,3,6,14],[12,4,1,0]],dtype = int)\n",
    "experiment = TolueneAngles(dim, n, ii, jj,cores,atoms4)\n",
    "experiment.M = experiment.load_data() #if noise == False then noise parameters are overriden\n",
    "experiment.q = n_components\n",
    "experiment.M.geom = experiment.M.compute_geom(diffusion_time, n_neighbors)"
   ]
  },
  {
   "cell_type": "code",
   "execution_count": 2,
   "metadata": {},
   "outputs": [
    {
     "name": "stdout",
     "output_type": "stream",
     "text": [
      "executing laplacian.compute_laplacian_matrix\n",
      "executing Laplacian.laplacian_matrix\n",
      "pre _compute_laplacian\n",
      "executing GeometricLaplacian._compute_laplacian\n",
      "executing _normalize_laplacian\n",
      "executing _normalize_laplacian\n",
      "post _compute_laplacian\n"
     ]
    },
    {
     "name": "stderr",
     "output_type": "stream",
     "text": [
      "/Users/samsonkoelle/anaconda3/envs/py35021518/lib/python3.5/site-packages/megaman/geometry/rmetric.py:94: RuntimeWarning: divide by zero encountered in reciprocal\n",
      "  Einv = E**(-1)\n"
     ]
    }
   ],
   "source": [
    "experiment.N = experiment.M.get_embedding3(experiment.M.geom, n_components, diffusion_time, dim)"
   ]
  },
  {
   "cell_type": "code",
   "execution_count": 4,
   "metadata": {},
   "outputs": [],
   "source": [
    "        import copy\n",
    "        i = 0\n",
    "        experiments = {}\n",
    "        experiments[i] = copy.copy(experiment)\n",
    "        experiments[i].M.selected_points =np.array([11523, 14155, 35458,   320, 41265, 27166, 35745, 16037, 48696,\n",
    "       12411,  9197, 25530,   497,  2984, 15894,  8662, 27714, 15998,\n",
    "       34745, 22705, 38214, 22796, 41692, 18050, 20914, 47792, 49299,\n",
    "       24782, 38350, 16013, 11589,  1876, 15969, 42841, 10378, 10739,\n",
    "       49965, 31503, 36241, 35112, 39267, 45790, 44044,  7597, 29319,\n",
    "       33928, 16432,  7098, 39571,  6045,  3527, 49620, 13250, 25904,\n",
    "        2229, 12615, 25318, 43356, 45885, 18524, 28576, 12536, 17121,\n",
    "       14782, 28899,  2834, 28571, 40518, 27124, 17724,  2441, 29720,\n",
    "       43913,  4013, 35548, 31546,  6595, 41571, 39216,  6983,     5,\n",
    "       41037,  9892, 43374, 48560, 24538, 31188, 44605, 26733, 26863,\n",
    "       38731, 31725, 46707, 34019, 17808, 28272, 14128, 20958, 45171,\n",
    "       30820])\n",
    "        tangent_bases = experiments[i].M.get_wlpca_tangent_sel(experiments[i].M, experiments[i].M.selected_points)\n",
    "        subM = RiemannianManifold(experiments[i].M.data[experiments[i].M.selected_points], dim)\n",
    "        subM.tb = TangentBundle(subM, tangent_bases)\n",
    "        experiments[i].N.tangent_bundle = TangentBundle(experiments[i].N, experiments[i].N.geom.rmetric.embedding_eigenvectors)\n",
    "        experiments[i].df_M = experiments[i].get_dF_js_idM(experiments[i].M, experiments[i].N, subM.tb, experiments[i].N.tangent_bundle,\n",
    "                                                   experiments[i].M.selected_points)\n",
    "        #experiments[i].df_M = experiments[i].df_M / np.linalg.norm(experiments[i].df_M, axis=1).sum(axis=0)\n",
    "        experiments[i].df_M2 = experiments[i].df_M / np.linalg.norm(experiments[i].df_M) ** 2\n",
    "        experiments[i].dg_x = experiments[i].get_dx_g_full(experiments[i].M.data[experiments[i].M.selected_points])\n",
    "        experiments[i].W = ShapeSpace(experiments[i].positions, experiments[i].M.data)\n",
    "        experiments[i].dw = experiments[i].W.get_dw(cores, experiments[i].atoms3, experiments[i].natoms, experiments[i].M.selected_points)\n",
    "        experiments[i].dg_w = experiments[i].project(experiments[i].dw, experiments[i].dg_x)\n",
    "        tb_w_tangent_bases = experiments[i].project(experiments[i].dw, np.swapaxes(subM.tb.tangent_bases, 1, 2))\n",
    "        experiments[i].dw_norm = experiments[i].normalize(experiments[i].dg_w)\n",
    "        experiments[i].dg_M = experiments[i].project(np.swapaxes(tb_w_tangent_bases, 1, 2), experiments[i].dw_norm)"
   ]
  },
  {
   "cell_type": "code",
   "execution_count": 35,
   "metadata": {},
   "outputs": [
    {
     "data": {
      "text/plain": [
       "50"
      ]
     },
     "execution_count": 35,
     "metadata": {},
     "output_type": "execute_result"
    }
   ],
   "source": [
    "nsel"
   ]
  },
  {
   "cell_type": "code",
   "execution_count": 34,
   "metadata": {},
   "outputs": [
    {
     "ename": "ValueError",
     "evalue": "cannot reshape array of size 4500 into shape (3,50,15)",
     "output_type": "error",
     "traceback": [
      "\u001b[0;31m---------------------------------------------------------------------------\u001b[0m",
      "\u001b[0;31mValueError\u001b[0m                                Traceback (most recent call last)",
      "\u001b[0;32m<ipython-input-34-0a7ac07b34ff>\u001b[0m in \u001b[0;36m<module>\u001b[0;34m()\u001b[0m\n\u001b[1;32m      3\u001b[0m \u001b[0mexperiments\u001b[0m\u001b[0;34m[\u001b[0m\u001b[0mi\u001b[0m\u001b[0;34m]\u001b[0m\u001b[0;34m.\u001b[0m\u001b[0mytrain\u001b[0m \u001b[0;34m=\u001b[0m \u001b[0mexperiments\u001b[0m\u001b[0;34m[\u001b[0m\u001b[0mi\u001b[0m\u001b[0;34m]\u001b[0m\u001b[0;34m.\u001b[0m\u001b[0mconstruct_Y_js\u001b[0m\u001b[0;34m(\u001b[0m\u001b[0mexperiments\u001b[0m\u001b[0;34m[\u001b[0m\u001b[0mi\u001b[0m\u001b[0;34m]\u001b[0m\u001b[0;34m.\u001b[0m\u001b[0mdf_M\u001b[0m\u001b[0;34m)\u001b[0m\u001b[0;34m\u001b[0m\u001b[0m\n\u001b[1;32m      4\u001b[0m experiments[i].coeffs = experiments[i].get_betas_spam2(experiments[i].xtrain, experiments[i].ytrain, experiments[i].groups, lambdas,\n\u001b[0;32m----> 5\u001b[0;31m                                                nsel, experiments[i].q, itermax, tol)\n\u001b[0m",
      "\u001b[0;32m~/Downloads/manigrad-100818/mani-samk-gradients/codes/flasso/FlassoExperiment.py\u001b[0m in \u001b[0;36mget_betas_spam2\u001b[0;34m(self, xs, ys, groups, lambdas, n, q, itermax, tol)\u001b[0m\n\u001b[1;32m    520\u001b[0m             \u001b[0;31m#spams.fistaFlat(Y,X,W0,TRUE,numThreads = 1,verbose = TRUE,lambda1 = 0.05, it0 = 10, max_it = 200,L0 = 0.1, tol = 1e-3, intercept = FALSE,pos = FALSE,compute_gram = TRUE, loss = 'square',regul = 'l1')\u001b[0m\u001b[0;34m\u001b[0m\u001b[0;34m\u001b[0m\u001b[0m\n\u001b[1;32m    521\u001b[0m             \u001b[0moutput\u001b[0m \u001b[0;34m=\u001b[0m \u001b[0mspams\u001b[0m\u001b[0;34m.\u001b[0m\u001b[0mfistaFlat\u001b[0m\u001b[0;34m(\u001b[0m\u001b[0mYsam\u001b[0m\u001b[0;34m,\u001b[0m\u001b[0mXsam\u001b[0m\u001b[0;34m,\u001b[0m\u001b[0mW0\u001b[0m\u001b[0;34m,\u001b[0m\u001b[0;32mTrue\u001b[0m\u001b[0;34m,\u001b[0m\u001b[0mgroups\u001b[0m \u001b[0;34m=\u001b[0m \u001b[0mgroups\u001b[0m\u001b[0;34m,\u001b[0m \u001b[0mnumThreads\u001b[0m \u001b[0;34m=\u001b[0m \u001b[0;34m-\u001b[0m\u001b[0;36m1\u001b[0m\u001b[0;34m,\u001b[0m\u001b[0mverbose\u001b[0m \u001b[0;34m=\u001b[0m \u001b[0;32mTrue\u001b[0m\u001b[0;34m,\u001b[0m\u001b[0mlambda1\u001b[0m \u001b[0;34m=\u001b[0m \u001b[0mlambdas\u001b[0m\u001b[0;34m[\u001b[0m\u001b[0mi\u001b[0m\u001b[0;34m]\u001b[0m\u001b[0;34m,\u001b[0m \u001b[0mit0\u001b[0m \u001b[0;34m=\u001b[0m \u001b[0;36m100\u001b[0m\u001b[0;34m,\u001b[0m \u001b[0mmax_it\u001b[0m \u001b[0;34m=\u001b[0m \u001b[0mitermax\u001b[0m\u001b[0;34m,\u001b[0m\u001b[0mL0\u001b[0m \u001b[0;34m=\u001b[0m \u001b[0;36m0.5\u001b[0m\u001b[0;34m,\u001b[0m \u001b[0mtol\u001b[0m \u001b[0;34m=\u001b[0m \u001b[0mtol\u001b[0m\u001b[0;34m,\u001b[0m \u001b[0mintercept\u001b[0m \u001b[0;34m=\u001b[0m \u001b[0;32mFalse\u001b[0m\u001b[0;34m,\u001b[0m\u001b[0mpos\u001b[0m \u001b[0;34m=\u001b[0m \u001b[0;32mFalse\u001b[0m\u001b[0;34m,\u001b[0m\u001b[0mcompute_gram\u001b[0m \u001b[0;34m=\u001b[0m \u001b[0;32mTrue\u001b[0m\u001b[0;34m,\u001b[0m \u001b[0mloss\u001b[0m \u001b[0;34m=\u001b[0m \u001b[0;34m'square'\u001b[0m\u001b[0;34m,\u001b[0m\u001b[0mregul\u001b[0m \u001b[0;34m=\u001b[0m \u001b[0;34m'group-lasso-l2'\u001b[0m\u001b[0;34m,\u001b[0m\u001b[0mista\u001b[0m \u001b[0;34m=\u001b[0m \u001b[0;32mFalse\u001b[0m\u001b[0;34m,\u001b[0m\u001b[0msubgrad\u001b[0m \u001b[0;34m=\u001b[0m \u001b[0;32mFalse\u001b[0m\u001b[0;34m,\u001b[0m\u001b[0ma\u001b[0m \u001b[0;34m=\u001b[0m \u001b[0;36m0.1\u001b[0m\u001b[0;34m,\u001b[0m \u001b[0mb\u001b[0m \u001b[0;34m=\u001b[0m \u001b[0;36m1000\u001b[0m\u001b[0;34m)\u001b[0m\u001b[0;34m\u001b[0m\u001b[0m\n\u001b[0;32m--> 522\u001b[0;31m             \u001b[0mcoeffs\u001b[0m\u001b[0;34m[\u001b[0m\u001b[0mi\u001b[0m\u001b[0;34m,\u001b[0m\u001b[0;34m:\u001b[0m\u001b[0;34m,\u001b[0m\u001b[0;34m:\u001b[0m\u001b[0;34m,\u001b[0m\u001b[0;34m:\u001b[0m\u001b[0;34m]\u001b[0m \u001b[0;34m=\u001b[0m \u001b[0mnp\u001b[0m\u001b[0;34m.\u001b[0m\u001b[0mreshape\u001b[0m\u001b[0;34m(\u001b[0m\u001b[0moutput\u001b[0m\u001b[0;34m[\u001b[0m\u001b[0;36m0\u001b[0m\u001b[0;34m]\u001b[0m\u001b[0;34m,\u001b[0m \u001b[0;34m(\u001b[0m\u001b[0mq\u001b[0m\u001b[0;34m,\u001b[0m\u001b[0mn\u001b[0m\u001b[0;34m,\u001b[0m\u001b[0mp\u001b[0m\u001b[0;34m)\u001b[0m\u001b[0;34m)\u001b[0m\u001b[0;34m\u001b[0m\u001b[0m\n\u001b[0m\u001b[1;32m    523\u001b[0m             \u001b[0;31m#print(output[1])\u001b[0m\u001b[0;34m\u001b[0m\u001b[0;34m\u001b[0m\u001b[0m\n\u001b[1;32m    524\u001b[0m         \u001b[0;32mreturn\u001b[0m\u001b[0;34m(\u001b[0m\u001b[0mcoeffs\u001b[0m\u001b[0;34m)\u001b[0m\u001b[0;34m\u001b[0m\u001b[0m\n",
      "\u001b[0;32m~/anaconda3/envs/py35021518/lib/python3.5/site-packages/numpy/core/fromnumeric.py\u001b[0m in \u001b[0;36mreshape\u001b[0;34m(a, newshape, order)\u001b[0m\n\u001b[1;32m    277\u001b[0m            [5, 6]])\n\u001b[1;32m    278\u001b[0m     \"\"\"\n\u001b[0;32m--> 279\u001b[0;31m     \u001b[0;32mreturn\u001b[0m \u001b[0m_wrapfunc\u001b[0m\u001b[0;34m(\u001b[0m\u001b[0ma\u001b[0m\u001b[0;34m,\u001b[0m \u001b[0;34m'reshape'\u001b[0m\u001b[0;34m,\u001b[0m \u001b[0mnewshape\u001b[0m\u001b[0;34m,\u001b[0m \u001b[0morder\u001b[0m\u001b[0;34m=\u001b[0m\u001b[0morder\u001b[0m\u001b[0;34m)\u001b[0m\u001b[0;34m\u001b[0m\u001b[0m\n\u001b[0m\u001b[1;32m    280\u001b[0m \u001b[0;34m\u001b[0m\u001b[0m\n\u001b[1;32m    281\u001b[0m \u001b[0;34m\u001b[0m\u001b[0m\n",
      "\u001b[0;32m~/anaconda3/envs/py35021518/lib/python3.5/site-packages/numpy/core/fromnumeric.py\u001b[0m in \u001b[0;36m_wrapfunc\u001b[0;34m(obj, method, *args, **kwds)\u001b[0m\n\u001b[1;32m     49\u001b[0m \u001b[0;32mdef\u001b[0m \u001b[0m_wrapfunc\u001b[0m\u001b[0;34m(\u001b[0m\u001b[0mobj\u001b[0m\u001b[0;34m,\u001b[0m \u001b[0mmethod\u001b[0m\u001b[0;34m,\u001b[0m \u001b[0;34m*\u001b[0m\u001b[0margs\u001b[0m\u001b[0;34m,\u001b[0m \u001b[0;34m**\u001b[0m\u001b[0mkwds\u001b[0m\u001b[0;34m)\u001b[0m\u001b[0;34m:\u001b[0m\u001b[0;34m\u001b[0m\u001b[0m\n\u001b[1;32m     50\u001b[0m     \u001b[0;32mtry\u001b[0m\u001b[0;34m:\u001b[0m\u001b[0;34m\u001b[0m\u001b[0m\n\u001b[0;32m---> 51\u001b[0;31m         \u001b[0;32mreturn\u001b[0m \u001b[0mgetattr\u001b[0m\u001b[0;34m(\u001b[0m\u001b[0mobj\u001b[0m\u001b[0;34m,\u001b[0m \u001b[0mmethod\u001b[0m\u001b[0;34m)\u001b[0m\u001b[0;34m(\u001b[0m\u001b[0;34m*\u001b[0m\u001b[0margs\u001b[0m\u001b[0;34m,\u001b[0m \u001b[0;34m**\u001b[0m\u001b[0mkwds\u001b[0m\u001b[0;34m)\u001b[0m\u001b[0;34m\u001b[0m\u001b[0m\n\u001b[0m\u001b[1;32m     52\u001b[0m \u001b[0;34m\u001b[0m\u001b[0m\n\u001b[1;32m     53\u001b[0m     \u001b[0;31m# An AttributeError occurs if the object does not have\u001b[0m\u001b[0;34m\u001b[0m\u001b[0;34m\u001b[0m\u001b[0m\n",
      "\u001b[0;31mValueError\u001b[0m: cannot reshape array of size 4500 into shape (3,50,15)"
     ]
    }
   ],
   "source": [
    "        i = 0\n",
    "        experiments[i].xtrain, experiments[i].groups = experiments[i].construct_X_js(experiments[i].dg_M)\n",
    "        experiments[i].ytrain = experiments[i].construct_Y_js(experiments[i].df_M)"
   ]
  },
  {
   "cell_type": "code",
   "execution_count": 36,
   "metadata": {
    "collapsed": true
   },
   "outputs": [],
   "source": [
    "        nsel = 100\n",
    "        experiments[i].coeffs = experiments[i].get_betas_spam2(experiments[i].xtrain, experiments[i].ytrain, experiments[i].groups, lambdas,\n",
    "                                                       nsel, experiments[i].q, itermax, tol)"
   ]
  },
  {
   "cell_type": "code",
   "execution_count": 42,
   "metadata": {},
   "outputs": [
    {
     "data": {
      "text/plain": [
       "array([[ 1.41250039e+04, -4.95180225e+03, -8.48957324e+03,\n",
       "        -1.34076973e+04,  2.65957031e+05,  1.87027359e+05,\n",
       "         5.21923969e+05, -3.43148086e+04, -2.72696125e+05,\n",
       "         1.67993578e+05,  1.81696703e+05,  2.70810969e+05,\n",
       "         2.96606594e+05, -6.02219688e+04, -5.02951953e+03,\n",
       "         5.04549656e+05,  7.42404375e+04,  5.78966614e+02,\n",
       "         1.74608672e+05, -4.62851758e+03,  1.75663922e+05,\n",
       "         5.19659863e+03, -3.01204688e+04,  7.94889562e+05,\n",
       "         1.09099281e+05,  5.46248867e+04, -3.61131758e+04,\n",
       "        -1.71447480e+04,  5.55927875e+05, -1.46261143e+04,\n",
       "        -2.89285376e+03,  5.61323750e+05,  3.16962812e+05,\n",
       "        -1.62399951e+03, -9.98807715e+03, -1.77566528e+03,\n",
       "        -5.02348877e+03,  1.96720781e+05,  4.39362695e+03,\n",
       "         1.08564805e+04,  1.48536807e+04, -3.35617407e+03,\n",
       "        -2.74210669e+03, -2.11059316e+04, -1.24603281e+05,\n",
       "         6.10331953e+04, -6.13782539e+04,  3.07660188e+05,\n",
       "        -4.13549453e+04, -1.59013359e+05, -1.02385047e+05,\n",
       "         1.02422238e+06, -9.70427734e+04,  2.55430266e+05,\n",
       "         6.81639453e+04, -3.40086401e+03,  8.33361797e+04,\n",
       "        -2.11426094e+05, -1.50382100e+04, -1.12559180e+03,\n",
       "        -9.23952734e+03, -1.47984541e+04,  7.38254199e+03,\n",
       "         4.42158156e+05,  1.30417461e+04, -3.33155396e+03,\n",
       "         2.15826836e+04,  4.13768875e+05,  6.44778000e+05,\n",
       "         8.11198281e+04, -9.84004785e+03,  3.16918799e+03,\n",
       "        -7.64671533e+03, -2.29500977e+04,  6.17733188e+05,\n",
       "         3.01911906e+05, -1.22189312e+05,  1.28476143e+04,\n",
       "         1.07083727e+05,  3.61236562e+04,  1.13938320e+05,\n",
       "         4.49677156e+05, -1.97014766e+04,  3.22690438e+05,\n",
       "         1.18533750e+05, -4.69189355e+03, -4.32077094e+05,\n",
       "         2.59532875e+05, -6.00516953e+04,  1.33593135e+04,\n",
       "         4.01906992e+04,  2.75596914e+04, -3.45681875e+04,\n",
       "         1.83760984e+05,  5.66220250e+05, -2.82295679e+03,\n",
       "         2.44974609e+05, -8.73487695e+03,  1.24598193e+04,\n",
       "         2.81087094e+05],\n",
       "       [-6.47097852e+04, -7.13257578e+04, -6.53578750e+04,\n",
       "        -7.85608672e+04, -4.48915156e+04,  2.44142719e+05,\n",
       "        -4.14306328e+04, -1.61542021e+04, -4.34305125e+05,\n",
       "        -6.63682568e+03, -3.22030508e+04, -5.48914355e+03,\n",
       "         2.68376191e+04,  1.15679785e+04, -3.68765273e+04,\n",
       "         9.24580938e+04, -7.32191455e+03,  4.31918047e+04,\n",
       "        -1.17897627e+04, -4.77421625e+05, -1.39697988e+04,\n",
       "         3.72730719e+05, -1.89598625e+05, -6.35027812e+05,\n",
       "        -6.76395654e+03, -8.85538965e+03,  9.31406250e+04,\n",
       "        -1.43243188e+05, -6.98786328e+04, -1.65954656e+05,\n",
       "        -1.33262012e+04, -1.93832406e+05, -1.72722285e+04,\n",
       "        -1.91874062e+04, -2.29650812e+05,  9.53369844e+04,\n",
       "        -7.78009922e+04, -1.06553398e+04, -1.42047844e+05,\n",
       "         2.27400488e+04,  1.11701320e+05, -1.36512047e+05,\n",
       "         7.92524844e+04,  2.08862274e+02,  2.04088730e+04,\n",
       "        -5.99402295e+03,  4.39900830e+03, -4.70533164e+04,\n",
       "        -3.03160781e+04,  3.97551328e+04, -1.66853398e+04,\n",
       "         5.30497125e+05, -5.16726438e+05,  1.84525020e+04,\n",
       "        -5.08552441e+03, -2.88198281e+04, -3.21115875e+05,\n",
       "         5.17625781e+05,  2.35143141e+05,  3.98720654e+03,\n",
       "        -2.08558078e+05, -2.41089234e+05,  1.95063477e+04,\n",
       "         6.46970078e+04, -5.96199219e+03, -8.45732266e+04,\n",
       "         1.20643711e+05, -1.90564844e+04,  3.64195562e+05,\n",
       "         3.32904570e+04, -2.50315406e+05,  1.07297314e+04,\n",
       "        -1.60130484e+05, -3.04804125e+05,  7.91961875e+04,\n",
       "        -2.43809004e+04, -5.83006938e+05, -1.57549097e+03,\n",
       "         1.31824281e+05, -4.57178467e+03, -3.49584141e+04,\n",
       "         3.17116973e+04, -1.58281125e+05, -3.06530430e+04,\n",
       "        -1.22354131e+04, -1.38309156e+05, -1.58684307e+04,\n",
       "         3.22075094e+05,  1.77549062e+05, -2.66647778e+03,\n",
       "        -2.19732734e+05, -8.68643860e+02,  4.05074438e+05,\n",
       "        -5.30439297e+04, -7.41103000e+05, -7.36181641e+04,\n",
       "        -1.04045518e+04,  1.34647681e+03, -3.85399292e+02,\n",
       "        -3.48309570e+04],\n",
       "       [ 6.79931592e+03,  3.41168398e+04, -2.45623145e+03,\n",
       "         8.30231543e+03,  2.77424160e+04,  2.70195352e+04,\n",
       "        -7.76892266e+04,  4.53613242e+04, -2.46128066e+04,\n",
       "         1.12936562e+04, -4.12511875e+04, -5.69435205e+03,\n",
       "         1.10431836e+04,  5.64191992e+03, -1.23800732e+04,\n",
       "         2.16637930e+04,  5.14144336e+03,  1.03779717e+04,\n",
       "        -2.50477754e+04,  5.77045508e+04, -2.59188672e+04,\n",
       "         3.34186953e+04, -4.65803613e+03, -1.97909058e+03,\n",
       "        -1.98264473e+04,  4.88126367e+04,  1.00621143e+04,\n",
       "        -1.78413926e+04, -7.69332422e+04, -4.23760078e+04,\n",
       "         3.16038223e+04, -5.11240234e+04, -4.80845586e+04,\n",
       "         2.57822778e+03, -1.89536777e+04,  1.22850186e+04,\n",
       "        -7.46853955e+03, -3.35298203e+04, -1.74807812e+04,\n",
       "         1.65028809e+04,  3.76492852e+04,  3.51013906e+04,\n",
       "        -1.58883018e+04, -8.99624512e+03, -2.77666973e+04,\n",
       "         3.06399170e+03,  1.34128936e+04,  4.05273906e+04,\n",
       "        -5.88039453e+03, -2.61404121e+04,  1.87898477e+04,\n",
       "         1.27114473e+04, -2.25348887e+04, -1.19764482e+04,\n",
       "        -1.89289746e+04,  2.23709058e+03,  3.43960938e+04,\n",
       "         2.09622910e+04,  1.15251562e+04, -1.92634570e+04,\n",
       "        -1.79261445e+04, -2.61205840e+04, -5.16862695e+04,\n",
       "         3.08242695e+04, -5.44061890e+02, -2.56895093e+03,\n",
       "        -2.03806426e+04,  1.10728164e+04,  1.25379844e+04,\n",
       "        -2.08670264e+03,  3.75878320e+04,  6.12295508e+03,\n",
       "        -2.24234277e+04, -2.03696692e+03,  3.09875742e+04,\n",
       "         1.02738164e+04, -2.29303125e+04,  4.33286914e+03,\n",
       "         1.46001396e+04, -4.10039453e+04,  9.44418359e+03,\n",
       "        -4.45485156e+04, -2.98162422e+04,  5.38931836e+03,\n",
       "        -6.85134326e+03,  5.64873682e+03,  8.94557969e+04,\n",
       "        -1.04299893e+04,  6.52635205e+03, -2.89831445e+04,\n",
       "        -2.71357812e+04,  5.11216992e+03,  7.23206797e+04,\n",
       "        -3.22933789e+04, -4.30305234e+04, -1.97542163e+03,\n",
       "         1.14706162e+04, -7.26744336e+03,  2.59547461e+03,\n",
       "        -9.32059180e+03]])"
      ]
     },
     "execution_count": 42,
     "metadata": {},
     "output_type": "execute_result"
    }
   ],
   "source": [
    "experiments[i].coeffs[2][:,:,0]\n"
   ]
  },
  {
   "cell_type": "code",
   "execution_count": 55,
   "metadata": {
    "collapsed": true
   },
   "outputs": [],
   "source": [
    "def get_betas_spam2(xs, ys, groups, lambdas,n,q,itermax,tol):\n",
    "    \n",
    "    #n = xs.shape[0]\n",
    "    p = len(np.unique(groups))\n",
    "    lambdas = np.asarray(lambdas, dtype = np.float64)\n",
    "    yadd = np.expand_dims(ys,1)\n",
    "    groups = np.asarray(groups, dtype = np.int32) + 1\n",
    "    W0 = np.zeros((xs.shape[1], yadd.shape[1]), dtype = np.float32)\n",
    "    Xsam = np.asfortranarray(xs,dtype=np.float32)\n",
    "    Ysam = np.asfortranarray(yadd,dtype=np.float32)\n",
    "    coeffs= np.zeros((len(lambdas),q,n,p))\n",
    "    for i in range(len(lambdas)):\n",
    "        #alpha = spams.fistaFlat(Xsam,Dsam2,alpha0sam,ind_groupsam,lambda1 = lambdas[i],mode = mode,itermax = itermax,tol = tol,numThreads = numThreads, regul = \"group-lasso-l2\")\n",
    "        #spams.fistaFlat(Y,X,W0,TRUE,numThreads = 1,verbose = TRUE,lambda1 = 0.05, it0 = 10, max_it = 200,L0 = 0.1, tol = 1e-3, intercept = FALSE,pos = FALSE,compute_gram = TRUE, loss = 'square',regul = 'l1')\n",
    "        output = spams.fistaFlat(Ysam,Xsam,W0,True,groups = groups, numThreads = -1,verbose = True,lambda1 = lambdas[i], it0 = 100, max_it = itermax,L0 = 0.5, tol = tol, intercept = False,pos = False,compute_gram = True, loss = 'square',regul = 'group-lasso-l2',ista = False,subgrad = False,a = 0.1, b = 1000)\n",
    "        coeffs[i,:,:,:] = np.reshape(output[0], (q,n,p))\n",
    "        oi = output[1]\n",
    "        #print(output[1])\n",
    "    return(coeffs, oi)"
   ]
  },
  {
   "cell_type": "code",
   "execution_count": 56,
   "metadata": {},
   "outputs": [
    {
     "ename": "TypeError",
     "evalue": "fistaFlat() got multiple values for argument 'return_optim_info'",
     "output_type": "error",
     "traceback": [
      "\u001b[0;31m---------------------------------------------------------------------------\u001b[0m",
      "\u001b[0;31mTypeError\u001b[0m                                 Traceback (most recent call last)",
      "\u001b[0;32m<ipython-input-56-fd29b2c3dec7>\u001b[0m in \u001b[0;36m<module>\u001b[0;34m()\u001b[0m\n\u001b[1;32m      1\u001b[0m pppp = get_betas_spam2(experiments[i].xtrain, experiments[i].ytrain, experiments[i].groups, lambdas,\n\u001b[0;32m----> 2\u001b[0;31m                                                nsel, experiments[i].q, itermax, tol)\n\u001b[0m",
      "\u001b[0;32m<ipython-input-55-2c56981870a8>\u001b[0m in \u001b[0;36mget_betas_spam2\u001b[0;34m(xs, ys, groups, lambdas, n, q, itermax, tol)\u001b[0m\n\u001b[1;32m     13\u001b[0m         \u001b[0;31m#alpha = spams.fistaFlat(Xsam,Dsam2,alpha0sam,ind_groupsam,lambda1 = lambdas[i],mode = mode,itermax = itermax,tol = tol,numThreads = numThreads, regul = \"group-lasso-l2\")\u001b[0m\u001b[0;34m\u001b[0m\u001b[0;34m\u001b[0m\u001b[0m\n\u001b[1;32m     14\u001b[0m         \u001b[0;31m#spams.fistaFlat(Y,X,W0,TRUE,numThreads = 1,verbose = TRUE,lambda1 = 0.05, it0 = 10, max_it = 200,L0 = 0.1, tol = 1e-3, intercept = FALSE,pos = FALSE,compute_gram = TRUE, loss = 'square',regul = 'l1')\u001b[0m\u001b[0;34m\u001b[0m\u001b[0;34m\u001b[0m\u001b[0m\n\u001b[0;32m---> 15\u001b[0;31m         \u001b[0moutput\u001b[0m\u001b[0;34m,\u001b[0m \u001b[0moi\u001b[0m \u001b[0;34m=\u001b[0m \u001b[0mspams\u001b[0m\u001b[0;34m.\u001b[0m\u001b[0mfistaFlat\u001b[0m\u001b[0;34m(\u001b[0m\u001b[0mYsam\u001b[0m\u001b[0;34m,\u001b[0m\u001b[0mXsam\u001b[0m\u001b[0;34m,\u001b[0m\u001b[0mW0\u001b[0m\u001b[0;34m,\u001b[0m\u001b[0;32mTrue\u001b[0m\u001b[0;34m,\u001b[0m\u001b[0mgroups\u001b[0m \u001b[0;34m=\u001b[0m \u001b[0mgroups\u001b[0m\u001b[0;34m,\u001b[0m \u001b[0mnumThreads\u001b[0m \u001b[0;34m=\u001b[0m \u001b[0;34m-\u001b[0m\u001b[0;36m1\u001b[0m\u001b[0;34m,\u001b[0m\u001b[0mverbose\u001b[0m \u001b[0;34m=\u001b[0m \u001b[0;32mTrue\u001b[0m\u001b[0;34m,\u001b[0m\u001b[0mlambda1\u001b[0m \u001b[0;34m=\u001b[0m \u001b[0mlambdas\u001b[0m\u001b[0;34m[\u001b[0m\u001b[0mi\u001b[0m\u001b[0;34m]\u001b[0m\u001b[0;34m,\u001b[0m \u001b[0mit0\u001b[0m \u001b[0;34m=\u001b[0m \u001b[0;36m100\u001b[0m\u001b[0;34m,\u001b[0m \u001b[0mmax_it\u001b[0m \u001b[0;34m=\u001b[0m \u001b[0mitermax\u001b[0m\u001b[0;34m,\u001b[0m\u001b[0mL0\u001b[0m \u001b[0;34m=\u001b[0m \u001b[0;36m0.5\u001b[0m\u001b[0;34m,\u001b[0m \u001b[0mtol\u001b[0m \u001b[0;34m=\u001b[0m \u001b[0mtol\u001b[0m\u001b[0;34m,\u001b[0m \u001b[0mintercept\u001b[0m \u001b[0;34m=\u001b[0m \u001b[0;32mFalse\u001b[0m\u001b[0;34m,\u001b[0m\u001b[0mpos\u001b[0m \u001b[0;34m=\u001b[0m \u001b[0;32mFalse\u001b[0m\u001b[0;34m,\u001b[0m\u001b[0mcompute_gram\u001b[0m \u001b[0;34m=\u001b[0m \u001b[0;32mTrue\u001b[0m\u001b[0;34m,\u001b[0m \u001b[0mloss\u001b[0m \u001b[0;34m=\u001b[0m \u001b[0;34m'square'\u001b[0m\u001b[0;34m,\u001b[0m\u001b[0mregul\u001b[0m \u001b[0;34m=\u001b[0m \u001b[0;34m'group-lasso-l2'\u001b[0m\u001b[0;34m,\u001b[0m\u001b[0mista\u001b[0m \u001b[0;34m=\u001b[0m \u001b[0;32mFalse\u001b[0m\u001b[0;34m,\u001b[0m\u001b[0msubgrad\u001b[0m \u001b[0;34m=\u001b[0m \u001b[0;32mFalse\u001b[0m\u001b[0;34m,\u001b[0m\u001b[0ma\u001b[0m \u001b[0;34m=\u001b[0m \u001b[0;36m0.1\u001b[0m\u001b[0;34m,\u001b[0m \u001b[0mb\u001b[0m \u001b[0;34m=\u001b[0m \u001b[0;36m1000\u001b[0m\u001b[0;34m,\u001b[0m \u001b[0mreturn_optim_info\u001b[0m \u001b[0;34m=\u001b[0m \u001b[0;32mTrue\u001b[0m\u001b[0;34m)\u001b[0m\u001b[0;34m\u001b[0m\u001b[0m\n\u001b[0m\u001b[1;32m     16\u001b[0m         \u001b[0mcoeffs\u001b[0m\u001b[0;34m[\u001b[0m\u001b[0mi\u001b[0m\u001b[0;34m,\u001b[0m\u001b[0;34m:\u001b[0m\u001b[0;34m,\u001b[0m\u001b[0;34m:\u001b[0m\u001b[0;34m,\u001b[0m\u001b[0;34m:\u001b[0m\u001b[0;34m]\u001b[0m \u001b[0;34m=\u001b[0m \u001b[0mnp\u001b[0m\u001b[0;34m.\u001b[0m\u001b[0mreshape\u001b[0m\u001b[0;34m(\u001b[0m\u001b[0moutput\u001b[0m\u001b[0;34m[\u001b[0m\u001b[0;36m0\u001b[0m\u001b[0;34m]\u001b[0m\u001b[0;34m,\u001b[0m \u001b[0;34m(\u001b[0m\u001b[0mq\u001b[0m\u001b[0;34m,\u001b[0m\u001b[0mn\u001b[0m\u001b[0;34m,\u001b[0m\u001b[0mp\u001b[0m\u001b[0;34m)\u001b[0m\u001b[0;34m)\u001b[0m\u001b[0;34m\u001b[0m\u001b[0m\n\u001b[1;32m     17\u001b[0m         \u001b[0;31m#print(output[1])\u001b[0m\u001b[0;34m\u001b[0m\u001b[0;34m\u001b[0m\u001b[0m\n",
      "\u001b[0;31mTypeError\u001b[0m: fistaFlat() got multiple values for argument 'return_optim_info'"
     ]
    }
   ],
   "source": [
    "        pppp = get_betas_spam2(experiments[i].xtrain, experiments[i].ytrain, experiments[i].groups, lambdas,\n",
    "                                                       nsel, experiments[i].q, itermax, tol)"
   ]
  },
  {
   "cell_type": "code",
   "execution_count": null,
   "metadata": {
    "collapsed": true
   },
   "outputs": [],
   "source": []
  },
  {
   "cell_type": "code",
   "execution_count": 50,
   "metadata": {},
   "outputs": [
    {
     "data": {
      "text/plain": [
       "array([23138872.38549054,        0.        ,        0.        ,\n",
       "              0.        ,        0.        ,        0.        ,\n",
       "              0.        ,        0.        ,        0.        ,\n",
       "              0.        ,        0.        ,        0.        ,\n",
       "              0.        ,        0.        ,        0.        ])"
      ]
     },
     "execution_count": 50,
     "metadata": {},
     "output_type": "execute_result"
    }
   ],
   "source": [
    "np.linalg.norm(experiments[i].coeffs[2][:,:,:], axis = 0).sum(axis = 0)"
   ]
  },
  {
   "cell_type": "code",
   "execution_count": 53,
   "metadata": {
    "collapsed": true
   },
   "outputs": [],
   "source": [
    "import spams"
   ]
  },
  {
   "cell_type": "code",
   "execution_count": 54,
   "metadata": {},
   "outputs": [
    {
     "ename": "TypeError",
     "evalue": "fistaFlat() missing 1 required positional argument: 'W0'",
     "output_type": "error",
     "traceback": [
      "\u001b[0;31m---------------------------------------------------------------------------\u001b[0m",
      "\u001b[0;31mTypeError\u001b[0m                                 Traceback (most recent call last)",
      "\u001b[0;32m<ipython-input-54-9939ef9bb92c>\u001b[0m in \u001b[0;36m<module>\u001b[0;34m()\u001b[0m\n\u001b[0;32m----> 1\u001b[0;31m \u001b[0mspams\u001b[0m\u001b[0;34m.\u001b[0m\u001b[0mfistaFlat\u001b[0m\u001b[0;34m(\u001b[0m\u001b[0;36m1\u001b[0m\u001b[0;34m,\u001b[0m\u001b[0;36m1\u001b[0m\u001b[0;34m)\u001b[0m\u001b[0;34m\u001b[0m\u001b[0m\n\u001b[0m",
      "\u001b[0;31mTypeError\u001b[0m: fistaFlat() missing 1 required positional argument: 'W0'"
     ]
    }
   ],
   "source": [
    "spams.fistaFlat(1,1)"
   ]
  },
  {
   "cell_type": "code",
   "execution_count": 52,
   "metadata": {},
   "outputs": [
    {
     "data": {
      "text/plain": [
       "100.0"
      ]
     },
     "execution_count": 52,
     "metadata": {},
     "output_type": "execute_result"
    }
   ],
   "source": [
    "lambdas[2]"
   ]
  },
  {
   "cell_type": "code",
   "execution_count": 12,
   "metadata": {},
   "outputs": [
    {
     "data": {
      "text/plain": [
       "array([0.17349194, 0.15483901, 0.02479596, 0.02238039, 0.02059684,\n",
       "       0.02226414, 0.15154164, 0.0820828 , 0.02580512, 0.02167294,\n",
       "       0.02416678, 0.02686376, 0.07483998, 0.04333567, 0.12684505])"
      ]
     },
     "execution_count": 12,
     "metadata": {},
     "output_type": "execute_result"
    }
   ],
   "source": [
    "np.linalg.norm(experiments[i].dg_M, axis = 2).sum(axis = 0)"
   ]
  },
  {
   "cell_type": "code",
   "execution_count": 15,
   "metadata": {},
   "outputs": [
    {
     "data": {
      "text/plain": [
       "array([[ 9,  0,  1,  2],\n",
       "       [ 0,  1,  2,  3],\n",
       "       [ 5,  6,  1,  0],\n",
       "       [12,  4,  1,  0]])"
      ]
     },
     "execution_count": 15,
     "metadata": {},
     "output_type": "execute_result"
    }
   ],
   "source": [
    "atoms4[np.asarray([0,1,6,14])]"
   ]
  },
  {
   "cell_type": "code",
   "execution_count": 17,
   "metadata": {
    "collapsed": true
   },
   "outputs": [],
   "source": [
    "def cosine_similarity(a,b):\n",
    "\toutput = np.dot(a,b) / (np.linalg.norm(a) * np.linalg.norm(b) )\n",
    "\treturn(output)\n"
   ]
  },
  {
   "cell_type": "code",
   "execution_count": 20,
   "metadata": {},
   "outputs": [],
   "source": [
    "output = np.zeros((100,15,15))\n",
    "for i in range(100):\n",
    "    for j in range(15):\n",
    "        for k in range(15):\n",
    "            output[i,j,k] = cosine_similarity(experiments[0].dg_M[i,j,:],experiments[0].dg_M[i,k,:])"
   ]
  },
  {
   "cell_type": "code",
   "execution_count": 30,
   "metadata": {},
   "outputs": [
    {
     "data": {
      "text/plain": [
       "array([100.        ,  78.22038666,  63.00189839,  63.50227763,\n",
       "        69.37150391,  62.81855063,  78.34426016,  73.81050076,\n",
       "        69.3363318 ,  63.99661112,  67.10988339,  65.01803534,\n",
       "        75.61063199,  67.28548607,  58.91195581])"
      ]
     },
     "execution_count": 30,
     "metadata": {},
     "output_type": "execute_result"
    }
   ],
   "source": [
    "np.abs(output).sum(axis = 0)[0]"
   ]
  },
  {
   "cell_type": "code",
   "execution_count": 33,
   "metadata": {},
   "outputs": [
    {
     "data": {
      "text/plain": [
       "array([ 1.        ,  0.99982472,  0.89961899, -0.51441714,  0.6443679 ,\n",
       "        0.44597126,  0.98379781, -0.9803535 , -0.4158976 , -0.40864576,\n",
       "       -0.18722778, -0.03726084, -0.90858494, -0.90612539, -0.78100547])"
      ]
     },
     "execution_count": 33,
     "metadata": {},
     "output_type": "execute_result"
    }
   ],
   "source": [
    "output[1][0]"
   ]
  },
  {
   "cell_type": "code",
   "execution_count": null,
   "metadata": {
    "collapsed": true
   },
   "outputs": [],
   "source": []
  }
 ],
 "metadata": {
  "kernelspec": {
   "display_name": "python35megaman03",
   "language": "python",
   "name": "python35megaman03"
  },
  "language_info": {
   "codemirror_mode": {
    "name": "ipython",
    "version": 3
   },
   "file_extension": ".py",
   "mimetype": "text/x-python",
   "name": "python",
   "nbconvert_exporter": "python",
   "pygments_lexer": "ipython3",
   "version": "3.5.5"
  }
 },
 "nbformat": 4,
 "nbformat_minor": 2
}
