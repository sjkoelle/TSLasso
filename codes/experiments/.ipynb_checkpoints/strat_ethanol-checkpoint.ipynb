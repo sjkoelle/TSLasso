{
 "cells": [
  {
   "cell_type": "code",
   "execution_count": 5,
   "metadata": {},
   "outputs": [
    {
     "name": "stdout",
     "output_type": "stream",
     "text": [
      "initializing Geometry\n",
      "executing laplacian.compute_laplacian_matrix\n",
      "executing Laplacian.laplacian_matrix\n",
      "pre _compute_laplacian\n",
      "executing GeometricLaplacian._compute_laplacian\n",
      "executing _normalize_laplacian\n",
      "executing _normalize_laplacian\n",
      "post _compute_laplacian\n",
      "executing laplacian.compute_laplacian_matrix\n",
      "executing Laplacian.laplacian_matrix\n",
      "pre _compute_laplacian\n",
      "executing GeometricLaplacian._compute_laplacian\n",
      "executing _normalize_laplacian\n",
      "executing _normalize_laplacian\n",
      "post _compute_laplacian\n"
     ]
    },
    {
     "name": "stderr",
     "output_type": "stream",
     "text": [
      "/Users/samsonkoelle/anaconda3/envs/py35021518/lib/python3.5/site-packages/megaman/geometry/rmetric.py:95: RuntimeWarning: divide by zero encountered in reciprocal\n",
      "  Einv = E**(-1)\n"
     ]
    }
   ],
   "source": [
    "\n",
    "#rootdirectory = '/Users/samsonkoelle/Downloads/manigrad-100818/mani-samk-gradients'\n",
    "#f = open(rootdirectory + '/code/source/packagecontrol.py')\n",
    "#source = f.read()\n",
    "#exec(source)\n",
    "#f = open(rootdirectory + '/code/source/sourcecontrol.py')\n",
    "#source = f.read()\n",
    "#exec(source)\n",
    "#f = open(rootdirectory + '/code/source/RigidEthanol.py')\n",
    "#source = f.read()\n",
    "#exec(source)\n",
    "import matplotlib\n",
    "matplotlib.use('Agg')\n",
    "import os\n",
    "import datetime\n",
    "import numpy as np\n",
    "import dill as pickle\n",
    "import random\n",
    "import sys\n",
    "np.random.seed(0)\n",
    "random.seed(0)\n",
    "now = datetime.datetime.now().strftime(\"%B_%d_%Y_%H_%M_%S\")\n",
    "workingdirectory = os.popen('git rev-parse --show-toplevel').read()[:-1]\n",
    "sys.path.append(workingdirectory)\n",
    "os.chdir(workingdirectory)\n",
    "#print(os.getcwd())\n",
    "from codes.experimentclasses.EthanolAngles import EthanolAngles\n",
    "from codes.geometer.RiemannianManifold import RiemannianManifold\n",
    "from codes.geometer.TangentBundle import TangentBundle\n",
    "from codes.geometer.ShapeSpace import ShapeSpace\n",
    "#import numpy as np\n",
    "import datetime\n",
    "from codes.otherfunctions.get_dictionaries import get_atoms_4\n",
    "\n",
    "#set parameters\n",
    "n = 50000 #number of data points to simulate\n",
    "nsel = 100 #number of points to analyze with lasso\n",
    "itermax = 1000 #maximum iterations per lasso run\n",
    "tol = 1e-10 #convergence criteria for lasso\n",
    "#lambdas = np.asarray([5,10,15,20,25,50,75,100], dtype = np.float16)#lambda values for lasso\n",
    "#lambdas = np.asarray([0,2.95339658e-06, 5.90679317e-06, 8.86018975e-06, 1.18135863e-05,\n",
    "#       1.47669829e-05, 2.95339658e-05, 4.43009487e-05, 5.90679317e-05])\n",
    "#lambdas = np.asarray([0,.001,.01,.1,1,10], dtype = np.float16)\n",
    "lambdas = np.asarray(np.hstack([np.asarray([0]),np.logspace(-1,3,11)]), dtype = np.float16)\n",
    "#lambdas = np.asarray([0,1,2,3,4,5,6,7,8,9,10], dtype = np.float16)\n",
    "n_neighbors = 100\n",
    "n_components = 3 #number of embedding dimensions (diffusion maps)\n",
    "diffusion_time = 1. #diffusion time controls gaussian kernel radius per gradients paper\n",
    "dim = 2 #manifold dimension\n",
    "dimnoise = 2 #noise dimension\n",
    "cores = 16 #number of cores for parallel processing\n",
    "ii = np.asarray([0,0,0,0,1,1,1,2]) # atom adjacencies for dihedral angle computation\n",
    "jj = np.asarray([1,2,3,4,5,6,7,8])\n",
    "#run experiment\n",
    "#atoms4 = np.asarray([[9,0,1,2],[0,1,2,3],[1,2,3,4],[2,3,4,5],[3,4,5,6],[4,5,6,1],[5,6,1,0]],dtype = int)\n",
    "atoms4,p = get_atoms_4(9,ii,jj)\n",
    "experiment = EthanolAngles(dim, ii,jj,cores, atoms4)\n",
    "experiment.M = experiment.load_data() #if noise == False then noise parameters are overriden\n",
    "experiment.Mpca = RiemannianManifold(np.load(workingdirectory + '/untracked_data/chemistry_data/ethanolangles022119_pca50.npy'), dim)\n",
    "experiment.q = n_components\n",
    "experiment.dimnoise = dimnoise\n",
    "projector  = np.load(workingdirectory + '/untracked_data/chemistry_data/ethanolangles022119_pca50_components.npy')\n",
    "experiment.Mpca.geom = experiment.Mpca.compute_geom(diffusion_time, n_neighbors)\n",
    "experiment.N = experiment.Mpca.get_embedding3(experiment.Mpca.geom, n_components, diffusion_time, dim)"
   ]
  },
  {
   "cell_type": "code",
   "execution_count": 6,
   "metadata": {},
   "outputs": [],
   "source": [
    "dnoise = 2\n",
    "experiment.Mpca.selected_points = np.random.choice(list(range(n)),nsel,replace = False)\n",
    "#experiment.Mpca.selected_points = np.asarray([ 911, 8873, 3223, 1867, 5243, 6188, 2567, 8330, 4615, 4561, 1431,\n",
    "#       4218, 7020,   39, 1542, 3258, 7355, 5396, 5252, 2863,  114, 6123,\n",
    "#       1259, 3568, 2403, 5681, 2340, 5062, 3205, 1082, 3383, 4840, 9009,\n",
    "#       5246,  140, 9999, 6659, 2759, 6980, 1054, 4552, 5233,  367, 9262,\n",
    "#       7272, 2930, 7055, 8931, 4999, 5829, 7530, 3487, 1001, 4592, 8429,\n",
    "#       3572,  312, 4158, 6723,  217, 6387, 6007, 3569, 9479, 9645, 5041,\n",
    "#       3923, 6205,   41, 3443, 1655, 4000, 1292, 4443, 5100, 7193, 5096,\n",
    "#       6689, 4729, 9424, 7672, 3565,  289, 2224, 1898,  400, 8428, 9752,\n",
    "#       2767, 1551,  837, 8257, 6307, 8820, 7884, 7814, 8203, 3468, 4826,\n",
    "#       2824])\n",
    "#experiment.Mpca.selected_points = experiment.Mpca.selected_points[:50]\n",
    "tangent_bases = experiment.Mpca.get_wlpca_tangent_sel(experiment.Mpca,experiment.Mpca.selected_points,dnoise)\n",
    "subM = RiemannianManifold(experiment.Mpca.data[experiment.Mpca.selected_points], dim)\n",
    "subM.tb = TangentBundle(subM, tangent_bases)\n",
    "experiment.N.tangent_bundle = TangentBundle(experiment.N, experiment.N.geom.rmetric.embedding_eigenvectors)\n",
    "experiment.df_M = experiment.get_dF_js_idM(experiment.Mpca, experiment.N, subM.tb, experiment.N.tangent_bundle,experiment.Mpca.selected_points,dnoise)\n",
    "#projector  = np.load(workingdirectory + '/untracked_data/chemistry_data/tolueneangles020619_pca50_components.npy')\n",
    "experiment.dg_x = experiment.get_dx_g_full(experiment.M.data[experiment.Mpca.selected_points])\n",
    "experiment.dg_x_pca = np.asarray([np.matmul(projector, experiment.dg_x[i].transpose()) for i in range(nsel)])\n",
    "experiment.W = ShapeSpace(experiment.positions, experiment.M.data)\n",
    "experiment.dw = experiment.W.get_dw(cores, experiment.atoms3, experiment.natoms, experiment.Mpca.selected_points)\n",
    "experiment.dw_pca = np.asarray([np.matmul(projector, experiment.dw[i]) for i in range(nsel)])\n",
    "experiment.dg_w = experiment.project(experiment.dw_pca, np.swapaxes(experiment.dg_x_pca,1,2))\n",
    "tb_w_tangent_bases = experiment.project(experiment.dw_pca, np.swapaxes(subM.tb.tangent_bases,1,2))\n",
    "experiment.dgw_norm = experiment.normalize(experiment.dg_w)\n",
    "experiment.dg_M = experiment.project(np.swapaxes(tb_w_tangent_bases,1,2), experiment.dgw_norm)"
   ]
  },
  {
   "cell_type": "code",
   "execution_count": 10,
   "metadata": {},
   "outputs": [],
   "source": [
    "import scipy\n",
    "dg_M = experiment.dg_M\n",
    "n = dg_M.shape[0]\n",
    "dim = dg_M.shape[2]\n",
    "p = dg_M.shape[1]\n",
    "q = experiment.q  \n",
    "xmat = np.zeros((n,dim, p))\n",
    "for i in range(n):\n",
    "    xmat[i,:,:] = dg_M[i,:,:].transpose()\n",
    "b = [scipy.linalg.block_diag(*([xmat[i]]*q)) for i in range(n)]\n",
    "#xmatq = scipy.linalg.block_diag(*b) \n",
    "#groups = np.zeros(p*q) \n",
    "groups = np.tile(np.asarray(np.linspace(start = 0, stop = (p-1), num = p), dtype = int),q)"
   ]
  },
  {
   "cell_type": "code",
   "execution_count": 11,
   "metadata": {},
   "outputs": [],
   "source": [
    "        self = experiment\n",
    "        df_M = experiment.df_M\n",
    "        \n",
    "        \n",
    "        n = df_M.shape[0]\n",
    "        q = self.q\n",
    "        if dim == None:\n",
    "            dim = self.dim\n",
    "        \n",
    "        reorg1 = [np.swapaxes(df_M[i], 0,1) for i in range(n)]\n",
    "        #reorg2 = [np.swapaxes(reorg1[i], 0,1) for i in range(n)]\n",
    "        #yvec = np.reshape(reorg2, (n*dim*dim))\n",
    "        #yvecs = [np.reshape(reorg2[i], (dim*q)) for i in range(n)]\n",
    "        yvecs = [np.reshape(reorg1[i], (dim*q)) for i in range(n)]\n",
    "    \n",
    "        #self = experiment\n",
    "        df_M = experiment.df_M\n",
    "        n = df_M.shape[0]\n",
    "        q = self.q\n",
    "        if dim == None:\n",
    "            dim = self.dim\n",
    "        \n",
    "        reorg1 = [np.swapaxes(df_M[i], 0,1) for i in range(n)]\n",
    "        #reorg2 = [np.swapaxes(reorg1[i], 0,1) for i in range(n)]\n",
    "        #yvec = np.reshape(reorg2, (n*dim*dim))\n",
    "        #yvecs = [np.reshape(reorg2[i], (dim*q)) for i in range(n)]\n",
    "        yvecs = [np.reshape(reorg1[i], (dim*q)) for i in range(n)]\n",
    "        \n",
    "        ys_n = yvecs\n",
    "        xs_n = b"
   ]
  },
  {
   "cell_type": "code",
   "execution_count": 13,
   "metadata": {
    "collapsed": true
   },
   "outputs": [],
   "source": [
    "group_1pt = groups"
   ]
  },
  {
   "cell_type": "code",
   "execution_count": 14,
   "metadata": {},
   "outputs": [
    {
     "data": {
      "text/plain": [
       "array([ 0,  1,  2,  3,  4,  5,  6,  7,  8,  9, 10, 11,  0,  1,  2,  3,  4,\n",
       "        5,  6,  7,  8,  9, 10, 11,  0,  1,  2,  3,  4,  5,  6,  7,  8,  9,\n",
       "       10, 11])"
      ]
     },
     "execution_count": 14,
     "metadata": {},
     "output_type": "execute_result"
    }
   ],
   "source": [
    "groups"
   ]
  },
  {
   "cell_type": "code",
   "execution_count": 15,
   "metadata": {},
   "outputs": [],
   "source": [
    "coeffs = [experiment.get_betas_spam2(xs=xs_n[i],ys=ys_n[i], groups = group_1pt, lambdas = lambdas, \n",
    "                                                       n = 1, q = q,\n",
    "                                                       itermax = itermax, tol = tol) for i in range(n)]\n",
    "coeffs = np.asarray(coeffs)"
   ]
  },
  {
   "cell_type": "code",
   "execution_count": 22,
   "metadata": {},
   "outputs": [
    {
     "data": {
      "text/plain": [
       "array([ 0.00000000e+00,  0.00000000e+00, -3.07836250e+05, -3.89076477e+02,\n",
       "        0.00000000e+00,  2.10025742e+04,  3.21480981e+03,  4.80424500e+02,\n",
       "       -1.02456180e+05,  3.47062939e+03,  0.00000000e+00,  4.74001406e+04,\n",
       "       -1.98219004e+04,  0.00000000e+00,  0.00000000e+00,  0.00000000e+00,\n",
       "        0.00000000e+00, -1.01308734e+05, -1.97743698e+02, -9.55063125e+04,\n",
       "        0.00000000e+00,  2.25509875e+05,  0.00000000e+00,  0.00000000e+00,\n",
       "        4.40002258e+02, -3.42316250e+04,  1.53764234e+05,  3.69577531e+05,\n",
       "        1.38140078e+05, -7.88208672e+04, -7.18817578e+04, -9.23792578e+03,\n",
       "        0.00000000e+00, -1.36739672e+05,  0.00000000e+00, -5.17626160e+02,\n",
       "        0.00000000e+00,  0.00000000e+00,  0.00000000e+00, -3.74219656e+05,\n",
       "        0.00000000e+00, -6.76766484e+04, -2.33355774e+02, -5.49177979e+02,\n",
       "       -5.14930195e+04, -8.65156841e+00, -2.24030625e+04, -4.28199512e+03,\n",
       "       -1.23972555e+05, -6.80860750e+05,  0.00000000e+00,  0.00000000e+00,\n",
       "       -7.76553906e+03,  0.00000000e+00, -2.35022984e+05,  0.00000000e+00,\n",
       "        0.00000000e+00, -5.52706688e+05, -4.08600219e+05, -5.25144180e+04,\n",
       "       -2.01705062e+05,  1.14327871e+04, -2.00463633e+04, -4.70863916e+03,\n",
       "       -1.86479211e+03, -3.42855812e+05,  0.00000000e+00,  0.00000000e+00,\n",
       "        0.00000000e+00, -4.14745273e+04,  0.00000000e+00, -1.61541824e+02,\n",
       "       -4.61486206e+02,  0.00000000e+00, -1.85653000e+05, -1.39669287e+04,\n",
       "       -1.66709578e+05,  2.17011084e+03,  0.00000000e+00, -6.63649609e+04,\n",
       "       -9.07706875e+04,  7.85939375e+04,  0.00000000e+00, -1.47364453e+05,\n",
       "        2.00836641e+04,  0.00000000e+00, -4.81749648e+04, -2.46505020e+04,\n",
       "        1.25210791e+03,  0.00000000e+00,  6.25321000e+05, -2.42228223e+04,\n",
       "        0.00000000e+00,  0.00000000e+00,  1.42423701e+00,  0.00000000e+00,\n",
       "       -1.64082617e+04,  0.00000000e+00, -3.52019653e+02,  0.00000000e+00])"
      ]
     },
     "execution_count": 22,
     "metadata": {},
     "output_type": "execute_result"
    }
   ],
   "source": [
    "coeffs[0:100,3,0,0,5]"
   ]
  },
  {
   "cell_type": "code",
   "execution_count": 25,
   "metadata": {},
   "outputs": [
    {
     "data": {
      "text/plain": [
       "array([ 0.00000000e+00, -2.72009395e+04,  0.00000000e+00,  0.00000000e+00,\n",
       "        0.00000000e+00,  0.00000000e+00,  0.00000000e+00,  0.00000000e+00,\n",
       "        0.00000000e+00,  0.00000000e+00,  0.00000000e+00,  0.00000000e+00,\n",
       "        0.00000000e+00,  0.00000000e+00,  0.00000000e+00,  0.00000000e+00,\n",
       "        0.00000000e+00,  0.00000000e+00,  5.35194727e+04,  0.00000000e+00,\n",
       "        0.00000000e+00,  0.00000000e+00,  2.06268094e+05,  0.00000000e+00,\n",
       "        4.74719678e+03, -9.05536621e+02, -1.02535164e+02, -8.21409180e+03,\n",
       "        0.00000000e+00,  0.00000000e+00, -2.79354688e+05,  7.15955469e+04,\n",
       "        0.00000000e+00,  0.00000000e+00,  0.00000000e+00,  0.00000000e+00,\n",
       "        0.00000000e+00,  0.00000000e+00,  0.00000000e+00,  0.00000000e+00,\n",
       "        0.00000000e+00,  0.00000000e+00,  0.00000000e+00,  3.85354156e+01,\n",
       "        0.00000000e+00,  0.00000000e+00,  0.00000000e+00,  0.00000000e+00,\n",
       "        0.00000000e+00,  0.00000000e+00,  0.00000000e+00,  0.00000000e+00,\n",
       "        0.00000000e+00,  0.00000000e+00,  0.00000000e+00,  0.00000000e+00,\n",
       "        0.00000000e+00,  0.00000000e+00,  0.00000000e+00,  0.00000000e+00,\n",
       "        0.00000000e+00,  2.13537578e+05,  0.00000000e+00,  0.00000000e+00,\n",
       "        0.00000000e+00,  0.00000000e+00,  0.00000000e+00,  0.00000000e+00,\n",
       "        0.00000000e+00,  0.00000000e+00,  0.00000000e+00,  0.00000000e+00,\n",
       "        0.00000000e+00,  0.00000000e+00,  0.00000000e+00,  6.84699062e+05,\n",
       "       -5.37045062e+05,  0.00000000e+00,  0.00000000e+00,  0.00000000e+00,\n",
       "        0.00000000e+00,  0.00000000e+00,  0.00000000e+00,  0.00000000e+00,\n",
       "        0.00000000e+00,  0.00000000e+00,  0.00000000e+00,  0.00000000e+00,\n",
       "        0.00000000e+00,  0.00000000e+00,  0.00000000e+00,  0.00000000e+00,\n",
       "        0.00000000e+00,  0.00000000e+00,  0.00000000e+00,  0.00000000e+00,\n",
       "        0.00000000e+00,  0.00000000e+00,  0.00000000e+00,  0.00000000e+00])"
      ]
     },
     "execution_count": 25,
     "metadata": {},
     "output_type": "execute_result"
    }
   ],
   "source": [
    "coeffs[0:100,5,0,0,11]"
   ]
  },
  {
   "cell_type": "code",
   "execution_count": 42,
   "metadata": {},
   "outputs": [
    {
     "data": {
      "text/plain": [
       "array([-130596.21875,       0.     ,       0.     ,       0.     ,\n",
       "             0.     ,   35356.5    ,       0.     ,       0.     ,\n",
       "             0.     ,       0.     ,       0.     ,       0.     ])"
      ]
     },
     "execution_count": 42,
     "metadata": {},
     "output_type": "execute_result"
    }
   ],
   "source": [
    "coeffs[11,6,0,0,:]"
   ]
  },
  {
   "cell_type": "code",
   "execution_count": 21,
   "metadata": {},
   "outputs": [
    {
     "data": {
      "text/plain": [
       "array([0.000e+00, 9.998e-02, 2.512e-01, 6.309e-01, 1.585e+00, 3.980e+00,\n",
       "       1.000e+01, 2.512e+01, 6.309e+01, 1.585e+02, 3.980e+02, 1.000e+03],\n",
       "      dtype=float16)"
      ]
     },
     "execution_count": 21,
     "metadata": {},
     "output_type": "execute_result"
    }
   ],
   "source": [
    "lambdas"
   ]
  },
  {
   "cell_type": "code",
   "execution_count": 17,
   "metadata": {},
   "outputs": [
    {
     "data": {
      "text/plain": [
       "(100, 12, 3, 1, 12)"
      ]
     },
     "execution_count": 17,
     "metadata": {},
     "output_type": "execute_result"
    }
   ],
   "source": [
    "coeffs.shape"
   ]
  },
  {
   "cell_type": "code",
   "execution_count": 20,
   "metadata": {},
   "outputs": [
    {
     "data": {
      "text/plain": [
       "array([4, 0, 2, 8])"
      ]
     },
     "execution_count": 20,
     "metadata": {},
     "output_type": "execute_result"
    }
   ],
   "source": [
    "experiment.atoms4[11]"
   ]
  },
  {
   "cell_type": "code",
   "execution_count": null,
   "metadata": {
    "collapsed": true
   },
   "outputs": [],
   "source": [
    "#5, 11 good"
   ]
  },
  {
   "cell_type": "code",
   "execution_count": 43,
   "metadata": {},
   "outputs": [
    {
     "name": "stdout",
     "output_type": "stream",
     "text": [
      "Help on method compute_penalty2 in module codes.flasso.FlassoExperiment:\n",
      "\n",
      "compute_penalty2(coeffs) method of codes.experimentclasses.EthanolAngles.EthanolAngles instance\n",
      "\n"
     ]
    }
   ],
   "source": [
    "help(experiment.compute_penalty2)"
   ]
  },
  {
   "cell_type": "code",
   "execution_count": 44,
   "metadata": {},
   "outputs": [
    {
     "name": "stderr",
     "output_type": "stream",
     "text": [
      "/Users/samsonkoelle/anaconda3/envs/py35021518/lib/python3.5/site-packages/ipykernel_launcher.py:12: FutureWarning: `rcond` parameter will change to the default of machine precision times ``max(M, N)`` where M and N are the input matrix dimensions.\n",
      "To use the future default and silence this warning we advise to pass `rcond=None`, to keep using the old, explicitly pass `rcond=-1`.\n",
      "  if sys.path[0] == '':\n"
     ]
    }
   ],
   "source": [
    "\n",
    "from itertools import combinations\n",
    "parameterizations_possible = np.asarray(list(combinations(range(experiment.p), dnoise)))\n",
    "nparameterizations_possible = parameterizations_possible.shape[0]\n",
    "def get_penalty(coeffs):\n",
    "    pen = np.sum(np.linalg.norm(brute_coeffs[i,j], axis = 1))\n",
    "    return(pen)\n",
    "brute_coeffs = np.zeros((n, nparameterizations_possible, experiment.dim, experiment.q))\n",
    "orthogonality = np.zeros((n, nparameterizations_possible))\n",
    "for i in range(n):\n",
    "    for j in range(nparameterizations_possible):\n",
    "        brute_coeffs[i,j] = np.linalg.lstsq(experiment.dg_M[i,parameterizations_possible[j],:],experiment.df_M[i])[0]\n",
    "        orthogonality[i,j] = get_penalty(brute_coeffs[i,j])"
   ]
  },
  {
   "cell_type": "code",
   "execution_count": 52,
   "metadata": {},
   "outputs": [
    {
     "data": {
      "text/plain": [
       "array([10, 20, 29, 50, 42, 27, 37, 36, 35, 54, 49, 18, 48, 19, 41, 43,  8,\n",
       "       55, 60, 28, 13, 53,  7, 21,  4, 44, 38, 24,  9, 15, 31, 14, 45, 39,\n",
       "       61,  3, 12, 17, 26,  5, 34,  1, 32,  0, 62, 64, 52,  2, 47, 58, 30,\n",
       "       63, 57, 22, 65, 59, 11, 16, 56, 51, 23,  6, 25, 40, 46, 33])"
      ]
     },
     "execution_count": 52,
     "metadata": {},
     "output_type": "execute_result"
    }
   ],
   "source": [
    "orthogonality.sum(axis = 0).argsort()"
   ]
  },
  {
   "cell_type": "code",
   "execution_count": 64,
   "metadata": {
    "collapsed": true
   },
   "outputs": [],
   "source": [
    "orthoc = orthogonality.sum(axis = 0).copy()"
   ]
  },
  {
   "cell_type": "code",
   "execution_count": 65,
   "metadata": {
    "collapsed": true
   },
   "outputs": [],
   "source": [
    "orthoc.sort()"
   ]
  },
  {
   "cell_type": "code",
   "execution_count": 73,
   "metadata": {},
   "outputs": [],
   "source": [
    "import matplotlib.pyplot as plt"
   ]
  },
  {
   "cell_type": "code",
   "execution_count": 75,
   "metadata": {},
   "outputs": [
    {
     "data": {
      "text/plain": [
       "array([[3.12979709e+05, 3.76493554e+05, 4.18816246e+05, ...,\n",
       "        9.86875185e+07, 1.59211065e+08, 4.38952097e+09],\n",
       "       [1.48028060e+06, 1.50880075e+06, 1.55059182e+06, ...,\n",
       "        3.10119351e+08, 6.21622706e+08, 1.55539704e+09],\n",
       "       [4.80161396e+06, 4.90987064e+06, 4.96423576e+06, ...,\n",
       "        5.58224132e+08, 6.03912040e+08, 2.38662017e+09],\n",
       "       ...,\n",
       "       [1.16117706e+06, 1.70902752e+06, 1.76955469e+06, ...,\n",
       "        1.57084123e+08, 5.58442700e+08, 6.64604363e+08],\n",
       "       [1.34761907e+06, 1.96775259e+06, 1.97407691e+06, ...,\n",
       "        1.01886947e+08, 2.90448768e+09, 4.08430866e+09],\n",
       "       [1.28634835e+06, 1.30407609e+06, 1.34459807e+06, ...,\n",
       "        2.06135342e+09, 2.59663950e+09, 1.35933222e+10]])"
      ]
     },
     "execution_count": 75,
     "metadata": {},
     "output_type": "execute_result"
    }
   ],
   "source": [
    "orthoc"
   ]
  },
  {
   "cell_type": "code",
   "execution_count": 74,
   "metadata": {},
   "outputs": [
    {
     "ename": "ValueError",
     "evalue": "x and y must be the same size",
     "output_type": "error",
     "traceback": [
      "\u001b[0;31m---------------------------------------------------------------------------\u001b[0m",
      "\u001b[0;31mValueError\u001b[0m                                Traceback (most recent call last)",
      "\u001b[0;32m<ipython-input-74-d77463c37a44>\u001b[0m in \u001b[0;36m<module>\u001b[0;34m()\u001b[0m\n\u001b[0;32m----> 1\u001b[0;31m \u001b[0mplt\u001b[0m\u001b[0;34m.\u001b[0m\u001b[0mscatter\u001b[0m\u001b[0;34m(\u001b[0m\u001b[0mnp\u001b[0m\u001b[0;34m.\u001b[0m\u001b[0mlinspace\u001b[0m\u001b[0;34m(\u001b[0m\u001b[0;36m0\u001b[0m\u001b[0;34m,\u001b[0m\u001b[0mlen\u001b[0m\u001b[0;34m(\u001b[0m\u001b[0morthoc\u001b[0m\u001b[0;34m)\u001b[0m\u001b[0;34m-\u001b[0m\u001b[0;36m1\u001b[0m\u001b[0;34m,\u001b[0m\u001b[0mlen\u001b[0m\u001b[0;34m(\u001b[0m\u001b[0morthoc\u001b[0m\u001b[0;34m)\u001b[0m \u001b[0;34m)\u001b[0m\u001b[0;34m,\u001b[0m\u001b[0morthoc\u001b[0m\u001b[0;34m)\u001b[0m\u001b[0;34m\u001b[0m\u001b[0m\n\u001b[0m",
      "\u001b[0;32m~/anaconda3/envs/py35021518/lib/python3.5/site-packages/matplotlib/pyplot.py\u001b[0m in \u001b[0;36mscatter\u001b[0;34m(x, y, s, c, marker, cmap, norm, vmin, vmax, alpha, linewidths, verts, edgecolors, hold, data, **kwargs)\u001b[0m\n\u001b[1;32m   3376\u001b[0m                          \u001b[0mvmin\u001b[0m\u001b[0;34m=\u001b[0m\u001b[0mvmin\u001b[0m\u001b[0;34m,\u001b[0m \u001b[0mvmax\u001b[0m\u001b[0;34m=\u001b[0m\u001b[0mvmax\u001b[0m\u001b[0;34m,\u001b[0m \u001b[0malpha\u001b[0m\u001b[0;34m=\u001b[0m\u001b[0malpha\u001b[0m\u001b[0;34m,\u001b[0m\u001b[0;34m\u001b[0m\u001b[0m\n\u001b[1;32m   3377\u001b[0m                          \u001b[0mlinewidths\u001b[0m\u001b[0;34m=\u001b[0m\u001b[0mlinewidths\u001b[0m\u001b[0;34m,\u001b[0m \u001b[0mverts\u001b[0m\u001b[0;34m=\u001b[0m\u001b[0mverts\u001b[0m\u001b[0;34m,\u001b[0m\u001b[0;34m\u001b[0m\u001b[0m\n\u001b[0;32m-> 3378\u001b[0;31m                          edgecolors=edgecolors, data=data, **kwargs)\n\u001b[0m\u001b[1;32m   3379\u001b[0m     \u001b[0;32mfinally\u001b[0m\u001b[0;34m:\u001b[0m\u001b[0;34m\u001b[0m\u001b[0m\n\u001b[1;32m   3380\u001b[0m         \u001b[0max\u001b[0m\u001b[0;34m.\u001b[0m\u001b[0m_hold\u001b[0m \u001b[0;34m=\u001b[0m \u001b[0mwashold\u001b[0m\u001b[0;34m\u001b[0m\u001b[0m\n",
      "\u001b[0;32m~/anaconda3/envs/py35021518/lib/python3.5/site-packages/matplotlib/__init__.py\u001b[0m in \u001b[0;36minner\u001b[0;34m(ax, *args, **kwargs)\u001b[0m\n\u001b[1;32m   1715\u001b[0m                     warnings.warn(msg % (label_namer, func.__name__),\n\u001b[1;32m   1716\u001b[0m                                   RuntimeWarning, stacklevel=2)\n\u001b[0;32m-> 1717\u001b[0;31m             \u001b[0;32mreturn\u001b[0m \u001b[0mfunc\u001b[0m\u001b[0;34m(\u001b[0m\u001b[0max\u001b[0m\u001b[0;34m,\u001b[0m \u001b[0;34m*\u001b[0m\u001b[0margs\u001b[0m\u001b[0;34m,\u001b[0m \u001b[0;34m**\u001b[0m\u001b[0mkwargs\u001b[0m\u001b[0;34m)\u001b[0m\u001b[0;34m\u001b[0m\u001b[0m\n\u001b[0m\u001b[1;32m   1718\u001b[0m         \u001b[0mpre_doc\u001b[0m \u001b[0;34m=\u001b[0m \u001b[0minner\u001b[0m\u001b[0;34m.\u001b[0m\u001b[0m__doc__\u001b[0m\u001b[0;34m\u001b[0m\u001b[0m\n\u001b[1;32m   1719\u001b[0m         \u001b[0;32mif\u001b[0m \u001b[0mpre_doc\u001b[0m \u001b[0;32mis\u001b[0m \u001b[0;32mNone\u001b[0m\u001b[0;34m:\u001b[0m\u001b[0;34m\u001b[0m\u001b[0m\n",
      "\u001b[0;32m~/anaconda3/envs/py35021518/lib/python3.5/site-packages/matplotlib/axes/_axes.py\u001b[0m in \u001b[0;36mscatter\u001b[0;34m(self, x, y, s, c, marker, cmap, norm, vmin, vmax, alpha, linewidths, verts, edgecolors, **kwargs)\u001b[0m\n\u001b[1;32m   3953\u001b[0m         \u001b[0my\u001b[0m \u001b[0;34m=\u001b[0m \u001b[0mnp\u001b[0m\u001b[0;34m.\u001b[0m\u001b[0mma\u001b[0m\u001b[0;34m.\u001b[0m\u001b[0mravel\u001b[0m\u001b[0;34m(\u001b[0m\u001b[0my\u001b[0m\u001b[0;34m)\u001b[0m\u001b[0;34m\u001b[0m\u001b[0m\n\u001b[1;32m   3954\u001b[0m         \u001b[0;32mif\u001b[0m \u001b[0mx\u001b[0m\u001b[0;34m.\u001b[0m\u001b[0msize\u001b[0m \u001b[0;34m!=\u001b[0m \u001b[0my\u001b[0m\u001b[0;34m.\u001b[0m\u001b[0msize\u001b[0m\u001b[0;34m:\u001b[0m\u001b[0;34m\u001b[0m\u001b[0m\n\u001b[0;32m-> 3955\u001b[0;31m             \u001b[0;32mraise\u001b[0m \u001b[0mValueError\u001b[0m\u001b[0;34m(\u001b[0m\u001b[0;34m\"x and y must be the same size\"\u001b[0m\u001b[0;34m)\u001b[0m\u001b[0;34m\u001b[0m\u001b[0m\n\u001b[0m\u001b[1;32m   3956\u001b[0m \u001b[0;34m\u001b[0m\u001b[0m\n\u001b[1;32m   3957\u001b[0m         \u001b[0;32mif\u001b[0m \u001b[0ms\u001b[0m \u001b[0;32mis\u001b[0m \u001b[0;32mNone\u001b[0m\u001b[0;34m:\u001b[0m\u001b[0;34m\u001b[0m\u001b[0m\n",
      "\u001b[0;31mValueError\u001b[0m: x and y must be the same size"
     ]
    }
   ],
   "source": [
    "plt.scatter(np.linspace(0,len(orthoc)-1,len(orthoc) ),orthoc)"
   ]
  },
  {
   "cell_type": "code",
   "execution_count": 70,
   "metadata": {},
   "outputs": [
    {
     "data": {
      "text/plain": [
       "array([ 0.,  1.,  2.,  3.,  4.,  5.,  6.,  7.,  8.,  9., 10., 11., 12.,\n",
       "       13., 14., 15., 16., 17., 18., 19., 20., 21., 22., 23., 24., 25.,\n",
       "       26., 27., 28., 29., 30., 31., 32., 33., 34., 35., 36., 37., 38.,\n",
       "       39., 40., 41., 42., 43., 44., 45., 46., 47., 48., 49., 50., 51.,\n",
       "       52., 53., 54., 55., 56., 57., 58., 59., 60., 61., 62., 63., 64.,\n",
       "       65., 66., 67., 68., 69., 70., 71., 72., 73., 74., 75., 76., 77.,\n",
       "       78., 79., 80., 81., 82., 83., 84., 85., 86., 87., 88., 89., 90.,\n",
       "       91., 92., 93., 94., 95., 96., 97., 98., 99.])"
      ]
     },
     "execution_count": 70,
     "metadata": {},
     "output_type": "execute_result"
    }
   ],
   "source": [
    "np.linspace(0,len(orthoc)-1,len(orthoc) )"
   ]
  },
  {
   "cell_type": "code",
   "execution_count": 55,
   "metadata": {},
   "outputs": [
    {
     "data": {
      "text/plain": [
       "array([ 0, 11])"
      ]
     },
     "execution_count": 55,
     "metadata": {},
     "output_type": "execute_result"
    }
   ],
   "source": [
    "parameterizations_possible[10]"
   ]
  },
  {
   "cell_type": "code",
   "execution_count": 57,
   "metadata": {},
   "outputs": [
    {
     "data": {
      "text/plain": [
       "array([[2, 0, 1, 5],\n",
       "       [4, 0, 2, 8]])"
      ]
     },
     "execution_count": 57,
     "metadata": {},
     "output_type": "execute_result"
    }
   ],
   "source": [
    "experiment.atoms4[parameterizations_possible[10]]"
   ]
  },
  {
   "cell_type": "code",
   "execution_count": 60,
   "metadata": {},
   "outputs": [],
   "source": [
    "#experiment.atoms4"
   ]
  },
  {
   "cell_type": "code",
   "execution_count": 63,
   "metadata": {},
   "outputs": [
    {
     "data": {
      "text/plain": [
       "array([ 5, 11])"
      ]
     },
     "execution_count": 63,
     "metadata": {},
     "output_type": "execute_result"
    }
   ],
   "source": [
    "parameterizations_possible[50]"
   ]
  },
  {
   "cell_type": "code",
   "execution_count": null,
   "metadata": {
    "collapsed": true
   },
   "outputs": [],
   "source": [
    "#[6,1,0,4],[4,0,2,8]"
   ]
  }
 ],
 "metadata": {
  "kernelspec": {
   "display_name": "python35megaman03",
   "language": "python",
   "name": "python35megaman03"
  },
  "language_info": {
   "codemirror_mode": {
    "name": "ipython",
    "version": 3
   },
   "file_extension": ".py",
   "mimetype": "text/x-python",
   "name": "python",
   "nbconvert_exporter": "python",
   "pygments_lexer": "ipython3",
   "version": "3.5.5"
  }
 },
 "nbformat": 4,
 "nbformat_minor": 2
}
