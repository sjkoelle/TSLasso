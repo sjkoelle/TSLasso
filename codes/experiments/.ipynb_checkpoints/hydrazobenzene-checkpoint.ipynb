{
 "cells": [
  {
   "cell_type": "code",
   "execution_count": 1,
   "metadata": {
    "collapsed": true
   },
   "outputs": [],
   "source": [
    "import matplotlib\n",
    "matplotlib.use('Agg')\n",
    "import os\n",
    "import datetime\n",
    "import numpy as np\n",
    "import dill as pickle\n",
    "import random\n",
    "import sys\n",
    "\n",
    "workingdirectory = os.popen('git rev-parse --show-toplevel').read()[:-1]\n",
    "sys.path.append(workingdirectory)\n",
    "os.chdir(workingdirectory)\n",
    "\n",
    "from codes.geometer.RiemannianManifold import RiemannianManifold"
   ]
  },
  {
   "cell_type": "code",
   "execution_count": 4,
   "metadata": {},
   "outputs": [],
   "source": [
    "asdf = np.load('/Users/samsonkoelle/Desktop/hydrazobenzene_anglespca_pca50.npy')\n",
    "b = RiemannianManifold(asdf,2)\n"
   ]
  },
  {
   "cell_type": "code",
   "execution_count": 14,
   "metadata": {},
   "outputs": [
    {
     "name": "stdout",
     "output_type": "stream",
     "text": [
      "initializing Geometry\n",
      "executing laplacian.compute_laplacian_matrix\n",
      "executing Laplacian.laplacian_matrix\n",
      "pre _compute_laplacian\n",
      "executing GeometricLaplacian._compute_laplacian\n",
      "executing _normalize_laplacian\n",
      "executing _normalize_laplacian\n",
      "post _compute_laplacian\n",
      "executing laplacian.compute_laplacian_matrix\n",
      "executing Laplacian.laplacian_matrix\n",
      "pre _compute_laplacian\n",
      "executing GeometricLaplacian._compute_laplacian\n",
      "executing _normalize_laplacian\n",
      "executing _normalize_laplacian\n",
      "post _compute_laplacian\n"
     ]
    },
    {
     "name": "stderr",
     "output_type": "stream",
     "text": [
      "/Users/samsonkoelle/anaconda3/envs/py35021518/lib/python3.5/site-packages/megaman/geometry/rmetric.py:95: RuntimeWarning: divide by zero encountered in reciprocal\n",
      "  Einv = E**(-1)\n"
     ]
    }
   ],
   "source": [
    "diffusion_time = 6\n",
    "dim = 2\n",
    "b.geom = b.compute_geom(diffusion_time, 1000)\n",
    "c = b.get_embedding3(b.geom, 5, diffusion_time, dim)"
   ]
  },
  {
   "cell_type": "code",
   "execution_count": 15,
   "metadata": {},
   "outputs": [
    {
     "data": {
      "image/png": "[encoded data removed]",
      "text/plain": [
       "<matplotlib.figure.Figure at 0x121f0c278>"
      ]
     },
     "metadata": {},
     "output_type": "display_data"
    }
   ],
   "source": [
    "%matplotlib inline\n",
    "n = c.data.shape[0]\n",
    "c.plot([0,1],list(range(n)),np.ones(n), .1,.1, None)"
   ]
  },
  {
   "cell_type": "code",
   "execution_count": 16,
   "metadata": {},
   "outputs": [
    {
     "data": {
      "image/png": "[encoded data removed]",
      "text/plain": [
       "<matplotlib.figure.Figure at 0x11142ec88>"
      ]
     },
     "metadata": {},
     "output_type": "display_data"
    }
   ],
   "source": [
    "%matplotlib inline\n",
    "n = c.data.shape[0]\n",
    "c.plot([0,1],list(range(n)),np.ones(n), .1,.1, None)"
   ]
  },
  {
   "cell_type": "code",
   "execution_count": null,
   "metadata": {
    "collapsed": true
   },
   "outputs": [],
   "source": []
  }
 ],
 "metadata": {
  "kernelspec": {
   "display_name": "python35megaman03",
   "language": "python",
   "name": "python35megaman03"
  },
  "language_info": {
   "codemirror_mode": {
    "name": "ipython",
    "version": 3
   },
   "file_extension": ".py",
   "mimetype": "text/x-python",
   "name": "python",
   "nbconvert_exporter": "python",
   "pygments_lexer": "ipython3",
   "version": "3.5.5"
  }
 },
 "nbformat": 4,
 "nbformat_minor": 2
}
